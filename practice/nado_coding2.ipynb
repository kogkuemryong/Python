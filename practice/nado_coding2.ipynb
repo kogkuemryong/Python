{
 "cells": [
  {
   "cell_type": "code",
   "execution_count": 2,
   "metadata": {},
   "outputs": [
    {
     "name": "stdout",
     "output_type": "stream",
     "text": [
      "새로운 계좌가 출력되었습니다.\n"
     ]
    }
   ],
   "source": [
    "# 함수 \n",
    "\n",
    "def open_account():\n",
    "    print('새로운 계좌가 출력되었습니다.')\n",
    "    \n",
    "open_account()    \n",
    "\n"
   ]
  },
  {
   "cell_type": "code",
   "execution_count": 18,
   "metadata": {},
   "outputs": [
    {
     "name": "stdout",
     "output_type": "stream",
     "text": [
      "입급이 완료되었습니다. 잔액은 1000 원입니다.\n",
      "수수료 100원이고, 잔액은 400 원 입니다.\n"
     ]
    }
   ],
   "source": [
    "# 전달값과 반환값 \n",
    "\n",
    "def deposit(balance, money):\n",
    "    print('입급이 완료되었습니다. 잔액은 {0} 원입니다.'.format(balance+money))\n",
    "    return balance + money\n",
    "\n",
    "def withdraw(balance, money):\n",
    "    if balance >= money :\n",
    "        print('출금이 완료 되었습니다. 잔액은 {0}원 입니다.'.format(balance-money))\n",
    "        return balance - money\n",
    "    else:\n",
    "        print('잔액이 부족합니다. 현재 잔액은 {0}원 입니다.'.format(balance))\n",
    "        return balance\n",
    "    \n",
    "def withdraw_night(balance, money): # 저녁에 출금 (수수료)\n",
    "    commition = 100 # 수수료 값 100원 \n",
    "    return commition, balance - (money+commition) # 두개의 값을 (,)로 구분하여 반환\n",
    "\n",
    "\n",
    "balance = 0 # 잔액 \n",
    "balance = deposit(balance, 1000)\n",
    "#balance = withdraw(balance, 2000)\n",
    "#balance = withdraw(balance, 500)    \n",
    "commition, balance = withdraw_night(balance,500)\n",
    "print('수수료 {0}원이고, 잔액은 {1} 원 입니다.'.format(commition, balance)) \n",
    "# (100, 400) - commition , balance - (money+commition)\n",
    "\n"
   ]
  },
  {
   "cell_type": "code",
   "execution_count": 21,
   "metadata": {},
   "outputs": [
    {
     "name": "stdout",
     "output_type": "stream",
     "text": [
      "이름 : 유재석\t나이 : 17\t주 사용 언어 : 파이썬\n",
      "이름 : 김태우\t나이 : 17\t주 사용 언어 : 파이썬\n"
     ]
    }
   ],
   "source": [
    "# 기본값 (설정)\n",
    "\n",
    "# def profile(name , age, main_lang):\n",
    "#     print('이름 : {0}\\t나이 : {1}\\t주 사용 언어 : {2}'\\\n",
    "#           .format(name, age, main_lang))\n",
    "\n",
    "# profile('유재석', 20, '파이썬')\n",
    "# profile('김태호', 25, '자바' )\n",
    "\n",
    "# 같은 학교 같은 학년 같은 반 같은 수업 - 나이와 랭기지 동일 \n",
    "# 기본값\n",
    "def profile(name , age=17, main_lang='파이썬'):\n",
    "    print('이름 : {0}\\t나이 : {1}\\t주 사용 언어 : {2}'\\\n",
    "          .format(name, age, main_lang))\n",
    "profile('유재석')\n",
    "profile('김태우')"
   ]
  },
  {
   "cell_type": "code",
   "execution_count": 26,
   "metadata": {},
   "outputs": [
    {
     "name": "stdout",
     "output_type": "stream",
     "text": [
      "유재석 20  파이썬\n",
      "김태호 35 JAVA\n"
     ]
    }
   ],
   "source": [
    "# 키워드\n",
    "def profile(name , age, main_lang):\n",
    "    print(name, age, main_lang)\n",
    "\n",
    "profile('유재석', 20, ' 파이썬')\n",
    "profile(name = '김태호', main_lang = 'JAVA', age=35)"
   ]
  },
  {
   "cell_type": "code",
   "execution_count": 37,
   "metadata": {},
   "outputs": [
    {
     "name": "stdout",
     "output_type": "stream",
     "text": [
      "이름 :유재석\t나이 : 20\t Python Java C C++ C# JavaScript \n",
      "이름 :김태호\t나이 : 25\t kotlin swift \n"
     ]
    }
   ],
   "source": [
    "# 가변 인자 \n",
    "# def profile(name , age, lang1, lang2, lang3, lang4, lang5):\n",
    "#     print('이름 :{0}\\t나이 : {1}\\t'.format(name, age), end=' ') # end=' ' 줄바꿈 하지 않고 그대로 끝냄\n",
    "#     print(lang1, lang2, lang3, lang4, lang5)\n",
    "#     # 이렇게 하면 한줄에 다 출력된다. \n",
    "    \n",
    "# profile('유재석', 20,'Python', 'Java', 'C', 'C++','C#')  \n",
    "# profile('김태호', 25, 'kotlin', 'swift','','','')\n",
    "\n",
    "# 유재석이 추가적으로 언어를 배우면 함수를 변경해야하고, \n",
    "# 김태호 외의 다른 사람을 입력할 때, 언어가 적으면 항상 ''의 값으로 넣기 불편하다,\n",
    "\n",
    "def profile(name , age, *language):\n",
    "    print('이름 :{0}\\t나이 : {1}\\t'.format(name, age), end=' ') # end=' ' 줄바꿈 하지 않고 그대로 끝냄\n",
    "    for lang in language:\n",
    "        print(lang, end=' ') # 한줄에 나오게 하기 위함\n",
    "    print()  # 다음 것이 호출 될 때 줄을 바꾸기 위함. \n",
    "    \n",
    "profile('유재석', 20,'Python', 'Java', 'C', 'C++','C#', 'JavaScript')  \n",
    "profile('김태호', 25, 'kotlin', 'swift')\n",
    "    "
   ]
  },
  {
   "cell_type": "code",
   "execution_count": 44,
   "metadata": {
    "scrolled": true
   },
   "outputs": [
    {
     "name": "stdout",
     "output_type": "stream",
     "text": [
      "전체 총 : 10\n",
      "전체 총 : 10\n",
      "함수 내 남은 총 : 8\n",
      "남은 총 8\n"
     ]
    }
   ],
   "source": [
    "# 지역변수와 전역변수 \n",
    "\n",
    "gun = 10\n",
    "\n",
    "def checkpoint(soldiers): # 경계근무\n",
    "    # gun =20\n",
    "    global gun # 전역 공간에 있는 gun 사용 \n",
    "    gun = gun - soldiers\n",
    "    print('함수 내 남은 총 : {0}'.format(gun))\n",
    "    \n",
    "    \n",
    "def checkpoint_ret(gun, soliders):\n",
    "    gun = gun - soliders\n",
    "    print('함수 내 남은 총 : {0}'.format(gun))\n",
    "    return gun # 변경 값을 내보낸다. \n",
    "    \n",
    "print('전체 총 : {0}'.format(gun))    \n",
    "# checkpoint(2) # 2명이 경계 근무 나감\n",
    "\n",
    "print('전체 총 : {0}'.format(gun)) # 지역 변수 사용으로  error \n",
    "# - 지역변수와 전역 변수가 다를 떄.\n",
    "# 함수 내 남은 총 : 18 - 지역변수\n",
    "# 전체 총 : 10 - 전역 변수 \n",
    "\n",
    "# - global 사용 : 전역 공간에 잇는 gun 사용\n",
    "# 함수 내 남은 총 : 8\n",
    "# 전체 총 : 8\n",
    "\n",
    "# 함수의 전달 값으로 파라미터로 사용해서 반환값을 사용 \n",
    "\n",
    "gun = checkpoint_ret(gun, 2)\n",
    "print('남은 총 {0}'.forma t(gun))"
   ]
  },
  {
   "cell_type": "code",
   "execution_count": 63,
   "metadata": {},
   "outputs": [
    {
     "name": "stdout",
     "output_type": "stream",
     "text": [
      "키 175cm 여자의 표준 체중은 73.50kg 입니다.\n",
      "키 175cm 남자의 표준 체중은 77.00kg 입니다.\n"
     ]
    }
   ],
   "source": [
    "# Quiz) 표준체중을 구하는 프로그램 작성\n",
    "\n",
    "\"\"\"\n",
    "* 표준 체중 : 각 개인의 키에 적당함 체중\n",
    "\n",
    "(성별에 따른 공식)\n",
    "    남자 : 키 x 키 x 22\n",
    "    여자 : 키 x 키 x 21\n",
    "    \n",
    "조건1 : 표준 체중은 별도의 함수 내에서 계산\n",
    "    * 함수명 : str_weight\n",
    "    * 전달값 : 키(height), 성별(gender)\n",
    "    \n",
    "조건2 : 표준 체중은 소주점 둘째까지 표시     \n",
    "\n",
    "\"\"\"\n",
    "\n",
    "def str_weight(height, gender):\n",
    "    if gender == '남자':\n",
    "        weight = (height/100)*2*22\n",
    "        print('키 {0}cm {1}의 표준 체중은 {2:.2f}kg 입니다.'.format(height,gender,weight)) \n",
    "        \n",
    "    elif gender == '여자':\n",
    "        weight = (height/100)*2*21\n",
    "        print('키 {0}cm {1}의 표준 체중은 {2:.2f}kg 입니다.'.format(height,gender,weight)) \n",
    "        \n",
    "        \n",
    "semmi=str_weight(175,'여자')    \n",
    "semin=str_weight(175,'남자')    \n",
    "        \n",
    "        \n",
    "        "
   ]
  },
  {
   "cell_type": "code",
   "execution_count": 9,
   "metadata": {},
   "outputs": [
    {
     "name": "stdout",
     "output_type": "stream",
     "text": [
      "파이썬java\n",
      "파이썬 java\n",
      "파이썬,java\n",
      "파이썬 vs java vs javascript\n",
      "파이썬 java?무엇이 더 재미있을까요?\n"
     ]
    }
   ],
   "source": [
    "# 표준 입출력 \n",
    "print('파이썬' + 'java')\n",
    "print('파이썬' , 'java')\n",
    "print('파이썬' , 'java', sep = ',') # sep = 를 통해서 중간에 무엇을 넣을지 보여준다.\n",
    "print('파이썬' , 'java', 'javascript', sep = ' vs ') \n",
    "print('파이썬' , 'java', end = '?') # end = 뒤에 있는 문장이 연달아서 나올 수 있도록 함 \n",
    "print('무엇이 더 재미있을까요?')"
   ]
  },
  {
   "cell_type": "code",
   "execution_count": 10,
   "metadata": {},
   "outputs": [
    {
     "name": "stdout",
     "output_type": "stream",
     "text": [
      "파이썬 java\n"
     ]
    },
    {
     "name": "stderr",
     "output_type": "stream",
     "text": [
      "파이썬 java\n"
     ]
    }
   ],
   "source": [
    "import sys \n",
    "print('파이썬' , 'java', file = sys.stdout) # 표준 출력로 출력 \n",
    "print('파이썬' , 'java', file = sys.stderr) # 표준 error 로 출력"
   ]
  },
  {
   "cell_type": "code",
   "execution_count": 26,
   "metadata": {},
   "outputs": [
    {
     "name": "stdout",
     "output_type": "stream",
     "text": [
      "수학   :   0\n",
      "영어   :  50\n",
      "코딩   : 100\n"
     ]
    }
   ],
   "source": [
    "# 시험 성적\n",
    "score = {'수학':0, '영어':50, '코딩':100}\n",
    "\n",
    "# .itmes() 딕셔너리에서의 key, value의 값이 함께 튜플로 보내준다. \n",
    "for subject, score in score.items(): \n",
    "    #print(subject, score)\n",
    "    print(subject.ljust(5), str(score).rjust(4) , sep =':')\n",
    "    # ljust(5) : 5칸을 확보하고 왼쪽 정렬\n",
    "    # rjust(4) : 4칸을 확보하고 오른쪽 정렬"
   ]
  },
  {
   "cell_type": "code",
   "execution_count": 31,
   "metadata": {},
   "outputs": [
    {
     "name": "stdout",
     "output_type": "stream",
     "text": [
      "대기번호 : 001\n",
      "대기번호 : 002\n",
      "대기번호 : 003\n",
      "대기번호 : 004\n",
      "대기번호 : 005\n",
      "대기번호 : 006\n",
      "대기번호 : 007\n",
      "대기번호 : 008\n",
      "대기번호 : 009\n",
      "대기번호 : 010\n",
      "대기번호 : 011\n",
      "대기번호 : 012\n",
      "대기번호 : 013\n",
      "대기번호 : 014\n",
      "대기번호 : 015\n",
      "대기번호 : 016\n",
      "대기번호 : 017\n",
      "대기번호 : 018\n",
      "대기번호 : 019\n",
      "대기번호 : 020\n"
     ]
    }
   ],
   "source": [
    "# 은행 대기 순번표\n",
    "# 001, 002,003, ...\n",
    "\n",
    "for num in range(1,21):\n",
    "    print('대기번호 : ' +  str(num).zfill(3))\n",
    "    # zfill(3) : 3만큼 확보를 하고 빈공간을 0으로 채운다. "
   ]
  },
  {
   "cell_type": "code",
   "execution_count": 34,
   "metadata": {},
   "outputs": [
    {
     "name": "stdout",
     "output_type": "stream",
     "text": [
      "아무 값이나 입력하세요: 123\n",
      "입력하신 값은 123 입니다.\n",
      "<class 'str'>\n"
     ]
    }
   ],
   "source": [
    "answer = input('아무 값이나 입력하세요: ')\n",
    "print('입력하신 값은 {0} 입니다.'.format(answer))\n",
    "print(type(answer))\n",
    "\n",
    "# 사용자 입력을 통해서 입력된 값은 항상 문자열 형태로 저장된다. "
   ]
  },
  {
   "cell_type": "code",
   "execution_count": 59,
   "metadata": {},
   "outputs": [
    {
     "name": "stdout",
     "output_type": "stream",
     "text": [
      "       500\n",
      "      +500\n",
      "      -500\n",
      "+500______\n",
      "500_______\n",
      "1,000,000,000,000\n",
      "+10,000,000,000\n",
      "-10,000,000,000\n",
      "+10,000,000,000^^^^^^^^^^^^^^^\n",
      "100.00\n"
     ]
    }
   ],
   "source": [
    "# 다양한 출력 포멧 \n",
    "\n",
    "# 빈 자리는 빈공간으로 두고, 오른쪽 정렬을 하되, 총 10자리 공간을 확보\n",
    "print('{0: >10}'.format(500))\n",
    "\n",
    "# 양수 일 땐 + 로 표시, 음수일 땐 -로 표시 \n",
    "print('{0: >+10}'.format(500))\n",
    "print('{0: >+10}'.format(-500))\n",
    "\n",
    "# 왼쪽 정렬하고, 빈칸을 _로 채움\n",
    "print('{0:_<+10}'.format(500))\n",
    "print('{0:_<10}'.format(500))\n",
    "\n",
    "# 3자리 마다 콤마를 찍어주기\n",
    "print('{0:,}'.format(1000000000000))\n",
    "\n",
    "# 3자리 마다 콤마를 찍어주기 , + - 부호도 붙이기\n",
    "print('{0:+,}'.format(10000000000))\n",
    "print('{0:+,}'.format(-10000000000))\n",
    "\n",
    "# 3자리 마다 콤마를 찍어주기 , + - 부호도 붙이기 , 자릿수 확보하기, 빈 자리는 ^로 넣기\n",
    "print('{0:^<+30,}'.format(10000000000))\n",
    "\n",
    "# 소수점 출력 하기 \n",
    "print('{0:.2f}'.format(100))\n"
   ]
  },
  {
   "cell_type": "code",
   "execution_count": 62,
   "metadata": {},
   "outputs": [],
   "source": [
    "# 파일 입출력 \n",
    "score_file = open('score.txt', 'w', encoding = 'utf8') # w : 쓰기 \n",
    "print('수학 : 0', file = score_file)\n",
    "print('영어 : 50', file = score_file)\n",
    "score_file.close()"
   ]
  },
  {
   "cell_type": "code",
   "execution_count": 64,
   "metadata": {},
   "outputs": [],
   "source": [
    "score_file = open('score.txt', 'a', encoding = 'utf8') # a(append) : 이어서 쓰기 \n",
    "score_file.write('과학: 80')\n",
    "score_file.write('\\n코딩: 100')\n",
    "score_file.close()"
   ]
  },
  {
   "cell_type": "code",
   "execution_count": 67,
   "metadata": {},
   "outputs": [
    {
     "name": "stdout",
     "output_type": "stream",
     "text": [
      "수학 : 0\n",
      "영어 : 50\n",
      "과학: 80\n",
      "코딩: 100\n"
     ]
    }
   ],
   "source": [
    "score_file = open('score.txt', 'r', encoding = 'utf8') # r : 읽기 전용\n",
    "print(score_file.read()) # 데이터의 모든 내용 읽어오기\n",
    "score_file.close()"
   ]
  },
  {
   "cell_type": "code",
   "execution_count": 71,
   "metadata": {},
   "outputs": [
    {
     "name": "stdout",
     "output_type": "stream",
     "text": [
      "수학 : 0\n",
      "\n",
      "영어 : 50\n",
      "\n",
      "과학: 80\n",
      "\n",
      "코딩: 100\n"
     ]
    }
   ],
   "source": [
    "# 한줄씩 불러오기\n",
    "\n",
    "score_file = open('score.txt', 'r', encoding = 'utf8') # r : 읽기 전용\n",
    "print(score_file.readline()) #  줄별로 읽기, 한 줄 읽고 커서는 다음 줄로 이동\n",
    "print(score_file.readline())\n",
    "print(score_file.readline())\n",
    "print(score_file.readline())\n",
    "score_file.close()"
   ]
  },
  {
   "cell_type": "code",
   "execution_count": 74,
   "metadata": {},
   "outputs": [
    {
     "name": "stdout",
     "output_type": "stream",
     "text": [
      "수학 : 0\n",
      "영어 : 50\n",
      "과학: 80\n",
      "코딩: 100"
     ]
    }
   ],
   "source": [
    "# 몇줄인지 모를 때. \n",
    "score_file = open('score.txt', 'r', encoding = 'utf8') # r : 읽기 전용\n",
    "while True:\n",
    "    line = score_file.readline() # 라인을 읽음\n",
    "    if not line: # 라인이 없으면 반복문 탈출 \n",
    "        break\n",
    "    print(line, end ='')\n",
    "    \n",
    "score_file.close()    "
   ]
  },
  {
   "cell_type": "code",
   "execution_count": 77,
   "metadata": {},
   "outputs": [
    {
     "name": "stdout",
     "output_type": "stream",
     "text": [
      "수학 : 0\n",
      "영어 : 50\n",
      "과학: 80\n",
      "코딩: 100"
     ]
    }
   ],
   "source": [
    "score_file = open('score.txt', 'r', encoding = 'utf8') # r : 읽기 전용\n",
    "lines = score_file.readlines() # 데이터를 읽어와서 list 형태로 저장\n",
    "\n",
    "for line in lines:\n",
    "    print(line, end ='')\n",
    "\n",
    "score_file.close()    "
   ]
  },
  {
   "cell_type": "code",
   "execution_count": 82,
   "metadata": {},
   "outputs": [
    {
     "name": "stdout",
     "output_type": "stream",
     "text": [
      "{'이름': '박명수', '나이': 30, '취미': ['축구', '골프', '코딩']}\n"
     ]
    }
   ],
   "source": [
    "# pickle\n",
    "# 프로그램 상에 데이터를 파일 형태로 저장 \n",
    "\n",
    "import pickle\n",
    "profile_file = open('profile.pickle', 'wb') \n",
    "# 피클에서는 항상 바이너리 타입을 넣어야하고 인코딩은 안해도 됨. \n",
    "\n",
    "profile = {'이름': '박명수', '나이': 30 , '취미':['축구','골프','코딩']}\n",
    "print(profile)\n",
    "pickle.dump(profile, profile_file) # profile 에 있는 정보를 file에 저장\n",
    "profile_file.close()\n"
   ]
  },
  {
   "cell_type": "code",
   "execution_count": 83,
   "metadata": {},
   "outputs": [
    {
     "name": "stdout",
     "output_type": "stream",
     "text": [
      "{'이름': '박명수', '나이': 30, '취미': ['축구', '골프', '코딩']}\n"
     ]
    }
   ],
   "source": [
    "# 저장된 파일을 가지고 와서 사용\n",
    "\n",
    "profile_file = open('profile.pickle', 'rb')\n",
    "profile = pickle.load(profile_file) # file 에 있는 저오를 profile 에 불러오기\n",
    "print(profile)\n",
    "profile_file.close()"
   ]
  },
  {
   "cell_type": "code",
   "execution_count": 84,
   "metadata": {},
   "outputs": [
    {
     "name": "stdout",
     "output_type": "stream",
     "text": [
      "{'이름': '박명수', '나이': 30, '취미': ['축구', '골프', '코딩']}\n"
     ]
    }
   ],
   "source": [
    "# with \n",
    "import pickle \n",
    "\n",
    "with open('profile.pickle', 'rb') as profile_file:\n",
    "    print(pickle.load(profile_file))\n",
    "\n",
    " # 파일을 열어서 지정한 이름에 저장해주고 자동으로 파일을 닫아준다.     "
   ]
  },
  {
   "cell_type": "code",
   "execution_count": 90,
   "metadata": {},
   "outputs": [],
   "source": [
    "with open('study.txt', 'w', encoding = 'utf8') as study_file:\n",
    "    study_file.write('파이썬을 열심히 공부하고 있어요.')"
   ]
  },
  {
   "cell_type": "code",
   "execution_count": 91,
   "metadata": {},
   "outputs": [
    {
     "name": "stdout",
     "output_type": "stream",
     "text": [
      "파이썬을 열심히 공부하고 있어요.\n"
     ]
    }
   ],
   "source": [
    "with open('study.txt', 'r', encoding = 'utf8') as study_file:\n",
    "    print(study_file.read())"
   ]
  },
  {
   "cell_type": "code",
   "execution_count": 95,
   "metadata": {},
   "outputs": [],
   "source": [
    "# Quiz 당신은 회사에서 매주 1회 작성해야하는 보고서가 있습니다. \n",
    "# 보고서는 항상 아래와 같은 형태로 출력되어야 합니다.\n",
    "\n",
    "'''\n",
    "- X 주차 주간 보고 - \n",
    "\n",
    "부서 : \n",
    "이름 : \n",
    "업무 요약 :\n",
    "\n",
    "1주차부터 50주차까지의 보고서 파일을 만드는 프로그램을 작성하시고 \n",
    "\n",
    "조건 : 파일명은 '1주차.txt' 와 같이 만듭니다. \n",
    "\n",
    "'''\n",
    "\n",
    "for i in range(1,51):\n",
    "    with open(str(i) + '주차.txt', 'w', encoding = 'utf8') as report_file:\n",
    "        report_file.write('- {0} 주차 주간 보고 - '.format(i))\n",
    "        report_file.write('\\n부서 :')\n",
    "        report_file.write('\\n이름 :')\n",
    "        report_file.write('\\n업무 요악 :')\n",
    "       \n",
    "        \n",
    "        "
   ]
  },
  {
   "cell_type": "code",
   "execution_count": 107,
   "metadata": {},
   "outputs": [
    {
     "name": "stdout",
     "output_type": "stream",
     "text": [
      "마린 유닛이 생성되었습니다. \n",
      "체력은 40 입니다.\n",
      "공격력은 5 입니다.\n",
      "\n",
      "탱크 유닛이 생성되었습니다. \n",
      "체력은 150 입니다.\n",
      "공격력은 35 입니다.\n",
      "\n",
      "탱크 유닛이 생성되었습니다. \n",
      "체력은 150 입니다.\n",
      "공격력은 35 입니다.\n",
      "\n",
      "마린 : 1시 방향으로 적군을 공격합니다. [공격력 5]\n",
      "탱크 : 1시 방향으로 적군을 공격합니다. [공격력 35]\n",
      "탱크 : 1시 방향으로 적군을 공격합니다. [공격력 35]\n"
     ]
    }
   ],
   "source": [
    "# 클래스\n",
    "\n",
    "# 마린 : 공경 유닛, 군인, 총을 쏠 수 있음\n",
    "\n",
    "name = '마린'\n",
    "hp = 40\n",
    "damage = 5\n",
    "\n",
    "print('{0} 유닛이 생성되었습니다. '.format(name))\n",
    "print('체력은 {0} 입니다.'.format(hp))\n",
    "print('공격력은 {0} 입니다.\\n'.format(damage))\n",
    "\n",
    "\n",
    "# 탱크 : 공격 유닛, 탱크 포를 쏠 수 있는데, 일반 모드/ 시즈 모드\n",
    "tank_name = '탱크'\n",
    "tank_hp = 150\n",
    "tank_damage = 35\n",
    "print('{0} 유닛이 생성되었습니다. '.format(tank_name))\n",
    "print('체력은 {0} 입니다.'.format(tank_hp))\n",
    "print('공격력은 {0} 입니다.\\n'.format(tank_damage))\n",
    "\n",
    "tank2_name = '탱크'\n",
    "tank2_hp = 150\n",
    "tank2_damage = 35\n",
    "print('{0} 유닛이 생성되었습니다. '.format(tank2_name))\n",
    "print('체력은 {0} 입니다.'.format(tank2_hp))\n",
    "print('공격력은 {0} 입니다.\\n'.format(tank2_damage))\n",
    "\n",
    "def attack(name, location, damage):\n",
    "    print('{0} : {1} 방향으로 적군을 공격합니다. [공격력 {2}]'\\\n",
    "          .format(name, location, damage) )\n",
    "    \n",
    "attack(name, '1시', damage)    \n",
    "attack(tank_name, '1시', tank_damage)    \n",
    "attack(tank2_name, '1시', tank2_damage)    "
   ]
  },
  {
   "cell_type": "code",
   "execution_count": 113,
   "metadata": {},
   "outputs": [
    {
     "name": "stdout",
     "output_type": "stream",
     "text": [
      "마린 유닛이 생성 되었습니다.\n",
      "체력 40, 공격력5\n",
      "마린 유닛이 생성 되었습니다.\n",
      "체력 40, 공격력5\n",
      "탱크 유닛이 생성 되었습니다.\n",
      "체력 150, 공격력35\n",
      "레이스 유닛이 생성 되었습니다.\n",
      "체력 80, 공격력5\n"
     ]
    }
   ],
   "source": [
    "class Unit:\n",
    "    def __init__(self, name, hp, damage):\n",
    "        self.name = name \n",
    "        self.hp = hp\n",
    "        self.damage = damage\n",
    "        print('{0} 유닛이 생성 되었습니다.'.format(self.name))\n",
    "        print('체력 {0}, 공격력{1}'.format(hp, damage))\n",
    "        \n",
    "marine1 = Unit('마린',40,5)\n",
    "marine2 = Unit('마린',40,5)\n",
    "tank = Unit('탱크',150,35)\n",
    "\n",
    "# 레이스 : 공중 유닛, 비행기, 클로킹\n",
    "\n",
    "wraith1 = Unit('레이스', 80,5)"
   ]
  },
  {
   "cell_type": "code",
   "execution_count": 114,
   "metadata": {},
   "outputs": [
    {
     "name": "stdout",
     "output_type": "stream",
     "text": [
      "유닛 이름 :레이스, 공격력 : 5\n"
     ]
    }
   ],
   "source": [
    "# __inint__ (생성자)\n",
    "\n",
    "# 멤버변수 - 외부 사용\n",
    "print('유닛 이름 :{0}, 공격력 : {1}'.format(wraith1.name, wraith1.damage))"
   ]
  },
  {
   "cell_type": "code",
   "execution_count": 119,
   "metadata": {},
   "outputs": [
    {
     "name": "stdout",
     "output_type": "stream",
     "text": [
      "레이스 유닛이 생성 되었습니다.\n",
      "체력 80, 공격력5\n",
      "레이스 는 현재 클로킹 상태입니다.\n"
     ]
    }
   ],
   "source": [
    "# 마인드 컨트롤 : 상대방 유닛을 내 것으로 만드는 것\n",
    "wraith2 = Unit('레이스', 80,5)\n",
    "wraith2.clocking = True # 추가로 외부에서 변수 사용 가능 \n",
    "\n",
    "if wraith2.clocking == True:\n",
    "    print('{0} 는 현재 클로킹 상태입니다.'.format(wraith2.name))\n",
    "\n",
    "# if wraith1.clocking == True:\n",
    "#     print('{0} 는 현재 클로킹 상태입니다.'.format(wraith2.name))\n",
    "# 'Unit' object has no attribute 'clocking'"
   ]
  },
  {
   "cell_type": "code",
   "execution_count": 133,
   "metadata": {},
   "outputs": [
    {
     "name": "stdout",
     "output_type": "stream",
     "text": [
      "파이어뱃: 5시 방향으로 공격합니다 [공격력 : 16]\n",
      "파이어뱃: 25 데미지를 입었습니다.\n",
      "파이어뱃 : 현재 체력은 25 입니다.\n",
      "파이어뱃: 25 데미지를 입었습니다.\n",
      "파이어뱃 : 현재 체력은 0 입니다.\n",
      "파이어뱃 : 파괴되었습니다.\n"
     ]
    }
   ],
   "source": [
    "# 메소드\n",
    "\n",
    "# 일반유닛 \n",
    "class Unit:\n",
    "    def __init__(self, name, hp, damage):\n",
    "        self.name = name \n",
    "        self.hp = hp\n",
    "        self.damage = damage\n",
    "        print('{0} 유닛이 생성 되었습니다.'.format(self.name))\n",
    "        print('체력 {0}, 공격력{1}'.format(hp, damage))\n",
    "\n",
    "# 공격유닛         \n",
    "class AttackUnit:\n",
    "    def __init__(self, name, hp, damage):\n",
    "        self.name = name \n",
    "        self.hp = hp\n",
    "        self.damage = damage\n",
    "    \n",
    "    \n",
    "    def attack(self, location):\n",
    "        print('{0}: {1} 방향으로 공격합니다 [공격력 : {2}]'\\\n",
    "              .format(self.name, location, self.damage))\n",
    "           \n",
    "            \n",
    "    def damaged(self, damage):\n",
    "        print('{0}: {1} 데미지를 입었습니다.'.format(self.name, damage))\n",
    "        self.hp -= damage\n",
    "        print('{0} : 현재 체력은 {1} 입니다.'.format(self.name , self.hp))\n",
    "        if self.hp <=0:\n",
    "               print('{0} : 파괴되었습니다.'.format(self.name))\n",
    "            \n",
    "            \n",
    "# 파이어 뱃 : 공격 유닛 , 화염방사기\n",
    "firebat1 = AttackUnit('파이어뱃', 50,16)\n",
    "firebat1.attack('5시')\n",
    "\n",
    "# 공격 2번, 받는다는 가정\n",
    "firebat1.damaged(25)\n",
    "firebat1.damaged(25)"
   ]
  },
  {
   "cell_type": "code",
   "execution_count": 135,
   "metadata": {},
   "outputs": [
    {
     "name": "stdout",
     "output_type": "stream",
     "text": [
      "파이어뱃: 5시 방향으로 공격합니다 [공격력 : 16]\n",
      "파이어뱃: 25 데미지를 입었습니다.\n",
      "파이어뱃 : 현재 체력은 25 입니다.\n",
      "파이어뱃: 25 데미지를 입었습니다.\n",
      "파이어뱃 : 현재 체력은 0 입니다.\n",
      "파이어뱃 : 파괴되었습니다.\n"
     ]
    }
   ],
   "source": [
    "# 상속\n",
    "\n",
    "# 메소드\n",
    "\n",
    "# 일반유닛 \n",
    "class Unit:\n",
    "    def __init__(self, name, hp):\n",
    "        self.name = name # 겹침 \n",
    "        self.hp = hp\n",
    "\n",
    "# 공격유닛         \n",
    "class AttackUnit(Unit): # 상속 \n",
    "    def __init__(self, name, hp, damage):\n",
    "        Unit.__init__(self, name, hp)\n",
    "        self.damage = damage\n",
    "    \n",
    "    def attack(self, location):\n",
    "        print('{0}: {1} 방향으로 공격합니다 [공격력 : {2}]'\\\n",
    "              .format(self.name, location, self.damage))\n",
    "           \n",
    "            \n",
    "    def damaged(self, damage):\n",
    "        print('{0}: {1} 데미지를 입었습니다.'.format(self.name, damage))\n",
    "        self.hp -= damage\n",
    "        print('{0} : 현재 체력은 {1} 입니다.'.format(self.name , self.hp))\n",
    "        if self.hp <=0:\n",
    "               print('{0} : 파괴되었습니다.'.format(self.name))\n",
    "            \n",
    "            \n",
    "# 파이어 뱃 : 공격 유닛 , 화염방사기\n",
    "firebat1 = AttackUnit('파이어뱃', 50,16)\n",
    "firebat1.attack('5시')\n",
    "\n",
    "# 공격 2번, 받는다는 가정\n",
    "firebat1.damaged(25)\n",
    "firebat1.damaged(25)"
   ]
  },
  {
   "cell_type": "code",
   "execution_count": 142,
   "metadata": {},
   "outputs": [
    {
     "name": "stdout",
     "output_type": "stream",
     "text": [
      "발키리:3시 방향으로 날아갑니다. [속도 : 5]\n"
     ]
    }
   ],
   "source": [
    "# 다중 상속 - 부모 class 가 2개 이상 \n",
    "\n",
    "# 일반유닛 \n",
    "class Unit:\n",
    "    def __init__(self, name, hp):\n",
    "        self.name = name # 겹침 \n",
    "        self.hp = hp\n",
    "\n",
    "# 공격유닛         \n",
    "class AttackUnit(Unit): # 상속 \n",
    "    def __init__(self, name, hp, damage):\n",
    "        Unit.__init__(self, name, hp)\n",
    "        self.damage = damage\n",
    "    \n",
    "    def attack(self, location):\n",
    "        print('{0}: {1} 방향으로 공격합니다 [공격력 : {2}]'\\\n",
    "              .format(self.name, location, self.damage))\n",
    "           \n",
    "            \n",
    "    def damaged(self, damage):\n",
    "        print('{0}: {1} 데미지를 입었습니다.'.format(self.name, damage))\n",
    "        self.hp -= damage\n",
    "        print('{0} : 현재 체력은 {1} 입니다.'.format(self.name , self.hp))\n",
    "        if self.hp <=0:\n",
    "               print('{0} : 파괴되었습니다.'.format(self.name))\n",
    "\n",
    "# 날 수 있는 기능을 가진 클래스                \n",
    "class Flyable:\n",
    "    def __init__(self, flying_speed):\n",
    "        self.flying_speed = flying_speed\n",
    "        \n",
    "    def fly(self, name, location):\n",
    "        print('{0}:{1} 방향으로 날아갑니다. [속도 : {2}]'.format\\\n",
    "             (name, location, self.flying_speed))\n",
    "\n",
    "# 공중 공격 유닛 클래스         \n",
    "class FlyableAttackUnit(AttackUnit, Flyable): # 다중 상송\n",
    "    def __init__(self, name, hp, damage, flying_speed):\n",
    "        AttackUnit.__init__(self, name, hp, damage)\n",
    "        Flyable.__init__(self, flying_speed)\n",
    "        \n",
    "\n",
    "# 발키리 : 공중 공격 유닛, 한번에 14발 미사일 발사\n",
    "\n",
    "valkyrie = FlyableAttackUnit('발키리',200,6,5)\n",
    "valkyrie.fly(valkyrie.name, '3시')"
   ]
  },
  {
   "cell_type": "code",
   "execution_count": 147,
   "metadata": {},
   "outputs": [
    {
     "name": "stdout",
     "output_type": "stream",
     "text": [
      "[지상 유닛 이동]\n",
      "벌쳐:11시 방향으로 이동합니다. [속도80]\n",
      "[공주 유닛 이동]\n",
      "배틀크류져:9시 방향으로 날아갑니다. [속도 : 3]\n"
     ]
    }
   ],
   "source": [
    "# 연산자 오버로딩 \n",
    "\n",
    "# 일반유닛 \n",
    "class Unit:\n",
    "    def __init__(self, name, hp, speed):\n",
    "        self.name = name # 겹침 \n",
    "        self.hp = hp\n",
    "        self.speed = speed\n",
    "        \n",
    "    def move(self, location):\n",
    "        print('[지상 유닛 이동]')\n",
    "        print('{0}:{1} 방향으로 이동합니다. [속도{2}]'.format(self.name, location, self.speed))\n",
    "        \n",
    "\n",
    "# 공격유닛         \n",
    "class AttackUnit(Unit): # 상속 \n",
    "    def __init__(self, name, hp, speed, damage):\n",
    "        Unit.__init__(self, name, speed, hp)\n",
    "        self.damage = damage\n",
    "    \n",
    "    def attack(self, location):\n",
    "        print('{0}: {1} 방향으로 공격합니다 [공격력 : {2}]'\\\n",
    "              .format(self.name, location, self.damage))\n",
    "           \n",
    "            \n",
    "    def damaged(self, damage):\n",
    "        print('{0}: {1} 데미지를 입었습니다.'.format(self.name, damage))\n",
    "        self.hp -= damage\n",
    "        print('{0} : 현재 체력은 {1} 입니다.'.format(self.name , self.hp))\n",
    "        if self.hp <=0:\n",
    "               print('{0} : 파괴되었습니다.'.format(self.name))\n",
    "\n",
    "# 날 수 있는 기능을 가진 클래스                \n",
    "class Flyable:\n",
    "    def __init__(self, flying_speed):\n",
    "        self.flying_speed = flying_speed\n",
    "        \n",
    "    def fly(self, name, location):\n",
    "        print('{0}:{1} 방향으로 날아갑니다. [속도 : {2}]'.format\\\n",
    "             (name, location, self.flying_speed))\n",
    "\n",
    "# 공중 공격 유닛 클래스         \n",
    "class FlyableAttackUnit(AttackUnit, Flyable): # 다중 상송\n",
    "    def __init__(self, name, hp, damage, flying_speed):\n",
    "        AttackUnit.__init__(self, name, hp, 0, damage) # 지상 speed 0\n",
    "        Flyable.__init__(self, flying_speed)\n",
    "        \n",
    "    def move(self, location):\n",
    "        print('[공주 유닛 이동]')\n",
    "        self.fly(self.name, location)\n",
    "        \n",
    "        \n",
    "# 벌쳐 : 지상 유닛 , 기동성이 좋음\n",
    "vulture = AttackUnit('벌쳐', 80,10,20)\n",
    "\n",
    "# 배틀크루져 : 공중 유닛, 체력도 좋음, 공격력도 좋음\n",
    "battlecruiser = FlyableAttackUnit('배틀크류져', 500, 25, 3)\n",
    "\n",
    "vulture.move('11시')\n",
    "\n",
    "battlecruiser.move('9시')\n"
   ]
  },
  {
   "cell_type": "code",
   "execution_count": 156,
   "metadata": {},
   "outputs": [
    {
     "name": "stdout",
     "output_type": "stream",
     "text": [
      "[알림] 새로운 게임을 시작합니다.\n"
     ]
    }
   ],
   "source": [
    "# pass \n",
    "# 연산자 오버로딩 \n",
    "\n",
    "# 일반유닛 \n",
    "class Unit:\n",
    "    def __init__(self, name, hp, speed):\n",
    "        self.name = name # 겹침 \n",
    "        self.hp = hp\n",
    "        self.speed = speed\n",
    "        \n",
    "    def move(self, location):\n",
    "        print('[지상 유닛 이동]')\n",
    "        print('{0}:{1} 방향으로 이동합니다. [속도{2}]'.format(self.name, location, self.speed))\n",
    "        \n",
    "\n",
    "# 공격유닛         \n",
    "class AttackUnit(Unit): # 상속 \n",
    "    def __init__(self, name, hp, speed, damage):\n",
    "        Unit.__init__(self, name, speed, hp)\n",
    "        self.damage = damage\n",
    "    \n",
    "    def attack(self, location):\n",
    "        print('{0}: {1} 방향으로 공격합니다 [공격력 : {2}]'\\\n",
    "              .format(self.name, location, self.damage))\n",
    "           \n",
    "            \n",
    "    def damaged(self, damage):\n",
    "        print('{0}: {1} 데미지를 입었습니다.'.format(self.name, damage))\n",
    "        self.hp -= damage\n",
    "        print('{0} : 현재 체력은 {1} 입니다.'.format(self.name , self.hp))\n",
    "        if self.hp <=0:\n",
    "               print('{0} : 파괴되었습니다.'.format(self.name))\n",
    "\n",
    "# 날 수 있는 기능을 가진 클래스                \n",
    "class Flyable:\n",
    "    def __init__(self, flying_speed):\n",
    "        self.flying_speed = flying_speed\n",
    "        \n",
    "    def fly(self, name, location):\n",
    "        print('{0}:{1} 방향으로 날아갑니다. [속도 : {2}]'.format\\\n",
    "             (name, location, self.flying_speed))\n",
    "\n",
    "# 공중 공격 유닛 클래스         \n",
    "class FlyableAttackUnit(AttackUnit, Flyable): # 다중 상송\n",
    "    def __init__(self, name, hp, damage, flying_speed):\n",
    "        AttackUnit.__init__(self, name, hp, 0, damage) # 지상 speed 0\n",
    "        Flyable.__init__(self, flying_speed)\n",
    "        \n",
    "    def move(self, location):\n",
    "        print('[공주 유닛 이동]')\n",
    "        self.fly(self.name, locatio)\n",
    "    \n",
    "                 \n",
    "# 건물      \n",
    "class BulidingUnit(Unit):\n",
    "    def __init__(self, name , hp, location):\n",
    "        pass # 넘어가줌 \n",
    "\n",
    "# 서플라이 디폿 : 건물 1개 -> 8개 유닛 \n",
    "supply_depot = BulidingUnit('서플라이 디폿', 500, '7시')\n",
    "                 \n",
    "def game_start():\n",
    "    print('[알림] 새로운 게임을 시작합니다.')\n",
    "    \n",
    "                                              \n",
    "def game_over():\n",
    "    pass\n",
    "\n",
    "game_start()\n",
    "game_over()\n",
    "\n"
   ]
  },
  {
   "cell_type": "code",
   "execution_count": 158,
   "metadata": {},
   "outputs": [],
   "source": [
    "# super \n",
    "\n",
    "# 일반유닛 \n",
    "class Unit:\n",
    "    def __init__(self, name, hp, speed):\n",
    "        self.name = name # 겹침 \n",
    "        self.hp = hp\n",
    "        self.speed = speed\n",
    "        \n",
    "    def move(self, location):\n",
    "        print('[지상 유닛 이동]')\n",
    "        print('{0}:{1} 방향으로 이동합니다. [속도{2}]'.format(self.name, location, self.speed))\n",
    "        \n",
    "\n",
    "# 공격유닛         \n",
    "class AttackUnit(Unit): # 상속 \n",
    "    def __init__(self, name, hp, speed, damage):\n",
    "        Unit.__init__(self, name, speed, hp)\n",
    "        self.damage = damage\n",
    "    \n",
    "    def attack(self, location):\n",
    "        print('{0}: {1} 방향으로 공격합니다 [공격력 : {2}]'\\\n",
    "              .format(self.name, location, self.damage))\n",
    "           \n",
    "            \n",
    "    def damaged(self, damage):\n",
    "        print('{0}: {1} 데미지를 입었습니다.'.format(self.name, damage))\n",
    "        self.hp -= damage\n",
    "        print('{0} : 현재 체력은 {1} 입니다.'.format(self.name , self.hp))\n",
    "        if self.hp <=0:\n",
    "               print('{0} : 파괴되었습니다.'.format(self.name))\n",
    "\n",
    "# 날 수 있는 기능을 가진 클래스                \n",
    "class Flyable:\n",
    "    def __init__(self, flying_speed):\n",
    "        self.flying_speed = flying_speed\n",
    "        \n",
    "    def fly(self, name, location):\n",
    "        print('{0}:{1} 방향으로 날아갑니다. [속도 : {2}]'.format\\\n",
    "             (name, location, self.flying_speed))\n",
    "\n",
    "# 공중 공격 유닛 클래스         \n",
    "class FlyableAttackUnit(AttackUnit, Flyable): # 다중 상송\n",
    "    def __init__(self, name, hp, damage, flying_speed):\n",
    "        AttackUnit.__init__(self, name, hp, 0, damage) # 지상 speed 0\n",
    "        Flyable.__init__(self, flying_speed)\n",
    "        \n",
    "    def move(self, location):\n",
    "        print('[공주 유닛 이동]')\n",
    "        self.fly(self.name, locatio)\n",
    "    \n",
    "                 \n",
    "# 건물      \n",
    "class BulidingUnit(Unit):\n",
    "    def __init__(self, name , hp, location):\n",
    "        #Unit.__init__(self, name, hp, 0)\n",
    "        super().__init__(name, hp, 0)\n",
    "        self.location = location\n",
    "        \n",
    "\n",
    "# 서플라이 디폿 : 건물 1개 -> 8개 유닛 \n",
    "supply_depot = BulidingUnit('서플라이 디폿', 500, '7시')\n",
    "\n",
    "\n"
   ]
  },
  {
   "cell_type": "code",
   "execution_count": 165,
   "metadata": {},
   "outputs": [
    {
     "name": "stdout",
     "output_type": "stream",
     "text": [
      "Unit 생성자\n",
      "Flyable 생성자\n"
     ]
    }
   ],
   "source": [
    "class Unit:\n",
    "    def __init__(self):\n",
    "        print('Unit 생성자')\n",
    "        \n",
    "class Flyable:\n",
    "    def __init__(self):\n",
    "        print('Flyable 생성자')\n",
    "        \n",
    "class FlyableUnit(Flyable, Unit):\n",
    "    def __init__(self):\n",
    "        #super().__init__() # 다중 상속 받을 때는 앞의 것만 받는다. \n",
    "        Unit.__init__(self)\n",
    "        Flyable.__init__(self)\n",
    "        \n",
    "# 드랍십 \n",
    "dropship = FlyableUnit()\n",
    "        \n",
    "        "
   ]
  },
  {
   "cell_type": "code",
   "execution_count": 187,
   "metadata": {},
   "outputs": [],
   "source": [
    "# 스타크래프트 전반전 \n",
    "\n",
    "# super \n",
    "\n",
    "# 일반유닛 \n",
    "class Unit:\n",
    "    def __init__(self, name, hp, speed):\n",
    "        self.name = name # 겹침 \n",
    "        self.hp = hp\n",
    "        self.speed = speed\n",
    "        print('{0} 유닛이 생성되었습니다.'.format(name))\n",
    "        \n",
    "    def move(self, location):\n",
    "        print('[지상 유닛 이동]')\n",
    "        print('{0}:{1} 방향으로 이동합니다. [속도{2}]'.format(self.name, location, self.speed))\n",
    "        \n",
    "    def damaged(self, damage):\n",
    "        print('{0}: {1} 데미지를 입었습니다.'.format(self.name, damage))\n",
    "        self.hp -= damage\n",
    "        print('{0} : 현재 체력은 {1} 입니다.'.format(self.name , self.hp))\n",
    "        if self.hp <=0:\n",
    "               print('{0} : 파괴되었습니다.'.format(self.name))\n",
    "\n",
    "                \n",
    "# 공격유닛         \n",
    "class AttackUnit(Unit): # 상속 \n",
    "    def __init__(self, name, hp, speed, damage):\n",
    "        Unit.__init__(self, name, speed, hp)\n",
    "        self.damage = damage\n",
    "    \n",
    "    def attack(self, location):\n",
    "        print('{0}: {1} 방향으로 공격합니다 [공격력 : {2}]'\\\n",
    "              .format(self.name, location, self.damage))\n",
    "           \n",
    "\n",
    "# 마린\n",
    "class Marine(AttackUnit):\n",
    "    def __init__(self):\n",
    "        AttackUnit.__init__(self, '마린', 40, 1, 5)\n",
    "        \n",
    "    def stimpack(self):\n",
    "        if self.hp > 10:\n",
    "            self.hp -= 10\n",
    "            print('{0}: 스팀팩을 사용합니다. (HP 10 감소)'.format(self.name))\n",
    "        else:\n",
    "            print('{0} : 체력이 부족하여 스팀팩을 사용하지 않습니다.'.format(self.name))\n",
    "            \n",
    "            \n",
    "# 탱크\n",
    "class Tank(AttackUnit):\n",
    "    \n",
    "    # 시즈모드 : 탱크를 지상에 고정시켜, 더 높은 파워로 공격 가능, 이동 불가\n",
    "    seize_developed = False # 시즈모드 개발 여부\n",
    "    \n",
    "    def __init__(self):\n",
    "        AttackUnit.__init__(self, '탱크', 150, 1, 35)\n",
    "        self.seize_mode = False\n",
    "        \n",
    "    def set_seize_mode(self):\n",
    "        if Tank.seize_developed == False:\n",
    "            return # 아무것도 안하고 나감\n",
    "        \n",
    "        \n",
    "        # 현재 시즈모드가 아닐 때 -> 시즈 모드\n",
    "        if self.seize_mode == False:\n",
    "            print('{0} : 시즈모드로 전환합니다.'.format(self.name))\n",
    "            self.damage *= 2\n",
    "            self.seize_mode = True\n",
    "              \n",
    "        # 현재 시즈모드 일 때 -> 시즈모드 해제\n",
    "        else: \n",
    "            print('{0} : 시즈모드를 해제합니다.'.format(self.name))\n",
    "            self.damage /= 2\n",
    "            self.seize_mode = False\n",
    "\n",
    "# 스팀팩 : 일정 시간 동안 이동 및 공격 속도를 증가, 체력 10 감소\n",
    "\n",
    "    \n",
    "# 날 수 있는 기능을 가진 클래스                \n",
    "class Flyable:\n",
    "    def __init__(self, flying_speed):\n",
    "        self.flying_speed = flying_speed\n",
    "        \n",
    "    def fly(self, name, location):\n",
    "        print('{0}:{1} 방향으로 날아갑니다. [속도 : {2}]'.format\\\n",
    "             (name, location, self.flying_speed))\n",
    "\n",
    "        \n",
    "# 공중 공격 유닛 클래스         \n",
    "class FlyableAttackUnit(AttackUnit, Flyable): # 다중 상송\n",
    "    def __init__(self, name, hp, damage, flying_speed):\n",
    "        AttackUnit.__init__(self, name, hp, 0, damage) # 지상 speed 0\n",
    "        Flyable.__init__(self, flying_speed)\n",
    "        \n",
    "    def move(self, location):\n",
    "        print('[공중 유닛 이동]')\n",
    "        self.fly(self.name, location)\n",
    "        \n",
    "class wraise(FlyableAttackUnit):\n",
    "    def __init__(self):\n",
    "        FlyableAttackUnit.__init__(self, '레이스', 80,20,5)\n",
    "        self.clocked = False # 클로킹 모드 (해제 상태)\n",
    "        \n",
    "    def clocking(self):\n",
    "        if self.clocked == True: # 콜로킹 모드 -> 모드 해제\n",
    "            print('{0}: 클로킹 모드 해제합니다.'.format(self.name))\n",
    "            self.clocked = False\n",
    "        else: # 클로킹 모드 해제 -> 모드 설정\n",
    "            print('{0} : 클로킹 모도로 전환합니다.'.format(self.name))\n",
    "            self.clocked = True\n",
    "        \n",
    "        \n",
    "def game_start():\n",
    "    print('[알림] 새로운 게임을 시작합니다.')\n",
    "    \n",
    "def game_over():\n",
    "    print ('player : gg') \n",
    "    print ('[player] 님이 게임에서 퇴장하셨습니다.')\n",
    "    "
   ]
  },
  {
   "cell_type": "code",
   "execution_count": 198,
   "metadata": {},
   "outputs": [
    {
     "name": "stdout",
     "output_type": "stream",
     "text": [
      "[알림] 새로운 게임을 시작합니다.\n",
      "마린 유닛이 생성되었습니다.\n",
      "마린 유닛이 생성되었습니다.\n",
      "마린 유닛이 생성되었습니다.\n",
      "탱크 유닛이 생성되었습니다.\n",
      "탱크 유닛이 생성되었습니다.\n",
      "레이스 유닛이 생성되었습니다.\n",
      "[지상 유닛 이동]\n",
      "마린:1시 방향으로 이동합니다. [속도40]\n",
      "[지상 유닛 이동]\n",
      "마린:1시 방향으로 이동합니다. [속도40]\n",
      "[지상 유닛 이동]\n",
      "마린:1시 방향으로 이동합니다. [속도40]\n",
      "[지상 유닛 이동]\n",
      "탱크:1시 방향으로 이동합니다. [속도150]\n",
      "[지상 유닛 이동]\n",
      "탱크:1시 방향으로 이동합니다. [속도150]\n",
      "[공중 유닛 이동]\n",
      "레이스:1시 방향으로 날아갑니다. [속도 : 5]\n",
      "[알림] 탱크 시즈 모드 개바이 완료되었습니다.\n",
      "마린 : 체력이 부족하여 스팀팩을 사용하지 않습니다.\n",
      "마린 : 체력이 부족하여 스팀팩을 사용하지 않습니다.\n",
      "마린 : 체력이 부족하여 스팀팩을 사용하지 않습니다.\n",
      "탱크 : 시즈모드로 전환합니다.\n",
      "탱크 : 시즈모드로 전환합니다.\n",
      "레이스 : 클로킹 모도로 전환합니다.\n",
      "마린: 1시 방향으로 공격합니다 [공격력 : 5]\n",
      "마린: 1시 방향으로 공격합니다 [공격력 : 5]\n",
      "마린: 1시 방향으로 공격합니다 [공격력 : 5]\n",
      "탱크: 1시 방향으로 공격합니다 [공격력 : 70]\n",
      "탱크: 1시 방향으로 공격합니다 [공격력 : 70]\n",
      "레이스: 1시 방향으로 공격합니다 [공격력 : 20]\n",
      "마린: 5 데미지를 입었습니다.\n",
      "마린 : 현재 체력은 -4 입니다.\n",
      "마린 : 파괴되었습니다.\n",
      "마린: 11 데미지를 입었습니다.\n",
      "마린 : 현재 체력은 -10 입니다.\n",
      "마린 : 파괴되었습니다.\n",
      "마린: 19 데미지를 입었습니다.\n",
      "마린 : 현재 체력은 -18 입니다.\n",
      "마린 : 파괴되었습니다.\n",
      "탱크: 12 데미지를 입었습니다.\n",
      "탱크 : 현재 체력은 -11 입니다.\n",
      "탱크 : 파괴되었습니다.\n",
      "탱크: 8 데미지를 입었습니다.\n",
      "탱크 : 현재 체력은 -7 입니다.\n",
      "탱크 : 파괴되었습니다.\n",
      "레이스: 13 데미지를 입었습니다.\n",
      "레이스 : 현재 체력은 -13 입니다.\n",
      "레이스 : 파괴되었습니다.\n",
      "player : gg\n",
      "[player] 님이 게임에서 퇴장하셨습니다.\n"
     ]
    }
   ],
   "source": [
    "# 실제 게임 진행 \n",
    "game_start()\n",
    "\n",
    "# 마린 3기 생성\n",
    "m1 = Marine()\n",
    "m2 = Marine()\n",
    "m3 = Marine()\n",
    "\n",
    "# 탱크 2기 생성\n",
    "t1 = Tank()\n",
    "t2 = Tank()\n",
    "\n",
    "# 레이스 1기 생성\n",
    "w1 = wraise()\n",
    "\n",
    "# 유닛 일괄 관리 (생성된 모든 유닛 append)\n",
    "attack_units = []\n",
    "attack_units.append(m1)\n",
    "attack_units.append(m2)\n",
    "attack_units.append(m3)\n",
    "attack_units.append(t1)\n",
    "attack_units.append(t2)\n",
    "attack_units.append(w1)\n",
    "\n",
    "# 전국 이동\n",
    "for unit in attack_units:\n",
    "    unit.move('1시')\n",
    "    \n",
    "# 탱크 시즈모드 개발\n",
    "Tank.seize_developed = True\n",
    "print('[알림] 탱크 시즈 모드 개바이 완료되었습니다.')\n",
    "\n",
    "# 공격 모드 준비( 마린 : 스팀팩 , 탱크 : 시즈모드 , 레이스 : 클로킹)\n",
    "for unit in attack_units:\n",
    "    if isinstance(unit, Marine):\n",
    "        unit.stimpack()\n",
    "    elif isinstance(unit, Tank):\n",
    "        unit.set_seize_mode()  \n",
    "    elif isinstance(unit, wraise):\n",
    "        unit.clocking()    \n",
    "    \n",
    "    # isinstance : 인스턴스 맞는지 확인 \n",
    "    \n",
    "# 전군 공격\n",
    "for unit in attack_units:\n",
    "    unit.attack('1시')\n",
    "    \n",
    "\n",
    "from random import *    \n",
    "# 전국 공격\n",
    "for unit in attack_units:\n",
    "    unit.damaged(randint(5,20)) # 공격은 랜덤으로 받음 (5~20)\n",
    "\n",
    "    \n",
    "# 게임 종료\n",
    "game_over()"
   ]
  },
  {
   "cell_type": "code",
   "execution_count": 215,
   "metadata": {
    "scrolled": true
   },
   "outputs": [
    {
     "name": "stdout",
     "output_type": "stream",
     "text": [
      "총 3대의 매물이 있습니다.\n",
      "강남 아파트 매매 10억 2010년\n",
      "마포 오피스 전세 50억 2007년\n",
      "송파 빌라 월세 500/50 2000년\n"
     ]
    }
   ],
   "source": [
    "# Quiz) 주어진 코드를 활용하여 부동산 프로그램을 작성하시오. \n",
    "\n",
    "'''\n",
    "(출력 예제)\n",
    "총 3대의 매물이 있습니다. \n",
    "강남 아파트 매매 10억 2010년\n",
    "마포 오피스 전체 5억 2007년\n",
    "송파 빌라 월세 500/50 2000년 \n",
    "\n",
    "'''\n",
    "\n",
    "class House:\n",
    "    def __init__(self, location, house_type, deal_type, price, completion_year):\n",
    "        self.location = location\n",
    "        self.house_type = house_type\n",
    "        self.deal_type = deal_type\n",
    "        self.price = price \n",
    "        self.completion_year = completion_year\n",
    "    \n",
    "    def show_detail(self):\n",
    "        print(self.location,self.house_type, self.deal_type,\n",
    "        self.price, self.completion_year)\n",
    "        \n",
    "house = []        \n",
    "house1 = House('강남', '아파트', '매매', '10억', '2010년')  \n",
    "house2 = House('마포', '오피스', '전세', '50억', '2007년')  \n",
    "house3 = House('송파', '빌라', '월세', '500/50', '2000년')  \n",
    "house.append(house1)\n",
    "house.append(house2)\n",
    "house.append(house3)\n",
    "\n",
    "print('총 3대의 매물이 있습니다.')\n",
    "for i in house:\n",
    "    i.show_detail()\n",
    "\n",
    "        "
   ]
  },
  {
   "cell_type": "code",
   "execution_count": 224,
   "metadata": {},
   "outputs": [
    {
     "name": "stdout",
     "output_type": "stream",
     "text": [
      "나누기 전용 계산기 입니다.\n",
      "첫 번째 숫자를 입력하세요 :6\n",
      "두 번째 숫자를 입력하세요 :0\n",
      "division by zero\n"
     ]
    }
   ],
   "source": [
    "# 예외처리 - error\n",
    "\n",
    "try:\n",
    "    print('나누기 전용 계산기 입니다.')\n",
    "    num1 = int(input('첫 번째 숫자를 입력하세요 :'))\n",
    "    num2 = int(input('두 번째 숫자를 입력하세요 :'))\n",
    "    print('{0} / {1} = {2}'.format(num1, num2, int(num1/num2)))\n",
    "except ValueError: \n",
    "    print('에러! 잘못된 값을 입력하였습니다.')\n",
    "except ZeroDivisionError as err:\n",
    "    print(err)\n",
    "\n",
    "# error 가 발생시 내가 입력한 값이 출력 된다. \n",
    "    "
   ]
  },
  {
   "cell_type": "code",
   "execution_count": 228,
   "metadata": {},
   "outputs": [
    {
     "name": "stdout",
     "output_type": "stream",
     "text": [
      "나누기 전용 계산기 입니다.\n",
      "첫 번째 숫자를 입력하세요 :0\n",
      "두 번째 숫자를 입력하세요 :0\n",
      "division by zero\n"
     ]
    }
   ],
   "source": [
    "try:\n",
    "    print('나누기 전용 계산기 입니다.')\n",
    "    nums = []\n",
    "    nums.append(int(input('첫 번째 숫자를 입력하세요 :')))\n",
    "    nums.append(int(input('두 번째 숫자를 입력하세요 :')))\n",
    "    nums.append(int(nums[0]/ nums[1]))\n",
    "    print('{0} / {1} = {2}'.format(nums[0], nums[1], nums[2]))\n",
    "except ValueError: \n",
    "    print('에러! 잘못된 값을 입력하였습니다.')\n",
    "except ZeroDivisionError as err:\n",
    "    print(err)\n"
   ]
  },
  {
   "cell_type": "code",
   "execution_count": 231,
   "metadata": {},
   "outputs": [
    {
     "name": "stdout",
     "output_type": "stream",
     "text": [
      "나누기 전용 계산기 입니다.\n",
      "첫 번째 숫자를 입력하세요 :0\n",
      "두 번째 숫자를 입력하세요 :0\n",
      "알 수 없는 에러가 발생하였습니다.\n",
      "list index out of range\n"
     ]
    }
   ],
   "source": [
    "try:\n",
    "    print('나누기 전용 계산기 입니다.')\n",
    "    nums = []\n",
    "    nums.append(int(input('첫 번째 숫자를 입력하세요 :')))\n",
    "    nums.append(int(input('두 번째 숫자를 입력하세요 :')))\n",
    "    # nums.append(int(nums[0]/ nums[1]))\n",
    "    print('{0} / {1} = {2}'.format(nums[0], nums[1], nums[2]))\n",
    "except ValueError: \n",
    "    print('에러! 잘못된 값을 입력하였습니다.')\n",
    "except ZeroDivisionError as err:\n",
    "    print(err)\n",
    "except Exception as err: \n",
    "    print('알 수 없는 에러가 발생하였습니다.') \n",
    "    print(err)"
   ]
  },
  {
   "cell_type": "code",
   "execution_count": 236,
   "metadata": {},
   "outputs": [
    {
     "name": "stdout",
     "output_type": "stream",
     "text": [
      "한 자리 숫자 나누기 전용 계산기입니다.\n",
      "첫 번째 숫자를 입력하세요 : 10\n",
      "두 번째 숫자를 입력하세요 : 5\n",
      "잘못된 값을 입력하였습니다. 한 자리 숫자만 입력하세요.\n"
     ]
    }
   ],
   "source": [
    "# 특정 error 만들기 \n",
    "\n",
    "try:\n",
    "    print('한 자리 숫자 나누기 전용 계산기입니다.')\n",
    "    num1 = int(input('첫 번째 숫자를 입력하세요 : '))\n",
    "    num2 = int(input('두 번째 숫자를 입력하세요 : '))\n",
    "    if num1 >= 10 or num2 >= 10 :\n",
    "        raise ValueError \n",
    "    print('{0} / {1} = {2}'.format(num1, num2, int(num1/num2)))   \n",
    "except ValueError:\n",
    "    print('잘못된 값을 입력하였습니다. 한 자리 숫자만 입력하세요.')"
   ]
  },
  {
   "cell_type": "code",
   "execution_count": 3,
   "metadata": {},
   "outputs": [
    {
     "name": "stdout",
     "output_type": "stream",
     "text": [
      "한 자리 숫자 나누기 전용 계산기입니다.\n",
      "첫 번째 숫자를 입력하세요 : 1\n",
      "두 번째 숫자를 입력하세요 : 10\n",
      "에러가 발생하였습니다. 한 자리 숫자만 입력하세요.\n",
      "입력 값 1,10\n"
     ]
    }
   ],
   "source": [
    "# 사용자 정의 예외처리\n",
    "\n",
    "class BIgNumberError(Exception):\n",
    "    def __init__(self, msg):\n",
    "        self.msg = msg\n",
    "        \n",
    "    def __str__(self):\n",
    "        return self.msg\n",
    "\n",
    "try:\n",
    "    print('한 자리 숫자 나누기 전용 계산기입니다.')\n",
    "    num1 = int(input('첫 번째 숫자를 입력하세요 : '))\n",
    "    num2 = int(input('두 번째 숫자를 입력하세요 : '))\n",
    "    if num1 >= 10 or num2 >= 10 :\n",
    "        raise BIgNumberError('입력 값 {0},{1}'.format(num1, num2))\n",
    "    print('{0} / {1} = {2}'.format(num1, num2, int(num1 / num2)))  \n",
    "    \n",
    "except ValueError:\n",
    "    print('잘못된 값을 입력하였습니다. 한 자리 숫자만 입력하세요.')\n",
    "    \n",
    "except BIgNumberError as error :\n",
    "    print('에러가 발생하였습니다. 한 자리 숫자만 입력하세요.')    \n",
    "    print(error) "
   ]
  },
  {
   "cell_type": "code",
   "execution_count": 5,
   "metadata": {},
   "outputs": [
    {
     "name": "stdout",
     "output_type": "stream",
     "text": [
      "한 자리 숫자 나누기 전용 계산기입니다.\n",
      "첫 번째 숫자를 입력하세요 : 10\n",
      "두 번째 숫자를 입력하세요 : 10\n",
      "에러가 발생하였습니다. 한 자리 숫자만 입력하세요.\n",
      "입력 값 10,10\n",
      "계산기를 이용해 주셔서 감사합니다.\n"
     ]
    }
   ],
   "source": [
    "# finally\n",
    "\n",
    "class BIgNumberError(Exception):\n",
    "    def __init__(self, msg):\n",
    "        self.msg = msg\n",
    "        \n",
    "    def __str__(self):\n",
    "        return self.msg\n",
    "\n",
    "try:\n",
    "    print('한 자리 숫자 나누기 전용 계산기입니다.')\n",
    "    num1 = int(input('첫 번째 숫자를 입력하세요 : '))\n",
    "    num2 = int(input('두 번째 숫자를 입력하세요 : '))\n",
    "    if num1 >= 10 or num2 >= 10 :\n",
    "        raise BIgNumberError('입력 값 {0},{1}'.format(num1, num2))\n",
    "    print('{0} / {1} = {2}'.format(num1, num2, int(num1 / num2)))  \n",
    "    \n",
    "except ValueError:\n",
    "    print('잘못된 값을 입력하였습니다. 한 자리 숫자만 입력하세요.')\n",
    "    \n",
    "except BIgNumberError as error :\n",
    "    print('에러가 발생하였습니다. 한 자리 숫자만 입력하세요.')    \n",
    "    print(error)\n",
    "    \n",
    "finally: # error 가 나오든 정상적으로 수행되든 출력된다. - 강제 종료를 막는다. \n",
    "    print('계산기를 이용해 주셔서 감사합니다.')\n",
    "    "
   ]
  },
  {
   "cell_type": "code",
   "execution_count": 1,
   "metadata": {
    "scrolled": false
   },
   "outputs": [
    {
     "name": "stdout",
     "output_type": "stream",
     "text": [
      "[남은 치킨 : 10]\n",
      "치킨 몇 마리 주문하시겠습니까?5\n",
      "[대기번호 1] 5 마리 주문이 완료되었습니다.\n",
      "[남은 치킨 : 5]\n",
      "치킨 몇 마리 주문하시겠습니까?3\n",
      "[대기번호 2] 3 마리 주문이 완료되었습니다.\n",
      "[남은 치킨 : 2]\n",
      "치킨 몇 마리 주문하시겠습니까?0\n",
      "잘못된 값을 입력하셨습니다.\n",
      "[남은 치킨 : 2]\n",
      "치킨 몇 마리 주문하시겠습니까?10\n",
      "재료가 부족합니다.\n",
      "[남은 치킨 : 2]\n",
      "치킨 몇 마리 주문하시겠습니까?-10\n",
      "잘못된 값을 입력하셨습니다.\n",
      "[남은 치킨 : 2]\n",
      "치킨 몇 마리 주문하시겠습니까?세마리\n",
      "잘못된 값을 입력하셨습니다.\n",
      "[남은 치킨 : 2]\n",
      "치킨 몇 마리 주문하시겠습니까?2\n",
      "[대기번호 3] 2 마리 주문이 완료되었습니다.\n",
      "재고가 소진되어 더 이상 주문을 받지 않습니다. \n"
     ]
    }
   ],
   "source": [
    "'''\n",
    "Quiz) 동네에 항상 대시 손님이 있는 맛있는 치킨집이 있습니다. \n",
    "대기 손님의 치킨 요리 시간을 줄이고자 자동 주문 시스템을 제작하였습니다. \n",
    "시스템 코드를 확인하고 적절한 예외처리 구문을 넣으시오.\n",
    "'''\n",
    "\n",
    "'''\n",
    "조건 1 : 1보다 작거나 숫자가 아닌 입력이 들어올 때는 ValueError 로 처리 \n",
    "         출력 메세지 : '잘못된 값을 입력하셨습니다.'\n",
    "조건 2 : 대기 손님이 주문할 수 있는 총 치킨량은 10마리로 한정\n",
    "         치킨 소진 시 사용자 정의 에러[SoldOutError]를 발생시키고 프로그램 종료\n",
    "         출력 메시지 : '재고가 소진되어 더 이상 주문을 받지 않습니다. '\n",
    "'''\n",
    "\n",
    "\n",
    "class SoldOutError(Exception):\n",
    "    pass\n",
    "\n",
    "chicken = 10\n",
    "waiting = 1\n",
    "\n",
    "\n",
    "while(True):\n",
    "    try:\n",
    "        print('[남은 치킨 : {0}]'.format(chicken))\n",
    "        order = int(input('치킨 몇 마리 주문하시겠습니까?'))\n",
    "        if order > chicken: # 남은 치킨보다 주문향이 많을 때\n",
    "            print('재료가 부족합니다.')\n",
    "\n",
    "        elif  order <= 0:\n",
    "            raise ValueError\n",
    "            \n",
    "        else: \n",
    "            print('[대기번호 {0}] {1} 마리 주문이 완료되었습니다.'.format(waiting,order))\n",
    "            waiting += 1\n",
    "            chicken -= order    \n",
    "            \n",
    "        if chicken == 0:\n",
    "            raise SoldOutError\n",
    "            \n",
    "            \n",
    "    except ValueError:\n",
    "        print('잘못된 값을 입력하셨습니다.')\n",
    "        \n",
    "    except SoldOutError:\n",
    "        print('재고가 소진되어 더 이상 주문을 받지 않습니다. ')\n",
    "        break\n",
    "        \n",
    "            "
   ]
  },
  {
   "cell_type": "code",
   "execution_count": null,
   "metadata": {},
   "outputs": [],
   "source": []
  }
 ],
 "metadata": {
  "kernelspec": {
   "display_name": "Python 3",
   "language": "python",
   "name": "python3"
  },
  "language_info": {
   "codemirror_mode": {
    "name": "ipython",
    "version": 3
   },
   "file_extension": ".py",
   "mimetype": "text/x-python",
   "name": "python",
   "nbconvert_exporter": "python",
   "pygments_lexer": "ipython3",
   "version": "3.7.7"
  }
 },
 "nbformat": 4,
 "nbformat_minor": 4
}
