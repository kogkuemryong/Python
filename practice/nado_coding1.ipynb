{
 "cells": [
  {
   "cell_type": "code",
   "execution_count": 4,
   "metadata": {},
   "outputs": [
    {
     "name": "stdout",
     "output_type": "stream",
     "text": [
      "우리집 강아지의 이름은 연탄이이에요\n",
      "연탄이 는  4 살이며,  산책 을 아주 좋아해요\n",
      "연탄이 는 어른 일까요?True\n"
     ]
    }
   ],
   "source": [
    "animal = '강아지'\n",
    "name = '연탄이'\n",
    "age = 4\n",
    "hobby = '산책'\n",
    "is_adult = age >= 3 \n",
    "\n",
    "\n",
    "print('우리집 ' + animal + '의 이름은 ' + name + '이에요')\n",
    "print(name, '는 ',  age ,'살이며, ' , hobby  ,'을 아주 좋아해요') # ,을 넣으면 str로 바꾸지 않아도 가능\n",
    "print(name + ' 는 어른 일까요?' + str(is_adult))"
   ]
  },
  {
   "cell_type": "code",
   "execution_count": 5,
   "metadata": {},
   "outputs": [],
   "source": [
    "# Quiz) 변수를 이용하여 다음 문자을 출력하시오 \n",
    "\n",
    "# 변수면 : station\n",
    "\n",
    "# 변수값 '사당', '신도림', '인천공항' 순서대로 입력\n",
    "\n",
    "# 출력 문장 : XX행 열차가 들어오고 있습니다. "
   ]
  },
  {
   "cell_type": "code",
   "execution_count": 7,
   "metadata": {},
   "outputs": [
    {
     "name": "stdout",
     "output_type": "stream",
     "text": [
      "사당행 열차가 들어오고 있습니다.\n"
     ]
    }
   ],
   "source": [
    "station = '사당'\n",
    "\n",
    "print(station + '행 열차가 들어오고 있습니다.')"
   ]
  },
  {
   "cell_type": "code",
   "execution_count": 13,
   "metadata": {},
   "outputs": [
    {
     "data": {
      "text/plain": [
       "0.0"
      ]
     },
     "execution_count": 13,
     "metadata": {},
     "output_type": "execute_result"
    }
   ],
   "source": [
    "number = 12 \n",
    "number += 2\n",
    "number *= 2\n",
    "number /= 2\n",
    "number -= 2\n",
    "number %= 2\n",
    "number"
   ]
  },
  {
   "cell_type": "code",
   "execution_count": 14,
   "metadata": {},
   "outputs": [],
   "source": [
    "# 파이썬 제공 숫자 처리 함수 "
   ]
  },
  {
   "cell_type": "code",
   "execution_count": 22,
   "metadata": {},
   "outputs": [
    {
     "name": "stdout",
     "output_type": "stream",
     "text": [
      "5\n",
      "16.0\n",
      "13\n",
      "12\n",
      "3\n",
      "4\n",
      "4\n",
      "4.0\n"
     ]
    }
   ],
   "source": [
    "print(abs(-5)) # 절대값\n",
    "print(pow(4,2)) # 제곱\n",
    "print(max(12,13)) # 최대값\n",
    "print(min(12,16)) # 최소값\n",
    "print(round(3.14)) # 반올림\n",
    "\n",
    "from math import *\n",
    "print(floor(4.99)) # 내림\n",
    "print(ceil(3.14)) # 올림\n",
    "print(sqrt(16)) # 제곱근 "
   ]
  },
  {
   "cell_type": "code",
   "execution_count": 35,
   "metadata": {},
   "outputs": [
    {
     "name": "stdout",
     "output_type": "stream",
     "text": [
      "4\n",
      "1\n",
      "8\n",
      "7\n",
      "8\n",
      "9\n",
      "1\n",
      "4\n",
      "6\n",
      "1\n",
      "6\n"
     ]
    }
   ],
   "source": [
    "from random import * # random 으로 출력하게 만듬 \n",
    "# print(random()) # 0.0 ~ 1.0 미만의 임의의 값 생성\n",
    "# print(random()* 10) # random x 10 - 0.0 ~ 10.0 미만의 임의의 값\n",
    "# print(int(random()*10)) \n",
    "# print(int(random()*10)) \n",
    "\n",
    "\n",
    "# for i in range(10):\n",
    "#     print(int(random()*10)+1)\n",
    "\n",
    "# # 0이 보기 삻을 때 \n",
    "\n",
    "print(int(random()*10)+1) # 1 ~ 10 이하의 임의의 값 생성\n",
    "\n",
    "for i in range(10):\n",
    "    print(int(random()*10)+1)\n",
    "\n"
   ]
  },
  {
   "cell_type": "code",
   "execution_count": 50,
   "metadata": {},
   "outputs": [
    {
     "name": "stdout",
     "output_type": "stream",
     "text": [
      "24\n",
      "38\n",
      "41\n",
      "4\n",
      "42\n",
      "21\n"
     ]
    }
   ],
   "source": [
    "# 로또 1 ~ 45\n",
    "\n",
    "# print(int(random()*45)+1)\n",
    "\n",
    "# for i in range(6):\n",
    "#     print(int(random()*45)+1) # 1 ~ 45 이하의 임의의 값 \n",
    "    \n",
    "\n",
    "# # 쉽게 표현 \n",
    "# print(randrange(1,45)) # 1 ~ 45 미만의 수 생성\n",
    "# print(randrange(1,46)) # 1 ~ 46 미만의 수 생성\n",
    "\n",
    "# for i in range(6):\n",
    "#     print(randrange(1,46))\n",
    "    \n",
    "# 또 다른 표현\n",
    "\n",
    "# print(randint(1,45)) # 1 ~ 45 까지의 수 생성\n",
    "\n",
    "for i in range(6):\n",
    "    print(randint(1,45))\n",
    "\n",
    "    \n"
   ]
  },
  {
   "cell_type": "code",
   "execution_count": 51,
   "metadata": {},
   "outputs": [
    {
     "data": {
      "text/plain": [
       "'\\n조건 1: 랜덤으로 날짜를 뽑아야 함\\n조건 2: 월별 날짜는 다름을 감안하여 최소 일수인 28일 이내로 정함\\n조건 3: 매월 1~3일은 스터디를 준비를 해야하므로 제외 \\n'"
      ]
     },
     "execution_count": 51,
     "metadata": {},
     "output_type": "execute_result"
    }
   ],
   "source": [
    "# Quiz 당신은 최근에 코딩 스터디 모임을 새로 만들었습니다. \n",
    "\n",
    "'''\n",
    "월 4회 스터디를 하는 3번 올라인으로 하고 1번은 오프라이능로 하기로 했습니다. \n",
    "아래 조건에 맞는 오프라인 모임의 날자를 정해주는 프로그램을 작성하시오\n",
    "'''\n",
    "\n",
    "'''\n",
    "조건 1: 랜덤으로 날짜를 뽑아야 함\n",
    "조건 2: 월별 날짜는 다름을 감안하여 최소 일수인 28일 이내로 정함\n",
    "조건 3: 매월 1~3일은 스터디를 준비를 해야하므로 제외 \n",
    "'''"
   ]
  },
  {
   "cell_type": "code",
   "execution_count": 63,
   "metadata": {},
   "outputs": [
    {
     "name": "stdout",
     "output_type": "stream",
     "text": [
      "오프라인 스터디 모임 날짜는 매월  20 일로 선정되었습니다.\n"
     ]
    }
   ],
   "source": [
    "\n",
    "date = randint(4,28)\n",
    "\n",
    "print('오프라인 스터디 모임 날짜는 매월 ', date ,'일로 선정되었습니다.')\n",
    "    "
   ]
  },
  {
   "cell_type": "code",
   "execution_count": 75,
   "metadata": {},
   "outputs": [
    {
     "name": "stdout",
     "output_type": "stream",
     "text": [
      "성별 : 1\n",
      "연 : 99\n",
      "월 : 01\n",
      "일 : 20\n",
      "생년월일 990120\n",
      "뒤 7자리 : 1234567\n",
      "뒤 7자리 (뒤에서부터): 1234567\n"
     ]
    }
   ],
   "source": [
    "jumin = '990120-1234567'\n",
    "\n",
    "print('성별 :' , jumin[7])\n",
    "print('연 :' , jumin[0:2]) # 0 ~ 2 직전까지 (0,1) \n",
    "print('월 :',  jumin[2:4])\n",
    "print('일 :',  jumin[4:6])\n",
    "print('생년월일', jumin[:6])\n",
    "print('뒤 7자리 :' , jumin[7:])\n",
    "print('뒤 7자리 (뒤에서부터):' , jumin[-7:]) # 맨 뒤에서 7번째 부터 끝까지"
   ]
  },
  {
   "cell_type": "code",
   "execution_count": 99,
   "metadata": {},
   "outputs": [
    {
     "name": "stdout",
     "output_type": "stream",
     "text": [
      "python is amazing\n",
      "PYTHON IS AMAZING\n",
      "True\n",
      "17\n",
      "Java is Amazing\n",
      "5\n",
      "15\n",
      "5\n",
      "-1\n",
      "2\n"
     ]
    }
   ],
   "source": [
    "# 문자열 처리 함수 \n",
    "\n",
    "python = 'Python is Amazing'\n",
    "print(python.lower()) # 전체 소문자 화 \n",
    "print(python.upper()) # 전체 대문자 화\n",
    "print(python[0].isupper()) # 첫번째 글자가 대문자 인가?\n",
    "print(len(python)) # 길이\n",
    "print(python.replace('Python', 'Java'))\n",
    "\n",
    "index = python.index('n') # 위치 \n",
    "print(index)\n",
    "index1 = python.index('n', index + 1) # 6번부터 계산해서 두번째 n찾기\n",
    "print(index1)\n",
    "\n",
    "print(python.find('n'))\n",
    "print(python.find('Java')) # 변수가 없으면 -1 출력\n",
    "# print(python.index('java')) # error 프로그램 종료\n",
    "print(python.count('n')) # 2개 "
   ]
  },
  {
   "cell_type": "code",
   "execution_count": 124,
   "metadata": {},
   "outputs": [
    {
     "name": "stdout",
     "output_type": "stream",
     "text": [
      "ab\n",
      "a b\n",
      "나는 20 살입니다.\n",
      "나는 파이썬 를 좋아해요\n",
      "Apple 은 A로 시작해요.\n",
      "나는 20 살 입니다.\n",
      "나는 파란색과 빨간색을 좋아해요.\n",
      "나는 20 살입니다\n",
      "나는 파란색과 빨간색을 좋아해요.\n",
      "나는 빨간색과 파란색을 좋아해요.\n",
      "나는 20살이며, 빨간색을 좋아합니다.\n",
      "나는 30살이며, 빨간색을 좋아합니다.\n",
      "나는 21살이며, 빨간색을 좋아합니다.\n",
      "나는 20살이며, 빨간색을 좋아합니다.\n"
     ]
    }
   ],
   "source": [
    "# 문자여 포멧 \n",
    "print('a' + 'b')\n",
    "print('a', 'b')\n",
    "\n",
    "# 방법 1\n",
    "print(\"나는 %d 살입니다.\"%20) # %d 정수\n",
    "print('나는 %s 를 좋아해요' %'파이썬') # %s 문자열\n",
    "print('Apple 은 %c로 시작해요.' %'A') # %c 문자(한글자)\n",
    "print('나는 %s 살 입니다.' % 20)\n",
    "print('나는 %s색과 %s색을 좋아해요.' % ('파란','빨간'))\n",
    "\n",
    "# 방법 2\n",
    "print('나는 {} 살입니다'.format(20))\n",
    "print('나는 {0}색과 {1}색을 좋아해요.'.format('파란', '빨간'))\n",
    "print('나는 {1}색과 {0}색을 좋아해요.'.format('파란', '빨간'))\n",
    "\n",
    "# 방법 3 - 변수사용가 비슷 \n",
    "print('나는 {age}살이며, {color}색을 좋아합니다.'.format(age=20, color='빨간'))\n",
    "print('나는 {age}살이며, {color}색을 좋아합니다.'.format(age=30, color='빨간'))\n",
    "print('나는 {age}살이며, {color}색을 좋아합니다.'.format(color='빨간',age=21))\n",
    "\n",
    "# 방법 4 (v3.6 이상 가능)\n",
    "age = 20\n",
    "color = '빨간'\n",
    "print(f'나는 {age}살이며, {color}색을 좋아합니다.')"
   ]
  },
  {
   "cell_type": "code",
   "execution_count": 140,
   "metadata": {},
   "outputs": [
    {
     "name": "stdout",
     "output_type": "stream",
     "text": [
      "백문이 불여일견 \n",
      "백견이 불여일타\n",
      "저는 '나도 코딩' 입니다\n",
      "저는 \"나도 코딩\" 입니다\n",
      "저는 \"나도 코딩\" 입니다\n",
      "Red  Apple \r",
      " Pine\n",
      "Red\bdApple\n"
     ]
    }
   ],
   "source": [
    "# 탈출 문자\n",
    "print('백문이 불여일견 \\n백견이 불여일타') # \\n 줄바꿈\n",
    "print(\"저는 '나도 코딩' 입니다\")\n",
    "print('저는 \"나도 코딩\" 입니다')\n",
    "print(\"저는 \\\"나도 코딩\\\" 입니다\") # \\\"|\"  따옴표 출력 \n",
    "print('Red  Apple \\r Pine') # r\\ :커서를 맨 앞으로 이동 \n",
    "print('Red\\bdApple') # \\b : 백스페이스 (한 글자 삭제)"
   ]
  },
  {
   "cell_type": "code",
   "execution_count": 163,
   "metadata": {},
   "outputs": [
    {
     "name": "stdout",
     "output_type": "stream",
     "text": [
      "http://google.com의 생성된 비밀번호 : goo61!\n"
     ]
    }
   ],
   "source": [
    "# Quiz) 사이트별로 비밀번호를 만들어주는 프로그램을 작성하시오\n",
    "\n",
    "'''\n",
    "예) http://naver.com\n",
    "\n",
    "규칙1 http:// 부분은 제외 => naver.com\n",
    "규칙2 처음 만나는 점 이후 부분은 제외 => naver\n",
    "규칙3 남은 글자 중 처음 3자리 + 글자 갯수 + 글자 내 'e' 갯수 +  \"!\" 로 구성\n",
    "\n",
    "예) 생성된 비밀번호 : nav5!\n",
    "'''\n",
    "\n",
    "# url = \"http://naver.com\"\n",
    "url = \"http://google.com\"\n",
    "\n",
    "my_str = url.replace('http://', '') # 규칙 1\n",
    "my_str = my_str[:my_str.index(\".\")] # 규칙 2 my_str[:5]\n",
    "pw = my_str[:3] + str(len(my_str)) + str(my_str.count('e')) + \"!\"\n",
    "print('{0}의 생성된 비밀번호 : {1}'.format(url,pw))\n",
    "\n"
   ]
  },
  {
   "cell_type": "code",
   "execution_count": 39,
   "metadata": {
    "scrolled": false
   },
   "outputs": [
    {
     "name": "stdout",
     "output_type": "stream",
     "text": [
      "1\n",
      "2\n",
      "[5, 4, 3, 2, 1]\n"
     ]
    },
    {
     "data": {
      "text/plain": [
       "[5, 2, 4, 3, 1, '조세호', 20, True]"
      ]
     },
     "execution_count": 39,
     "metadata": {},
     "output_type": "execute_result"
    }
   ],
   "source": [
    "# 리스트 []\n",
    "\n",
    "subway1 = 10\n",
    "subway2 = 20\n",
    "subway3 = 30\n",
    "\n",
    "subway = [10,20,30]\n",
    "subway\n",
    "\n",
    "subway = ['유재석', '조세호' , '박명수']\n",
    "\n",
    "# 조세호씨가 몇 번째 칸에 타고 있는가? - index 사용\n",
    "print(subway.index('조세호'))\n",
    "\n",
    "# 하하씨가 다음 정류장에 다음 칸에 탐 - append 사용\n",
    "subway.append('하하')\n",
    "subway\n",
    "\n",
    "# 정형돈씨를 유재석씨와 조세호씨 사이에 태움 - insert 사용\n",
    "subway.insert(1,'정형돈') # index, '이름'\n",
    "subway\n",
    "\n",
    "# 지하철에 있는 사람 한 명씩 뒤에서 꺼냄 - pop\n",
    "subway.pop() # 하하 내림 \n",
    "subway.pop() # 박명수 내림\n",
    "subway.pop() # 조세호 내림 \n",
    "subway\n",
    "\n",
    "# 같은 이름의 사람이 몇 명 있는지 확인 - count \n",
    "subway.append('유재석')\n",
    "subway\n",
    "print(subway.count('유재석')) \n",
    "\n",
    "\n",
    "# 정렬도 가능 - sort \n",
    "num_list = [5,2,4,3,1]\n",
    "num_list.sort() # 12345\n",
    "num_list.reverse() #54321\n",
    "print(num_list) \n",
    "\n",
    "# 모두 지우기 \n",
    "num_list.clear()\n",
    "num_list # 모두 지우기 - 빈 리스트가 됨 \n",
    "\n",
    "# 다양한 자료형 함께 사용\n",
    "mix_list = ['조세호', 20, True]\n",
    "mix_list\n",
    "\n",
    "# 리스트 확장 - extend \n",
    "num_list = [5,2,4,3,1]\n",
    "num_list.extend(mix_list)\n",
    "num_list"
   ]
  },
  {
   "cell_type": "code",
   "execution_count": 79,
   "metadata": {},
   "outputs": [
    {
     "name": "stdout",
     "output_type": "stream",
     "text": [
      "유재석\n",
      "김태호\n",
      "유재석\n",
      "사용가능\n",
      "True\n",
      "False\n",
      "유재석\n",
      "김태호\n",
      "{'A-3': '김종국', 'B-100': '김태호', 'C-20': '조세호'}\n",
      "{'B-100': '김태호', 'C-20': '조세호'}\n",
      "dict_keys(['B-100', 'C-20'])\n",
      "dict_values(['김태호', '조세호'])\n",
      "dict_items([('B-100', '김태호'), ('C-20', '조세호')])\n",
      "{}\n"
     ]
    }
   ],
   "source": [
    "# ditionary\n",
    "cabinet = {3: '유재석', 100:'김태호'}\n",
    "print(cabinet[3])\n",
    "print(cabinet[100])\n",
    "\n",
    "print(cabinet.get(3))\n",
    "print(cabinet.get(5,'사용가능'))\n",
    "# None 으로 출력 하고 이어가지만 뒤에 내용을 넣으면 그 내용 출력\n",
    "print(3 in cabinet) # True\n",
    "print(5 in cabinet) # False\n",
    "\n",
    "cabinet = {'A-3': '유재석', 'B-100':'김태호'}\n",
    "print(cabinet['A-3'])\n",
    "print(cabinet['B-100'])\n",
    "\n",
    "# 새 손님 \n",
    "cabinet['C-20'] = '조세호'\n",
    "cabinet['A-3'] = '김종국'\n",
    "print(cabinet)\n",
    "\n",
    "# 간 손님 - del\n",
    "del cabinet['A-3']\n",
    "print(cabinet)\n",
    "\n",
    "# key 값 출력 - keys\n",
    "print(cabinet.keys())\n",
    "\n",
    "# value 들만 출력 - values\n",
    "print(cabinet.values())\n",
    "\n",
    "# key, value 쌍으로 출력 - items\n",
    "print(cabinet.items())\n",
    "\n",
    "# 목욕탕 폐점 - 모두 삭제\n",
    "cabinet.clear()\n",
    "print(cabinet)"
   ]
  },
  {
   "cell_type": "code",
   "execution_count": 87,
   "metadata": {},
   "outputs": [
    {
     "name": "stdout",
     "output_type": "stream",
     "text": [
      "돈까스\n",
      "치즈까스\n"
     ]
    },
    {
     "data": {
      "text/plain": [
       "('김종국', 20, '코딩')"
      ]
     },
     "execution_count": 87,
     "metadata": {},
     "output_type": "execute_result"
    }
   ],
   "source": [
    "# tuple - 내용 변경 , 추가 불가 \n",
    "\n",
    "menu = ('돈까스', '치즈까스')\n",
    "print(menu[0])\n",
    "print(menu[1])\n",
    "\n",
    "# menu.add('생선까스') - error\n",
    "\n",
    "# name = '김종국'\n",
    "# age = 20\n",
    "# hobby = '코딩'\n",
    "# print(name, age, hobby) \n",
    "\n",
    "name, age, hobby = '김종국', 20, '코딩'\n",
    "name, age, hobby"
   ]
  },
  {
   "cell_type": "code",
   "execution_count": 100,
   "metadata": {},
   "outputs": [
    {
     "name": "stdout",
     "output_type": "stream",
     "text": [
      "{1, 2, 3}\n",
      "{'유재석'}\n",
      "{'유재석'}\n",
      "{'박명수', '양세형', '유재석', '김태호'}\n",
      "{'박명수', '양세형', '유재석', '김태호'}\n",
      "{'김태호', '양세형'}\n",
      "{'김태호', '양세형'}\n",
      "{'박명수', '유재석', '김태호'}\n",
      "{'양세형', '유재석'}\n"
     ]
    }
   ],
   "source": [
    "# 세트 (set) - 집합\n",
    "# 중복 안됩, 순서 없음\n",
    "\n",
    "my_set = {1,2,3,3,3}\n",
    "print(my_set)\n",
    "\n",
    "java = {'유재석', '김태호', '양세형'}\n",
    "\n",
    "python = set(['유재석', '박명수'])\n",
    "\n",
    "# 교집합 (java 와 python 을 모두 할 수 잇는 사람)\n",
    "print(java & python)\n",
    "print(java.intersection(python))\n",
    "\n",
    "# 합집합 (java도 할 수 있거나 python 할 수 있는 개발자)\n",
    "print(java | python)\n",
    "print(java.union(python))\n",
    "\n",
    "# 차집합 (java 할 수 있지만 python을 할 줄 모르는 개발자)\n",
    "print(java - python)\n",
    "print(java.difference(python)) \n",
    "\n",
    "# python 할 줄 아는 사람이 늘어남 \n",
    "python.add('김태호')\n",
    "print(python)\n",
    "\n",
    "#java를 잊어버림\n",
    "java.remove('김태호')\n",
    "print(java)"
   ]
  },
  {
   "cell_type": "code",
   "execution_count": 105,
   "metadata": {},
   "outputs": [
    {
     "name": "stdout",
     "output_type": "stream",
     "text": [
      "{'커피', '우유', '주스'} <class 'set'>\n",
      "['커피', '우유', '주스'] <class 'list'>\n",
      "('커피', '우유', '주스') <class 'tuple'>\n",
      "{'커피', '우유', '주스'} <class 'set'>\n"
     ]
    }
   ],
   "source": [
    "# 자료구조 변경\n",
    "\n",
    "menu = {'커피', '우유','주스'} \n",
    "print(menu, type(menu)) # <class 'set'> - 중괄호\n",
    "\n",
    "menu = list(menu)\n",
    "print(menu, type(menu)) # <class 'list'> - 대괄호\n",
    "\n",
    "menu = tuple(menu)\n",
    "print(menu, type(menu)) # <class 'tuple'> - 소괄호\n",
    "\n",
    "menu = set(menu)\n",
    "print(menu, type(menu)) # <class 'set'> - 중괄호"
   ]
  },
  {
   "cell_type": "code",
   "execution_count": 144,
   "metadata": {
    "scrolled": true
   },
   "outputs": [
    {
     "name": "stdout",
     "output_type": "stream",
     "text": [
      " -- 당첨자 발표 --\n",
      "치킨 당첨자 : 18\n",
      "커피 당첨자 : [3, 12, 6]\n",
      " -- 축하합니다 --\n"
     ]
    }
   ],
   "source": [
    "'''\n",
    "Quiz) 당신의 학교에서는 파이껀 코딩 대회를 주최합니다. \n",
    "참석률을 높이기 위해 댓글 이벤트를 진행하기 하였습니다. \n",
    "댓글 작성자들 중에 추첨을 통해 1명은 치킨, 3명은 커피 쿠폰을 받게 됩니다. \n",
    "추첨 프로그램을 작성하시오\n",
    "'''\n",
    "\n",
    "'''\n",
    "조건1 : 편의상 댓글은 20명이 작성하였고 아이디는 1~20이라고 가정\n",
    "조건2 : 댓글 내용과 상관없이 무작위로 추첨하되 중복 불가\n",
    "조건3 : random 모듈과 shuffle 과 sample 을 활용\n",
    "'''\n",
    "\n",
    "# shuffle : mix해준다\n",
    "# sample : 무작위로 뽑아줌. \n",
    "\n",
    "from random import *\n",
    "\n",
    "users = range(1, 21) # 1부터 20까지 숫자 생성\n",
    "                     # range 는 list 가 아니므로 함수 사용할 수 없으므로 형변형\n",
    "users = list(users)\n",
    "\n",
    "shuffle(users)\n",
    "winners = sample(users,4) # 4명 중에서 한명은 치킨 3명을 커피\n",
    "\n",
    "print(' -- 당첨자 발표 --')\n",
    "print('치킨 당첨자 : {0}'.format(winners[0]))\n",
    "print('커피 당첨자 : {0}'.format(winners[1:]))\n",
    "print(' -- 축하합니다 --')"
   ]
  },
  {
   "cell_type": "code",
   "execution_count": 152,
   "metadata": {},
   "outputs": [
    {
     "name": "stdout",
     "output_type": "stream",
     "text": [
      "오늘 날씨는 어때요?눈\n",
      "우산을 챙기세요\n"
     ]
    }
   ],
   "source": [
    "# 분기 \n",
    "\n",
    "# input() : 사용자의 입력을 받는 문장 \n",
    "\n",
    "weather = input('오늘 날씨는 어때요?')\n",
    "if weather == '비' or weather == '눈':\n",
    "    print('우산을 챙기세요')\n",
    "elif weather == '미세먼지':\n",
    "    print('마스크를 챙기세요')\n",
    "else:\n",
    "    print('준비물 필요 없어요.')\n",
    "    \n"
   ]
  },
  {
   "cell_type": "code",
   "execution_count": 153,
   "metadata": {},
   "outputs": [
    {
     "name": "stdout",
     "output_type": "stream",
     "text": [
      "기온은 어떠세요?1\n"
     ]
    }
   ],
   "source": [
    "temp = int(input('기온은 어떠세요?')) # input은 문자만 받기 때문에 int로 감싸줍시다. \n",
    "\n",
    "if 30 <= temp:\n",
    "    print('너무 더워요. 나가지 마세요')\n",
    "elif 10 <= temp and 30 > temp:\n",
    "    print('괜찮은 날씨에요')\n",
    "elif 0 <= temp < 10 :\n",
    "    print('외투를 챙기세요')\n",
    "else:\n",
    "    print('너무 추워요 나가지마세요.')"
   ]
  },
  {
   "cell_type": "code",
   "execution_count": null,
   "metadata": {},
   "outputs": [],
   "source": []
  }
 ],
 "metadata": {
  "kernelspec": {
   "display_name": "Python 3",
   "language": "python",
   "name": "python3"
  },
  "language_info": {
   "codemirror_mode": {
    "name": "ipython",
    "version": 3
   },
   "file_extension": ".py",
   "mimetype": "text/x-python",
   "name": "python",
   "nbconvert_exporter": "python",
   "pygments_lexer": "ipython3",
   "version": "3.7.7"
  }
 },
 "nbformat": 4,
 "nbformat_minor": 4
}
