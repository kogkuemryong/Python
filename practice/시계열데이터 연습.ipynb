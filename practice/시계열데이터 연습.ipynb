{
 "cells": [
  {
   "cell_type": "code",
   "execution_count": 138,
   "metadata": {},
   "outputs": [],
   "source": [
    "import pandas as pd\n",
    "import numpy as np\n",
    "import matplotlib.pyplot as plt"
   ]
  },
  {
   "cell_type": "code",
   "execution_count": 159,
   "metadata": {},
   "outputs": [],
   "source": [
    "df = pd.read_csv(\"mymy.csv\")"
   ]
  },
  {
   "cell_type": "code",
   "execution_count": 160,
   "metadata": {},
   "outputs": [],
   "source": [
    "# 시각화를 위한 한글 폰트 설정\n",
    "from matplotlib import font_manager,rc\n",
    "font_name = font_manager.FontProperties(fname=\"c:/Windows/Fonts/malgun.ttf\").get_name()\n",
    "rc('font', family=font_name)"
   ]
  },
  {
   "cell_type": "code",
   "execution_count": 161,
   "metadata": {},
   "outputs": [
    {
     "data": {
      "text/html": [
       "<div>\n",
       "<style scoped>\n",
       "    .dataframe tbody tr th:only-of-type {\n",
       "        vertical-align: middle;\n",
       "    }\n",
       "\n",
       "    .dataframe tbody tr th {\n",
       "        vertical-align: top;\n",
       "    }\n",
       "\n",
       "    .dataframe thead th {\n",
       "        text-align: right;\n",
       "    }\n",
       "</style>\n",
       "<table border=\"1\" class=\"dataframe\">\n",
       "  <thead>\n",
       "    <tr style=\"text-align: right;\">\n",
       "      <th></th>\n",
       "      <th>Unnamed: 0</th>\n",
       "      <th>Unnamed: 0.1</th>\n",
       "      <th>방송일시</th>\n",
       "      <th>노출(분)</th>\n",
       "      <th>마더코드</th>\n",
       "      <th>상품코드</th>\n",
       "      <th>상품명</th>\n",
       "      <th>상품군</th>\n",
       "      <th>판매단가</th>\n",
       "      <th>취급액</th>\n",
       "      <th>...</th>\n",
       "      <th>가전</th>\n",
       "      <th>농수축</th>\n",
       "      <th>생활용품</th>\n",
       "      <th>속옷</th>\n",
       "      <th>이미용</th>\n",
       "      <th>잡화</th>\n",
       "      <th>침구</th>\n",
       "      <th>무관</th>\n",
       "      <th>여성</th>\n",
       "      <th>남성</th>\n",
       "    </tr>\n",
       "  </thead>\n",
       "  <tbody>\n",
       "    <tr>\n",
       "      <th>0</th>\n",
       "      <td>0</td>\n",
       "      <td>0</td>\n",
       "      <td>2019-01-01 06:00:00</td>\n",
       "      <td>20.0</td>\n",
       "      <td>100346</td>\n",
       "      <td>201072</td>\n",
       "      <td>테이트 남성 셀린니트3종</td>\n",
       "      <td>의류</td>\n",
       "      <td>39900</td>\n",
       "      <td>2099000</td>\n",
       "      <td>...</td>\n",
       "      <td>0</td>\n",
       "      <td>0</td>\n",
       "      <td>0</td>\n",
       "      <td>0</td>\n",
       "      <td>0</td>\n",
       "      <td>0</td>\n",
       "      <td>0</td>\n",
       "      <td>0</td>\n",
       "      <td>0</td>\n",
       "      <td>1</td>\n",
       "    </tr>\n",
       "    <tr>\n",
       "      <th>1</th>\n",
       "      <td>1</td>\n",
       "      <td>1</td>\n",
       "      <td>2019-01-01 06:00:00</td>\n",
       "      <td>NaN</td>\n",
       "      <td>100346</td>\n",
       "      <td>201079</td>\n",
       "      <td>테이트 여성 셀린니트3종</td>\n",
       "      <td>의류</td>\n",
       "      <td>39900</td>\n",
       "      <td>4371000</td>\n",
       "      <td>...</td>\n",
       "      <td>0</td>\n",
       "      <td>0</td>\n",
       "      <td>0</td>\n",
       "      <td>0</td>\n",
       "      <td>0</td>\n",
       "      <td>0</td>\n",
       "      <td>0</td>\n",
       "      <td>0</td>\n",
       "      <td>1</td>\n",
       "      <td>0</td>\n",
       "    </tr>\n",
       "    <tr>\n",
       "      <th>2</th>\n",
       "      <td>2</td>\n",
       "      <td>2</td>\n",
       "      <td>2019-01-01 06:20:00</td>\n",
       "      <td>20.0</td>\n",
       "      <td>100346</td>\n",
       "      <td>201072</td>\n",
       "      <td>테이트 남성 셀린니트3종</td>\n",
       "      <td>의류</td>\n",
       "      <td>39900</td>\n",
       "      <td>3262000</td>\n",
       "      <td>...</td>\n",
       "      <td>0</td>\n",
       "      <td>0</td>\n",
       "      <td>0</td>\n",
       "      <td>0</td>\n",
       "      <td>0</td>\n",
       "      <td>0</td>\n",
       "      <td>0</td>\n",
       "      <td>0</td>\n",
       "      <td>0</td>\n",
       "      <td>1</td>\n",
       "    </tr>\n",
       "    <tr>\n",
       "      <th>3</th>\n",
       "      <td>3</td>\n",
       "      <td>3</td>\n",
       "      <td>2019-01-01 06:20:00</td>\n",
       "      <td>NaN</td>\n",
       "      <td>100346</td>\n",
       "      <td>201079</td>\n",
       "      <td>테이트 여성 셀린니트3종</td>\n",
       "      <td>의류</td>\n",
       "      <td>39900</td>\n",
       "      <td>6955000</td>\n",
       "      <td>...</td>\n",
       "      <td>0</td>\n",
       "      <td>0</td>\n",
       "      <td>0</td>\n",
       "      <td>0</td>\n",
       "      <td>0</td>\n",
       "      <td>0</td>\n",
       "      <td>0</td>\n",
       "      <td>0</td>\n",
       "      <td>1</td>\n",
       "      <td>0</td>\n",
       "    </tr>\n",
       "    <tr>\n",
       "      <th>4</th>\n",
       "      <td>4</td>\n",
       "      <td>4</td>\n",
       "      <td>2019-01-01 06:40:00</td>\n",
       "      <td>20.0</td>\n",
       "      <td>100346</td>\n",
       "      <td>201072</td>\n",
       "      <td>테이트 남성 셀린니트3종</td>\n",
       "      <td>의류</td>\n",
       "      <td>39900</td>\n",
       "      <td>6672000</td>\n",
       "      <td>...</td>\n",
       "      <td>0</td>\n",
       "      <td>0</td>\n",
       "      <td>0</td>\n",
       "      <td>0</td>\n",
       "      <td>0</td>\n",
       "      <td>0</td>\n",
       "      <td>0</td>\n",
       "      <td>0</td>\n",
       "      <td>0</td>\n",
       "      <td>1</td>\n",
       "    </tr>\n",
       "  </tbody>\n",
       "</table>\n",
       "<p>5 rows × 28 columns</p>\n",
       "</div>"
      ],
      "text/plain": [
       "   Unnamed: 0  Unnamed: 0.1                 방송일시  노출(분)    마더코드    상품코드  \\\n",
       "0           0             0  2019-01-01 06:00:00   20.0  100346  201072   \n",
       "1           1             1  2019-01-01 06:00:00    NaN  100346  201079   \n",
       "2           2             2  2019-01-01 06:20:00   20.0  100346  201072   \n",
       "3           3             3  2019-01-01 06:20:00    NaN  100346  201079   \n",
       "4           4             4  2019-01-01 06:40:00   20.0  100346  201072   \n",
       "\n",
       "             상품명 상품군   판매단가      취급액  ...  가전  농수축  생활용품  속옷  이미용  잡화  침구  무관  \\\n",
       "0  테이트 남성 셀린니트3종  의류  39900  2099000  ...   0    0     0   0    0   0   0   0   \n",
       "1  테이트 여성 셀린니트3종  의류  39900  4371000  ...   0    0     0   0    0   0   0   0   \n",
       "2  테이트 남성 셀린니트3종  의류  39900  3262000  ...   0    0     0   0    0   0   0   0   \n",
       "3  테이트 여성 셀린니트3종  의류  39900  6955000  ...   0    0     0   0    0   0   0   0   \n",
       "4  테이트 남성 셀린니트3종  의류  39900  6672000  ...   0    0     0   0    0   0   0   0   \n",
       "\n",
       "   여성  남성  \n",
       "0   0   1  \n",
       "1   1   0  \n",
       "2   0   1  \n",
       "3   1   0  \n",
       "4   0   1  \n",
       "\n",
       "[5 rows x 28 columns]"
      ]
     },
     "execution_count": 161,
     "metadata": {},
     "output_type": "execute_result"
    }
   ],
   "source": [
    "df.head()"
   ]
  },
  {
   "cell_type": "code",
   "execution_count": 162,
   "metadata": {},
   "outputs": [
    {
     "name": "stdout",
     "output_type": "stream",
     "text": [
      "<class 'pandas.core.frame.DataFrame'>\n",
      "RangeIndex: 37372 entries, 0 to 37371\n",
      "Data columns (total 28 columns):\n",
      " #   Column        Non-Null Count  Dtype  \n",
      "---  ------        --------------  -----  \n",
      " 0   Unnamed: 0    37372 non-null  int64  \n",
      " 1   Unnamed: 0.1  37372 non-null  int64  \n",
      " 2   방송일시          37372 non-null  object \n",
      " 3   노출(분)         20588 non-null  float64\n",
      " 4   마더코드          37372 non-null  int64  \n",
      " 5   상품코드          37372 non-null  int64  \n",
      " 6   상품명           37372 non-null  object \n",
      " 7   상품군           37372 non-null  object \n",
      " 8   판매단가          37372 non-null  int64  \n",
      " 9   취급액           37372 non-null  int64  \n",
      " 10  월             37372 non-null  int64  \n",
      " 11  일             37372 non-null  int64  \n",
      " 12  요일            37372 non-null  int64  \n",
      " 13  수량            37372 non-null  float64\n",
      " 14  의류            37372 non-null  int64  \n",
      " 15  주방            37372 non-null  int64  \n",
      " 16  가구            37372 non-null  int64  \n",
      " 17  건강기능          37372 non-null  int64  \n",
      " 18  가전            37372 non-null  int64  \n",
      " 19  농수축           37372 non-null  int64  \n",
      " 20  생활용품          37372 non-null  int64  \n",
      " 21  속옷            37372 non-null  int64  \n",
      " 22  이미용           37372 non-null  int64  \n",
      " 23  잡화            37372 non-null  int64  \n",
      " 24  침구            37372 non-null  int64  \n",
      " 25  무관            37372 non-null  int64  \n",
      " 26  여성            37372 non-null  int64  \n",
      " 27  남성            37372 non-null  int64  \n",
      "dtypes: float64(2), int64(23), object(3)\n",
      "memory usage: 8.0+ MB\n"
     ]
    }
   ],
   "source": [
    "df.info()"
   ]
  },
  {
   "cell_type": "code",
   "execution_count": 163,
   "metadata": {},
   "outputs": [],
   "source": [
    "pd.set_option('mode.chained_assignment',  None)"
   ]
  },
  {
   "cell_type": "code",
   "execution_count": 164,
   "metadata": {},
   "outputs": [],
   "source": [
    "# 이상치 처리1\n",
    "filtering_outlier = df.query('취급액 > 180000000')\n",
    "filtering_outlier_index = list(filtering_outlier.index)\n",
    "\n",
    "for i in filtering_outlier_index:\n",
    "    tmp = df.loc[i,'마더코드']\n",
    "    df.loc[i,'취급액'] = df[df['마더코드'] == tmp].sort_values(by='취급액' ,ascending=False)['취급액'].iloc[2]"
   ]
  },
  {
   "cell_type": "code",
   "execution_count": 165,
   "metadata": {},
   "outputs": [],
   "source": [
    "# 이상치 처리2\n",
    "filtering = df[df['취급액']==50000].index\n",
    "mydata = df.drop(filtering)"
   ]
  },
  {
   "cell_type": "code",
   "execution_count": 166,
   "metadata": {},
   "outputs": [],
   "source": [
    "df.dropna(subset=['취급액'], inplace=True)\n"
   ]
  },
  {
   "cell_type": "code",
   "execution_count": 167,
   "metadata": {},
   "outputs": [
    {
     "data": {
      "text/plain": [
       "16784"
      ]
     },
     "execution_count": 167,
     "metadata": {},
     "output_type": "execute_result"
    }
   ],
   "source": [
    "df['노출(분)'].isnull().sum()"
   ]
  },
  {
   "cell_type": "code",
   "execution_count": 168,
   "metadata": {},
   "outputs": [
    {
     "data": {
      "text/plain": [
       "0        20.0\n",
       "1        20.0\n",
       "2        20.0\n",
       "3        20.0\n",
       "4        20.0\n",
       "         ... \n",
       "37367    20.0\n",
       "37368    20.0\n",
       "37369    20.0\n",
       "37370    20.0\n",
       "37371    20.0\n",
       "Name: 노출(분), Length: 37372, dtype: float64"
      ]
     },
     "execution_count": 168,
     "metadata": {},
     "output_type": "execute_result"
    }
   ],
   "source": [
    "df['노출(분)']= df['노출(분)'].fillna(method='pad')\n",
    "df['노출(분)']"
   ]
  },
  {
   "cell_type": "code",
   "execution_count": 169,
   "metadata": {
    "scrolled": false
   },
   "outputs": [
    {
     "name": "stdout",
     "output_type": "stream",
     "text": [
      "<class 'pandas.core.frame.DataFrame'>\n",
      "Int64Index: 37372 entries, 0 to 37371\n",
      "Data columns (total 28 columns):\n",
      " #   Column        Non-Null Count  Dtype  \n",
      "---  ------        --------------  -----  \n",
      " 0   Unnamed: 0    37372 non-null  int64  \n",
      " 1   Unnamed: 0.1  37372 non-null  int64  \n",
      " 2   방송일시          37372 non-null  object \n",
      " 3   노출(분)         37372 non-null  float64\n",
      " 4   마더코드          37372 non-null  int64  \n",
      " 5   상품코드          37372 non-null  int64  \n",
      " 6   상품명           37372 non-null  object \n",
      " 7   상품군           37372 non-null  object \n",
      " 8   판매단가          37372 non-null  int64  \n",
      " 9   취급액           37372 non-null  int64  \n",
      " 10  월             37372 non-null  int64  \n",
      " 11  일             37372 non-null  int64  \n",
      " 12  요일            37372 non-null  int64  \n",
      " 13  수량            37372 non-null  float64\n",
      " 14  의류            37372 non-null  int64  \n",
      " 15  주방            37372 non-null  int64  \n",
      " 16  가구            37372 non-null  int64  \n",
      " 17  건강기능          37372 non-null  int64  \n",
      " 18  가전            37372 non-null  int64  \n",
      " 19  농수축           37372 non-null  int64  \n",
      " 20  생활용품          37372 non-null  int64  \n",
      " 21  속옷            37372 non-null  int64  \n",
      " 22  이미용           37372 non-null  int64  \n",
      " 23  잡화            37372 non-null  int64  \n",
      " 24  침구            37372 non-null  int64  \n",
      " 25  무관            37372 non-null  int64  \n",
      " 26  여성            37372 non-null  int64  \n",
      " 27  남성            37372 non-null  int64  \n",
      "dtypes: float64(2), int64(23), object(3)\n",
      "memory usage: 8.3+ MB\n"
     ]
    }
   ],
   "source": [
    "df.info()"
   ]
  },
  {
   "cell_type": "code",
   "execution_count": 117,
   "metadata": {
    "scrolled": false
   },
   "outputs": [
    {
     "data": {
      "text/plain": [
       "['Unnamed: 0',\n",
       " 'Unnamed: 0.1',\n",
       " '방송일시',\n",
       " '노출(분)',\n",
       " '마더코드',\n",
       " '상품코드',\n",
       " '상품명',\n",
       " '상품군',\n",
       " '판매단가',\n",
       " '취급액',\n",
       " '월',\n",
       " '일',\n",
       " '요일',\n",
       " '수량',\n",
       " '의류',\n",
       " '주방',\n",
       " '가구',\n",
       " '건강기능',\n",
       " '가전',\n",
       " '농수축',\n",
       " '생활용품',\n",
       " '속옷',\n",
       " '이미용',\n",
       " '잡화',\n",
       " '침구',\n",
       " '무관',\n",
       " '여성',\n",
       " '남성']"
      ]
     },
     "execution_count": 117,
     "metadata": {},
     "output_type": "execute_result"
    }
   ],
   "source": [
    "list(df.columns.values)"
   ]
  },
  {
   "cell_type": "code",
   "execution_count": 118,
   "metadata": {},
   "outputs": [
    {
     "name": "stdout",
     "output_type": "stream",
     "text": [
      "<class 'pandas.core.frame.DataFrame'>\n",
      "Int64Index: 37372 entries, 0 to 37371\n",
      "Data columns (total 28 columns):\n",
      " #   Column        Non-Null Count  Dtype  \n",
      "---  ------        --------------  -----  \n",
      " 0   Unnamed: 0    37372 non-null  int64  \n",
      " 1   Unnamed: 0.1  37372 non-null  int64  \n",
      " 2   방송일시          37372 non-null  object \n",
      " 3   노출(분)         37372 non-null  float64\n",
      " 4   마더코드          37372 non-null  int64  \n",
      " 5   상품코드          37372 non-null  int64  \n",
      " 6   상품명           37372 non-null  object \n",
      " 7   상품군           37372 non-null  object \n",
      " 8   판매단가          37372 non-null  int64  \n",
      " 9   취급액           37372 non-null  int64  \n",
      " 10  월             37372 non-null  int64  \n",
      " 11  일             37372 non-null  int64  \n",
      " 12  요일            37372 non-null  int64  \n",
      " 13  수량            37372 non-null  float64\n",
      " 14  의류            37372 non-null  int64  \n",
      " 15  주방            37372 non-null  int64  \n",
      " 16  가구            37372 non-null  int64  \n",
      " 17  건강기능          37372 non-null  int64  \n",
      " 18  가전            37372 non-null  int64  \n",
      " 19  농수축           37372 non-null  int64  \n",
      " 20  생활용품          37372 non-null  int64  \n",
      " 21  속옷            37372 non-null  int64  \n",
      " 22  이미용           37372 non-null  int64  \n",
      " 23  잡화            37372 non-null  int64  \n",
      " 24  침구            37372 non-null  int64  \n",
      " 25  무관            37372 non-null  int64  \n",
      " 26  여성            37372 non-null  int64  \n",
      " 27  남성            37372 non-null  int64  \n",
      "dtypes: float64(2), int64(23), object(3)\n",
      "memory usage: 8.3+ MB\n"
     ]
    }
   ],
   "source": [
    "df.info()"
   ]
  },
  {
   "cell_type": "code",
   "execution_count": 119,
   "metadata": {},
   "outputs": [],
   "source": [
    "df = df.drop(['Unnamed: 0', 'Unnamed: 0.1','상품코드', '상품군','상품명','수량'], axis=1) "
   ]
  },
  {
   "cell_type": "code",
   "execution_count": 79,
   "metadata": {},
   "outputs": [
    {
     "name": "stdout",
     "output_type": "stream",
     "text": [
      "<class 'pandas.core.frame.DataFrame'>\n",
      "Int64Index: 37372 entries, 0 to 37371\n",
      "Data columns (total 22 columns):\n",
      " #   Column  Non-Null Count  Dtype  \n",
      "---  ------  --------------  -----  \n",
      " 0   방송일시    37372 non-null  object \n",
      " 1   노출(분)   20588 non-null  float64\n",
      " 2   마더코드    37372 non-null  int64  \n",
      " 3   판매단가    37372 non-null  int64  \n",
      " 4   취급액     37372 non-null  int64  \n",
      " 5   월       37372 non-null  int64  \n",
      " 6   일       37372 non-null  int64  \n",
      " 7   요일      37372 non-null  int64  \n",
      " 8   의류      37372 non-null  int64  \n",
      " 9   주방      37372 non-null  int64  \n",
      " 10  가구      37372 non-null  int64  \n",
      " 11  건강기능    37372 non-null  int64  \n",
      " 12  가전      37372 non-null  int64  \n",
      " 13  농수축     37372 non-null  int64  \n",
      " 14  생활용품    37372 non-null  int64  \n",
      " 15  속옷      37372 non-null  int64  \n",
      " 16  이미용     37372 non-null  int64  \n",
      " 17  잡화      37372 non-null  int64  \n",
      " 18  침구      37372 non-null  int64  \n",
      " 19  무관      37372 non-null  int64  \n",
      " 20  여성      37372 non-null  int64  \n",
      " 21  남성      37372 non-null  int64  \n",
      "dtypes: float64(1), int64(20), object(1)\n",
      "memory usage: 6.6+ MB\n"
     ]
    }
   ],
   "source": [
    "df.info()"
   ]
  },
  {
   "cell_type": "code",
   "execution_count": 120,
   "metadata": {},
   "outputs": [],
   "source": [
    "df['방송일시']=pd.to_datetime(df['방송일시'])"
   ]
  },
  {
   "cell_type": "code",
   "execution_count": null,
   "metadata": {},
   "outputs": [],
   "source": [
    "df.set_index('방송일시', inplace=True)"
   ]
  },
  {
   "cell_type": "code",
   "execution_count": 92,
   "metadata": {},
   "outputs": [
    {
     "data": {
      "text/html": [
       "<div>\n",
       "<style scoped>\n",
       "    .dataframe tbody tr th:only-of-type {\n",
       "        vertical-align: middle;\n",
       "    }\n",
       "\n",
       "    .dataframe tbody tr th {\n",
       "        vertical-align: top;\n",
       "    }\n",
       "\n",
       "    .dataframe thead th {\n",
       "        text-align: right;\n",
       "    }\n",
       "</style>\n",
       "<table border=\"1\" class=\"dataframe\">\n",
       "  <thead>\n",
       "    <tr style=\"text-align: right;\">\n",
       "      <th></th>\n",
       "      <th>노출(분)</th>\n",
       "      <th>마더코드</th>\n",
       "      <th>판매단가</th>\n",
       "      <th>취급액</th>\n",
       "      <th>월</th>\n",
       "      <th>일</th>\n",
       "      <th>요일</th>\n",
       "      <th>의류</th>\n",
       "      <th>주방</th>\n",
       "      <th>가구</th>\n",
       "      <th>...</th>\n",
       "      <th>가전</th>\n",
       "      <th>농수축</th>\n",
       "      <th>생활용품</th>\n",
       "      <th>속옷</th>\n",
       "      <th>이미용</th>\n",
       "      <th>잡화</th>\n",
       "      <th>침구</th>\n",
       "      <th>무관</th>\n",
       "      <th>여성</th>\n",
       "      <th>남성</th>\n",
       "    </tr>\n",
       "    <tr>\n",
       "      <th>방송일시</th>\n",
       "      <th></th>\n",
       "      <th></th>\n",
       "      <th></th>\n",
       "      <th></th>\n",
       "      <th></th>\n",
       "      <th></th>\n",
       "      <th></th>\n",
       "      <th></th>\n",
       "      <th></th>\n",
       "      <th></th>\n",
       "      <th></th>\n",
       "      <th></th>\n",
       "      <th></th>\n",
       "      <th></th>\n",
       "      <th></th>\n",
       "      <th></th>\n",
       "      <th></th>\n",
       "      <th></th>\n",
       "      <th></th>\n",
       "      <th></th>\n",
       "      <th></th>\n",
       "    </tr>\n",
       "  </thead>\n",
       "  <tbody>\n",
       "    <tr>\n",
       "      <th>2019-01-01 06:00:00</th>\n",
       "      <td>20.0</td>\n",
       "      <td>100346</td>\n",
       "      <td>39900</td>\n",
       "      <td>2099000</td>\n",
       "      <td>1</td>\n",
       "      <td>1</td>\n",
       "      <td>1</td>\n",
       "      <td>1</td>\n",
       "      <td>0</td>\n",
       "      <td>0</td>\n",
       "      <td>...</td>\n",
       "      <td>0</td>\n",
       "      <td>0</td>\n",
       "      <td>0</td>\n",
       "      <td>0</td>\n",
       "      <td>0</td>\n",
       "      <td>0</td>\n",
       "      <td>0</td>\n",
       "      <td>0</td>\n",
       "      <td>0</td>\n",
       "      <td>1</td>\n",
       "    </tr>\n",
       "    <tr>\n",
       "      <th>2019-01-01 06:00:00</th>\n",
       "      <td>20.0</td>\n",
       "      <td>100346</td>\n",
       "      <td>39900</td>\n",
       "      <td>4371000</td>\n",
       "      <td>1</td>\n",
       "      <td>1</td>\n",
       "      <td>1</td>\n",
       "      <td>1</td>\n",
       "      <td>0</td>\n",
       "      <td>0</td>\n",
       "      <td>...</td>\n",
       "      <td>0</td>\n",
       "      <td>0</td>\n",
       "      <td>0</td>\n",
       "      <td>0</td>\n",
       "      <td>0</td>\n",
       "      <td>0</td>\n",
       "      <td>0</td>\n",
       "      <td>0</td>\n",
       "      <td>1</td>\n",
       "      <td>0</td>\n",
       "    </tr>\n",
       "    <tr>\n",
       "      <th>2019-01-01 06:20:00</th>\n",
       "      <td>20.0</td>\n",
       "      <td>100346</td>\n",
       "      <td>39900</td>\n",
       "      <td>3262000</td>\n",
       "      <td>1</td>\n",
       "      <td>1</td>\n",
       "      <td>1</td>\n",
       "      <td>1</td>\n",
       "      <td>0</td>\n",
       "      <td>0</td>\n",
       "      <td>...</td>\n",
       "      <td>0</td>\n",
       "      <td>0</td>\n",
       "      <td>0</td>\n",
       "      <td>0</td>\n",
       "      <td>0</td>\n",
       "      <td>0</td>\n",
       "      <td>0</td>\n",
       "      <td>0</td>\n",
       "      <td>0</td>\n",
       "      <td>1</td>\n",
       "    </tr>\n",
       "    <tr>\n",
       "      <th>2019-01-01 06:20:00</th>\n",
       "      <td>20.0</td>\n",
       "      <td>100346</td>\n",
       "      <td>39900</td>\n",
       "      <td>6955000</td>\n",
       "      <td>1</td>\n",
       "      <td>1</td>\n",
       "      <td>1</td>\n",
       "      <td>1</td>\n",
       "      <td>0</td>\n",
       "      <td>0</td>\n",
       "      <td>...</td>\n",
       "      <td>0</td>\n",
       "      <td>0</td>\n",
       "      <td>0</td>\n",
       "      <td>0</td>\n",
       "      <td>0</td>\n",
       "      <td>0</td>\n",
       "      <td>0</td>\n",
       "      <td>0</td>\n",
       "      <td>1</td>\n",
       "      <td>0</td>\n",
       "    </tr>\n",
       "    <tr>\n",
       "      <th>2019-01-01 06:40:00</th>\n",
       "      <td>20.0</td>\n",
       "      <td>100346</td>\n",
       "      <td>39900</td>\n",
       "      <td>6672000</td>\n",
       "      <td>1</td>\n",
       "      <td>1</td>\n",
       "      <td>1</td>\n",
       "      <td>1</td>\n",
       "      <td>0</td>\n",
       "      <td>0</td>\n",
       "      <td>...</td>\n",
       "      <td>0</td>\n",
       "      <td>0</td>\n",
       "      <td>0</td>\n",
       "      <td>0</td>\n",
       "      <td>0</td>\n",
       "      <td>0</td>\n",
       "      <td>0</td>\n",
       "      <td>0</td>\n",
       "      <td>0</td>\n",
       "      <td>1</td>\n",
       "    </tr>\n",
       "    <tr>\n",
       "      <th>...</th>\n",
       "      <td>...</td>\n",
       "      <td>...</td>\n",
       "      <td>...</td>\n",
       "      <td>...</td>\n",
       "      <td>...</td>\n",
       "      <td>...</td>\n",
       "      <td>...</td>\n",
       "      <td>...</td>\n",
       "      <td>...</td>\n",
       "      <td>...</td>\n",
       "      <td>...</td>\n",
       "      <td>...</td>\n",
       "      <td>...</td>\n",
       "      <td>...</td>\n",
       "      <td>...</td>\n",
       "      <td>...</td>\n",
       "      <td>...</td>\n",
       "      <td>...</td>\n",
       "      <td>...</td>\n",
       "      <td>...</td>\n",
       "      <td>...</td>\n",
       "    </tr>\n",
       "    <tr>\n",
       "      <th>2019-12-31 23:40:00</th>\n",
       "      <td>20.0</td>\n",
       "      <td>100448</td>\n",
       "      <td>148000</td>\n",
       "      <td>10157000</td>\n",
       "      <td>12</td>\n",
       "      <td>31</td>\n",
       "      <td>1</td>\n",
       "      <td>0</td>\n",
       "      <td>1</td>\n",
       "      <td>0</td>\n",
       "      <td>...</td>\n",
       "      <td>0</td>\n",
       "      <td>0</td>\n",
       "      <td>0</td>\n",
       "      <td>0</td>\n",
       "      <td>0</td>\n",
       "      <td>0</td>\n",
       "      <td>0</td>\n",
       "      <td>1</td>\n",
       "      <td>0</td>\n",
       "      <td>0</td>\n",
       "    </tr>\n",
       "    <tr>\n",
       "      <th>2020-01-01 00:00:00</th>\n",
       "      <td>20.0</td>\n",
       "      <td>100448</td>\n",
       "      <td>178000</td>\n",
       "      <td>50929000</td>\n",
       "      <td>1</td>\n",
       "      <td>1</td>\n",
       "      <td>2</td>\n",
       "      <td>0</td>\n",
       "      <td>1</td>\n",
       "      <td>0</td>\n",
       "      <td>...</td>\n",
       "      <td>0</td>\n",
       "      <td>0</td>\n",
       "      <td>0</td>\n",
       "      <td>0</td>\n",
       "      <td>0</td>\n",
       "      <td>0</td>\n",
       "      <td>0</td>\n",
       "      <td>1</td>\n",
       "      <td>0</td>\n",
       "      <td>0</td>\n",
       "    </tr>\n",
       "    <tr>\n",
       "      <th>2020-01-01 00:00:00</th>\n",
       "      <td>20.0</td>\n",
       "      <td>100448</td>\n",
       "      <td>168000</td>\n",
       "      <td>104392000</td>\n",
       "      <td>1</td>\n",
       "      <td>1</td>\n",
       "      <td>2</td>\n",
       "      <td>0</td>\n",
       "      <td>1</td>\n",
       "      <td>0</td>\n",
       "      <td>...</td>\n",
       "      <td>0</td>\n",
       "      <td>0</td>\n",
       "      <td>0</td>\n",
       "      <td>0</td>\n",
       "      <td>0</td>\n",
       "      <td>0</td>\n",
       "      <td>0</td>\n",
       "      <td>1</td>\n",
       "      <td>0</td>\n",
       "      <td>0</td>\n",
       "    </tr>\n",
       "    <tr>\n",
       "      <th>2020-01-01 00:00:00</th>\n",
       "      <td>20.0</td>\n",
       "      <td>100448</td>\n",
       "      <td>158000</td>\n",
       "      <td>13765000</td>\n",
       "      <td>1</td>\n",
       "      <td>1</td>\n",
       "      <td>2</td>\n",
       "      <td>0</td>\n",
       "      <td>1</td>\n",
       "      <td>0</td>\n",
       "      <td>...</td>\n",
       "      <td>0</td>\n",
       "      <td>0</td>\n",
       "      <td>0</td>\n",
       "      <td>0</td>\n",
       "      <td>0</td>\n",
       "      <td>0</td>\n",
       "      <td>0</td>\n",
       "      <td>1</td>\n",
       "      <td>0</td>\n",
       "      <td>0</td>\n",
       "    </tr>\n",
       "    <tr>\n",
       "      <th>2020-01-01 00:00:00</th>\n",
       "      <td>20.0</td>\n",
       "      <td>100448</td>\n",
       "      <td>148000</td>\n",
       "      <td>46608000</td>\n",
       "      <td>1</td>\n",
       "      <td>1</td>\n",
       "      <td>2</td>\n",
       "      <td>0</td>\n",
       "      <td>1</td>\n",
       "      <td>0</td>\n",
       "      <td>...</td>\n",
       "      <td>0</td>\n",
       "      <td>0</td>\n",
       "      <td>0</td>\n",
       "      <td>0</td>\n",
       "      <td>0</td>\n",
       "      <td>0</td>\n",
       "      <td>0</td>\n",
       "      <td>1</td>\n",
       "      <td>0</td>\n",
       "      <td>0</td>\n",
       "    </tr>\n",
       "  </tbody>\n",
       "</table>\n",
       "<p>37372 rows × 21 columns</p>\n",
       "</div>"
      ],
      "text/plain": [
       "                     노출(분)    마더코드    판매단가        취급액   월   일  요일  의류  주방  가구  \\\n",
       "방송일시                                                                            \n",
       "2019-01-01 06:00:00   20.0  100346   39900    2099000   1   1   1   1   0   0   \n",
       "2019-01-01 06:00:00   20.0  100346   39900    4371000   1   1   1   1   0   0   \n",
       "2019-01-01 06:20:00   20.0  100346   39900    3262000   1   1   1   1   0   0   \n",
       "2019-01-01 06:20:00   20.0  100346   39900    6955000   1   1   1   1   0   0   \n",
       "2019-01-01 06:40:00   20.0  100346   39900    6672000   1   1   1   1   0   0   \n",
       "...                    ...     ...     ...        ...  ..  ..  ..  ..  ..  ..   \n",
       "2019-12-31 23:40:00   20.0  100448  148000   10157000  12  31   1   0   1   0   \n",
       "2020-01-01 00:00:00   20.0  100448  178000   50929000   1   1   2   0   1   0   \n",
       "2020-01-01 00:00:00   20.0  100448  168000  104392000   1   1   2   0   1   0   \n",
       "2020-01-01 00:00:00   20.0  100448  158000   13765000   1   1   2   0   1   0   \n",
       "2020-01-01 00:00:00   20.0  100448  148000   46608000   1   1   2   0   1   0   \n",
       "\n",
       "                     ...  가전  농수축  생활용품  속옷  이미용  잡화  침구  무관  여성  남성  \n",
       "방송일시                 ...                                              \n",
       "2019-01-01 06:00:00  ...   0    0     0   0    0   0   0   0   0   1  \n",
       "2019-01-01 06:00:00  ...   0    0     0   0    0   0   0   0   1   0  \n",
       "2019-01-01 06:20:00  ...   0    0     0   0    0   0   0   0   0   1  \n",
       "2019-01-01 06:20:00  ...   0    0     0   0    0   0   0   0   1   0  \n",
       "2019-01-01 06:40:00  ...   0    0     0   0    0   0   0   0   0   1  \n",
       "...                  ...  ..  ...   ...  ..  ...  ..  ..  ..  ..  ..  \n",
       "2019-12-31 23:40:00  ...   0    0     0   0    0   0   0   1   0   0  \n",
       "2020-01-01 00:00:00  ...   0    0     0   0    0   0   0   1   0   0  \n",
       "2020-01-01 00:00:00  ...   0    0     0   0    0   0   0   1   0   0  \n",
       "2020-01-01 00:00:00  ...   0    0     0   0    0   0   0   1   0   0  \n",
       "2020-01-01 00:00:00  ...   0    0     0   0    0   0   0   1   0   0  \n",
       "\n",
       "[37372 rows x 21 columns]"
      ]
     },
     "execution_count": 92,
     "metadata": {},
     "output_type": "execute_result"
    }
   ],
   "source": [
    "df"
   ]
  },
  {
   "cell_type": "code",
   "execution_count": 95,
   "metadata": {},
   "outputs": [
    {
     "data": {
      "text/plain": [
       "DatetimeIndex(['2019-01-01 06:00:00', '2019-04-01 06:00:00',\n",
       "               '2019-04-01 06:00:00', '2019-07-01 06:00:00',\n",
       "               '2019-10-01 06:00:00'],\n",
       "              dtype='datetime64[ns]', freq=None)"
      ]
     },
     "execution_count": 95,
     "metadata": {},
     "output_type": "execute_result"
    }
   ],
   "source": [
    "# Timestamp를 Period로 변환\n",
    "\n",
    "dates = ['2019-01-01 06:00:00','2019-04-01 06:00:00','2019-04-01 06:00:00',\n",
    "         '2019-07-01 06:00:00','2019-10-01 06:00:00']\n",
    "\n",
    "ts_dates= pd.to_datetime(dates)\n",
    "ts_dates"
   ]
  },
  {
   "cell_type": "code",
   "execution_count": 98,
   "metadata": {},
   "outputs": [
    {
     "data": {
      "text/plain": [
       "(PeriodIndex(['2019-01-01', '2019-04-01', '2019-04-01', '2019-07-01',\n",
       "              '2019-10-01'],\n",
       "             dtype='period[D]', freq='D'),\n",
       " PeriodIndex(['2019-01', '2019-04', '2019-04', '2019-07', '2019-10'], dtype='period[M]', freq='M'),\n",
       " PeriodIndex(['2019', '2019', '2019', '2019', '2019'], dtype='period[A-DEC]', freq='A-DEC'))"
      ]
     },
     "execution_count": 98,
     "metadata": {},
     "output_type": "execute_result"
    }
   ],
   "source": [
    "# Timpestamp 를 Period 변환\n",
    "pr_day = ts_dates.to_period(freq='D') # 1일의 기간\n",
    "pr_month = ts_dates.to_period(freq='M') # 1개월의 기간\n",
    "pr_year = ts_dates.to_period(freq='A') # 1년의 기간\n",
    "\n",
    "pr_day , pr_month , pr_year"
   ]
  },
  {
   "cell_type": "code",
   "execution_count": 101,
   "metadata": {},
   "outputs": [
    {
     "data": {
      "text/plain": [
       "DatetimeIndex(['2019-01-01 00:06:00+09:00', '2019-02-01 00:06:00+09:00',\n",
       "               '2019-03-01 00:06:00+09:00', '2019-04-01 00:06:00+09:00',\n",
       "               '2019-05-01 00:06:00+09:00', '2019-06-01 00:06:00+09:00',\n",
       "               '2019-07-01 00:06:00+09:00', '2019-08-01 00:06:00+09:00',\n",
       "               '2019-09-01 00:06:00+09:00', '2019-10-01 00:06:00+09:00',\n",
       "               '2019-11-01 00:06:00+09:00', '2019-12-01 00:06:00+09:00'],\n",
       "              dtype='datetime64[ns, Asia/Seoul]', freq='MS')"
      ]
     },
     "execution_count": 101,
     "metadata": {},
     "output_type": "execute_result"
    }
   ],
   "source": [
    "tm_ms = pd.date_range(start = '2019-01-01 00:06:00', \n",
    "                      end = None, \n",
    "                      periods = 12,\n",
    "                      freq = 'MS',\n",
    "                      tz = 'Asia/Seoul')\n",
    "tm_ms "
   ]
  },
  {
   "cell_type": "code",
   "execution_count": 103,
   "metadata": {},
   "outputs": [
    {
     "data": {
      "text/plain": [
       "DatetimeIndex(['2019-01-31 00:06:00+09:00', '2019-02-28 00:06:00+09:00',\n",
       "               '2019-03-31 00:06:00+09:00', '2019-04-30 00:06:00+09:00',\n",
       "               '2019-05-31 00:06:00+09:00', '2019-06-30 00:06:00+09:00',\n",
       "               '2019-07-31 00:06:00+09:00', '2019-08-31 00:06:00+09:00',\n",
       "               '2019-09-30 00:06:00+09:00', '2019-10-31 00:06:00+09:00',\n",
       "               '2019-11-30 00:06:00+09:00', '2019-12-31 00:06:00+09:00'],\n",
       "              dtype='datetime64[ns, Asia/Seoul]', freq='M')"
      ]
     },
     "execution_count": 103,
     "metadata": {},
     "output_type": "execute_result"
    }
   ],
   "source": [
    "tm_me = pd.date_range(start = '2019-01-01 00:06:00',  \n",
    "                      periods = 12,\n",
    "                      freq = 'M',\n",
    "                      tz = 'Asia/Seoul')\n",
    "tm_me "
   ]
  },
  {
   "cell_type": "code",
   "execution_count": 105,
   "metadata": {},
   "outputs": [
    {
     "data": {
      "text/plain": [
       "DatetimeIndex(['2019-01-31 00:06:00+09:00', '2019-04-30 00:06:00+09:00',\n",
       "               '2019-07-31 00:06:00+09:00', '2019-10-31 00:06:00+09:00',\n",
       "               '2020-01-31 00:06:00+09:00', '2020-04-30 00:06:00+09:00',\n",
       "               '2020-07-31 00:06:00+09:00', '2020-10-31 00:06:00+09:00',\n",
       "               '2021-01-31 00:06:00+09:00', '2021-04-30 00:06:00+09:00',\n",
       "               '2021-07-31 00:06:00+09:00', '2021-10-31 00:06:00+09:00'],\n",
       "              dtype='datetime64[ns, Asia/Seoul]', freq='3M')"
      ]
     },
     "execution_count": 105,
     "metadata": {},
     "output_type": "execute_result"
    }
   ],
   "source": [
    "tm_3m = pd.date_range(start = '2019-01-01 00:06:00',  \n",
    "                      periods = 12,\n",
    "                      freq = '3M',\n",
    "                      tz = 'Asia/Seoul')\n",
    "tm_3m"
   ]
  },
  {
   "cell_type": "code",
   "execution_count": 121,
   "metadata": {},
   "outputs": [
    {
     "data": {
      "text/html": [
       "<div>\n",
       "<style scoped>\n",
       "    .dataframe tbody tr th:only-of-type {\n",
       "        vertical-align: middle;\n",
       "    }\n",
       "\n",
       "    .dataframe tbody tr th {\n",
       "        vertical-align: top;\n",
       "    }\n",
       "\n",
       "    .dataframe thead th {\n",
       "        text-align: right;\n",
       "    }\n",
       "</style>\n",
       "<table border=\"1\" class=\"dataframe\">\n",
       "  <thead>\n",
       "    <tr style=\"text-align: right;\">\n",
       "      <th></th>\n",
       "      <th>방송일시</th>\n",
       "      <th>노출(분)</th>\n",
       "      <th>마더코드</th>\n",
       "      <th>판매단가</th>\n",
       "      <th>취급액</th>\n",
       "      <th>월</th>\n",
       "      <th>일</th>\n",
       "      <th>요일</th>\n",
       "      <th>의류</th>\n",
       "      <th>주방</th>\n",
       "      <th>...</th>\n",
       "      <th>가전</th>\n",
       "      <th>농수축</th>\n",
       "      <th>생활용품</th>\n",
       "      <th>속옷</th>\n",
       "      <th>이미용</th>\n",
       "      <th>잡화</th>\n",
       "      <th>침구</th>\n",
       "      <th>무관</th>\n",
       "      <th>여성</th>\n",
       "      <th>남성</th>\n",
       "    </tr>\n",
       "  </thead>\n",
       "  <tbody>\n",
       "    <tr>\n",
       "      <th>37367</th>\n",
       "      <td>2019-12-31 23:40:00</td>\n",
       "      <td>20.0</td>\n",
       "      <td>100448</td>\n",
       "      <td>148000</td>\n",
       "      <td>10157000</td>\n",
       "      <td>12</td>\n",
       "      <td>31</td>\n",
       "      <td>1</td>\n",
       "      <td>0</td>\n",
       "      <td>1</td>\n",
       "      <td>...</td>\n",
       "      <td>0</td>\n",
       "      <td>0</td>\n",
       "      <td>0</td>\n",
       "      <td>0</td>\n",
       "      <td>0</td>\n",
       "      <td>0</td>\n",
       "      <td>0</td>\n",
       "      <td>1</td>\n",
       "      <td>0</td>\n",
       "      <td>0</td>\n",
       "    </tr>\n",
       "    <tr>\n",
       "      <th>37368</th>\n",
       "      <td>2020-01-01 00:00:00</td>\n",
       "      <td>20.0</td>\n",
       "      <td>100448</td>\n",
       "      <td>178000</td>\n",
       "      <td>50929000</td>\n",
       "      <td>1</td>\n",
       "      <td>1</td>\n",
       "      <td>2</td>\n",
       "      <td>0</td>\n",
       "      <td>1</td>\n",
       "      <td>...</td>\n",
       "      <td>0</td>\n",
       "      <td>0</td>\n",
       "      <td>0</td>\n",
       "      <td>0</td>\n",
       "      <td>0</td>\n",
       "      <td>0</td>\n",
       "      <td>0</td>\n",
       "      <td>1</td>\n",
       "      <td>0</td>\n",
       "      <td>0</td>\n",
       "    </tr>\n",
       "    <tr>\n",
       "      <th>37369</th>\n",
       "      <td>2020-01-01 00:00:00</td>\n",
       "      <td>20.0</td>\n",
       "      <td>100448</td>\n",
       "      <td>168000</td>\n",
       "      <td>104392000</td>\n",
       "      <td>1</td>\n",
       "      <td>1</td>\n",
       "      <td>2</td>\n",
       "      <td>0</td>\n",
       "      <td>1</td>\n",
       "      <td>...</td>\n",
       "      <td>0</td>\n",
       "      <td>0</td>\n",
       "      <td>0</td>\n",
       "      <td>0</td>\n",
       "      <td>0</td>\n",
       "      <td>0</td>\n",
       "      <td>0</td>\n",
       "      <td>1</td>\n",
       "      <td>0</td>\n",
       "      <td>0</td>\n",
       "    </tr>\n",
       "    <tr>\n",
       "      <th>37370</th>\n",
       "      <td>2020-01-01 00:00:00</td>\n",
       "      <td>20.0</td>\n",
       "      <td>100448</td>\n",
       "      <td>158000</td>\n",
       "      <td>13765000</td>\n",
       "      <td>1</td>\n",
       "      <td>1</td>\n",
       "      <td>2</td>\n",
       "      <td>0</td>\n",
       "      <td>1</td>\n",
       "      <td>...</td>\n",
       "      <td>0</td>\n",
       "      <td>0</td>\n",
       "      <td>0</td>\n",
       "      <td>0</td>\n",
       "      <td>0</td>\n",
       "      <td>0</td>\n",
       "      <td>0</td>\n",
       "      <td>1</td>\n",
       "      <td>0</td>\n",
       "      <td>0</td>\n",
       "    </tr>\n",
       "    <tr>\n",
       "      <th>37371</th>\n",
       "      <td>2020-01-01 00:00:00</td>\n",
       "      <td>20.0</td>\n",
       "      <td>100448</td>\n",
       "      <td>148000</td>\n",
       "      <td>46608000</td>\n",
       "      <td>1</td>\n",
       "      <td>1</td>\n",
       "      <td>2</td>\n",
       "      <td>0</td>\n",
       "      <td>1</td>\n",
       "      <td>...</td>\n",
       "      <td>0</td>\n",
       "      <td>0</td>\n",
       "      <td>0</td>\n",
       "      <td>0</td>\n",
       "      <td>0</td>\n",
       "      <td>0</td>\n",
       "      <td>0</td>\n",
       "      <td>1</td>\n",
       "      <td>0</td>\n",
       "      <td>0</td>\n",
       "    </tr>\n",
       "  </tbody>\n",
       "</table>\n",
       "<p>5 rows × 22 columns</p>\n",
       "</div>"
      ],
      "text/plain": [
       "                     방송일시  노출(분)    마더코드    판매단가        취급액   월   일  요일  의류  \\\n",
       "37367 2019-12-31 23:40:00   20.0  100448  148000   10157000  12  31   1   0   \n",
       "37368 2020-01-01 00:00:00   20.0  100448  178000   50929000   1   1   2   0   \n",
       "37369 2020-01-01 00:00:00   20.0  100448  168000  104392000   1   1   2   0   \n",
       "37370 2020-01-01 00:00:00   20.0  100448  158000   13765000   1   1   2   0   \n",
       "37371 2020-01-01 00:00:00   20.0  100448  148000   46608000   1   1   2   0   \n",
       "\n",
       "       주방  ...  가전  농수축  생활용품  속옷  이미용  잡화  침구  무관  여성  남성  \n",
       "37367   1  ...   0    0     0   0    0   0   0   1   0   0  \n",
       "37368   1  ...   0    0     0   0    0   0   0   1   0   0  \n",
       "37369   1  ...   0    0     0   0    0   0   0   1   0   0  \n",
       "37370   1  ...   0    0     0   0    0   0   0   1   0   0  \n",
       "37371   1  ...   0    0     0   0    0   0   0   1   0   0  \n",
       "\n",
       "[5 rows x 22 columns]"
      ]
     },
     "execution_count": 121,
     "metadata": {},
     "output_type": "execute_result"
    }
   ],
   "source": [
    "df.tail()"
   ]
  },
  {
   "cell_type": "code",
   "execution_count": 130,
   "metadata": {
    "scrolled": true
   },
   "outputs": [
    {
     "data": {
      "text/plain": [
       "<matplotlib.axes._subplots.AxesSubplot at 0x26bc912f148>"
      ]
     },
     "execution_count": 130,
     "metadata": {},
     "output_type": "execute_result"
    },
    {
     "data": {
      "image/png": "[encoded data removed]",
      "text/plain": [
       "<Figure size 432x288 with 1 Axes>"
      ]
     },
     "metadata": {
      "needs_background": "light"
     },
     "output_type": "display_data"
    }
   ],
   "source": [
    "df.plot(x='방송일시', y ='취급액')"
   ]
  },
  {
   "cell_type": "code",
   "execution_count": 144,
   "metadata": {},
   "outputs": [
    {
     "name": "stderr",
     "output_type": "stream",
     "text": [
      "C:\\Users\\rmafu\\.conda\\envs\\env_cpu\\lib\\site-packages\\ipykernel_launcher.py:1: FutureWarning: the 'freq'' keyword is deprecated, use 'period' instead\n",
      "  \"\"\"Entry point for launching an IPython kernel.\n",
      "C:\\Users\\rmafu\\.conda\\envs\\env_cpu\\lib\\site-packages\\matplotlib\\backends\\backend_agg.py:214: RuntimeWarning: Glyph 8722 missing from current font.\n",
      "  font.set_text(s, 0.0, flags=flags)\n"
     ]
    },
    {
     "ename": "AttributeError",
     "evalue": "'Figure' object has no attribute 'set_size_incehs'",
     "output_type": "error",
     "traceback": [
      "\u001b[1;31m---------------------------------------------------------------------------\u001b[0m",
      "\u001b[1;31mAttributeError\u001b[0m                            Traceback (most recent call last)",
      "\u001b[1;32m<ipython-input-144-1994e8847991>\u001b[0m in \u001b[0;36m<module>\u001b[1;34m\u001b[0m\n\u001b[0;32m      3\u001b[0m \u001b[0mfig\u001b[0m \u001b[1;33m=\u001b[0m \u001b[0mplt\u001b[0m\u001b[1;33m.\u001b[0m\u001b[0mfigure\u001b[0m\u001b[1;33m(\u001b[0m\u001b[1;33m)\u001b[0m\u001b[1;33m\u001b[0m\u001b[1;33m\u001b[0m\u001b[0m\n\u001b[0;32m      4\u001b[0m \u001b[0mfig\u001b[0m \u001b[1;33m=\u001b[0m \u001b[0mdecomposition\u001b[0m\u001b[1;33m.\u001b[0m\u001b[0mplot\u001b[0m\u001b[1;33m(\u001b[0m\u001b[1;33m)\u001b[0m\u001b[1;33m\u001b[0m\u001b[1;33m\u001b[0m\u001b[0m\n\u001b[1;32m----> 5\u001b[1;33m \u001b[0mfig\u001b[0m\u001b[1;33m.\u001b[0m\u001b[0mset_size_incehs\u001b[0m\u001b[1;33m(\u001b[0m\u001b[1;36m12\u001b[0m\u001b[1;33m,\u001b[0m\u001b[1;36m16\u001b[0m\u001b[1;33m)\u001b[0m\u001b[1;33m\u001b[0m\u001b[1;33m\u001b[0m\u001b[0m\n\u001b[0m",
      "\u001b[1;31mAttributeError\u001b[0m: 'Figure' object has no attribute 'set_size_incehs'"
     ]
    },
    {
     "data": {
      "text/plain": [
       "<Figure size 432x288 with 0 Axes>"
      ]
     },
     "metadata": {},
     "output_type": "display_data"
    },
    {
     "name": "stderr",
     "output_type": "stream",
     "text": [
      "C:\\Users\\rmafu\\.conda\\envs\\env_cpu\\lib\\site-packages\\matplotlib\\backends\\backend_agg.py:183: RuntimeWarning: Glyph 8722 missing from current font.\n",
      "  font.set_text(s, 0, flags=flags)\n"
     ]
    },
    {
     "data": {
      "image/png": "[encoded data removed]",
      "text/plain": [
       "<Figure size 432x288 with 4 Axes>"
      ]
     },
     "metadata": {
      "needs_background": "light"
     },
     "output_type": "display_data"
    }
   ],
   "source": [
    "decomposition = seasonal_decompose(df.취급액, freq=63)\n",
    "\n",
    "fig = plt.figure()\n",
    "fig = decomposition.plot()\n",
    "fig.set_size_incehs(12,16)"
   ]
  },
  {
   "cell_type": "code",
   "execution_count": 126,
   "metadata": {},
   "outputs": [],
   "source": [
    "import statsmodels.api as sm"
   ]
  },
  {
   "cell_type": "code",
   "execution_count": 128,
   "metadata": {
    "collapsed": true
   },
   "outputs": [
    {
     "data": {
      "image/png": "[encoded data removed]",
      "text/plain": [
       "<Figure size 432x288 with 1 Axes>"
      ]
     },
     "execution_count": 128,
     "metadata": {},
     "output_type": "execute_result"
    },
    {
     "data": {
      "image/png": "[encoded data removed]",
      "text/plain": [
       "<Figure size 432x288 with 1 Axes>"
      ]
     },
     "metadata": {
      "needs_background": "light"
     },
     "output_type": "display_data"
    }
   ],
   "source": [
    "sm.tsa.graphics.plot_acf(df.취급액)"
   ]
  },
  {
   "cell_type": "code",
   "execution_count": 142,
   "metadata": {},
   "outputs": [
    {
     "name": "stdout",
     "output_type": "stream",
     "text": [
      "                                      SARIMAX Results                                       \n",
      "============================================================================================\n",
      "Dep. Variable:                                  취급액   No. Observations:                37372\n",
      "Model:             SARIMAX(0, 2, 0)x(1, 1, [1], 12)   Log Likelihood             -701665.773\n",
      "Date:                              Thu, 03 Sep 2020   AIC                        1403337.547\n",
      "Time:                                      22:11:31   BIC                        1403363.131\n",
      "Sample:                                           0   HQIC                       1403345.671\n",
      "                                            - 37372                                         \n",
      "Covariance Type:                                opg                                         \n",
      "==============================================================================\n",
      "                 coef    std err          z      P>|z|      [0.025      0.975]\n",
      "------------------------------------------------------------------------------\n",
      "ar.S.L12       0.0830      0.007     12.218      0.000       0.070       0.096\n",
      "ma.S.L12      -0.9992      0.001  -1770.827      0.000      -1.000      -0.998\n",
      "sigma2      1.597e+15   5.16e-21   3.09e+35      0.000     1.6e+15     1.6e+15\n",
      "===================================================================================\n",
      "Ljung-Box (Q):                    15503.37   Jarque-Bera (JB):            160304.47\n",
      "Prob(Q):                              0.00   Prob(JB):                         0.00\n",
      "Heteroskedasticity (H):               1.53   Skew:                            -0.86\n",
      "Prob(H) (two-sided):                  0.00   Kurtosis:                        13.00\n",
      "===================================================================================\n",
      "\n",
      "Warnings:\n",
      "[1] Covariance matrix calculated using the outer product of gradients (complex-step).\n",
      "[2] Covariance matrix is singular or near-singular, with condition number 8.8e+49. Standard errors may be unstable.\n"
     ]
    }
   ],
   "source": [
    "mod = sm.tsa.SARIMAX(df['취급액'],order=(0,2,0), seasonal_order=(1,1,1,12))\n",
    "results = mod.fit()\n",
    "print (results.summary())\n"
   ]
  },
  {
   "cell_type": "code",
   "execution_count": 139,
   "metadata": {},
   "outputs": [
    {
     "name": "stderr",
     "output_type": "stream",
     "text": [
      "C:\\Users\\rmafu\\.conda\\envs\\env_cpu\\lib\\site-packages\\matplotlib\\backends\\backend_agg.py:214: RuntimeWarning: Glyph 8722 missing from current font.\n",
      "  font.set_text(s, 0.0, flags=flags)\n",
      "C:\\Users\\rmafu\\.conda\\envs\\env_cpu\\lib\\site-packages\\matplotlib\\backends\\backend_agg.py:183: RuntimeWarning: Glyph 8722 missing from current font.\n",
      "  font.set_text(s, 0, flags=flags)\n"
     ]
    },
    {
     "data": {
      "image/png": "[encoded data removed]",
      "text/plain": [
       "<Figure size 432x288 with 4 Axes>"
      ]
     },
     "metadata": {
      "needs_background": "light"
     },
     "output_type": "display_data"
    }
   ],
   "source": [
    "results.plot_diagnostics();\n",
    "plt.tight_layout(pad=0.4, w_pad=0.5, h_pad=1.0);"
   ]
  },
  {
   "cell_type": "markdown",
   "metadata": {},
   "source": [
    "## fbprophet"
   ]
  },
  {
   "cell_type": "code",
   "execution_count": 147,
   "metadata": {},
   "outputs": [],
   "source": [
    "import numpy as np\n",
    "import pandas as pd\n",
    "from fbprophet import Prophet"
   ]
  },
  {
   "cell_type": "code",
   "execution_count": 146,
   "metadata": {},
   "outputs": [
    {
     "name": "stdout",
     "output_type": "stream",
     "text": [
      "Requirement already satisfied: pystan in c:\\users\\rmafu\\.conda\\envs\\env_cpu\\lib\\site-packages (2.19.1.1)\n",
      "Requirement already satisfied: Cython!=0.25.1,>=0.22 in c:\\users\\rmafu\\.conda\\envs\\env_cpu\\lib\\site-packages (from pystan) (0.29.21)\n",
      "Requirement already satisfied: numpy>=1.7 in c:\\users\\rmafu\\.conda\\envs\\env_cpu\\lib\\site-packages (from pystan) (1.18.5)\n",
      "Requirement already satisfied: fbprophet in c:\\users\\rmafu\\.conda\\envs\\env_cpu\\lib\\site-packages (0.6)\n",
      "Requirement already satisfied: cmdstanpy==0.4 in c:\\users\\rmafu\\.conda\\envs\\env_cpu\\lib\\site-packages (from fbprophet) (0.4.0)\n",
      "Requirement already satisfied: matplotlib>=2.0.0 in c:\\users\\rmafu\\.conda\\envs\\env_cpu\\lib\\site-packages (from fbprophet) (3.2.2)\n",
      "Requirement already satisfied: LunarCalendar>=0.0.9 in c:\\users\\rmafu\\.conda\\envs\\env_cpu\\lib\\site-packages (from fbprophet) (0.0.9)\n",
      "Requirement already satisfied: numpy>=1.10.0 in c:\\users\\rmafu\\.conda\\envs\\env_cpu\\lib\\site-packages (from fbprophet) (1.18.5)\n",
      "Requirement already satisfied: python-dateutil>=2.8.0 in c:\\users\\rmafu\\.conda\\envs\\env_cpu\\lib\\site-packages (from fbprophet) (2.8.1)\n",
      "Requirement already satisfied: pandas>=0.23.4 in c:\\users\\rmafu\\.conda\\envs\\env_cpu\\lib\\site-packages (from fbprophet) (1.1.0)\n",
      "Requirement already satisfied: setuptools-git>=1.2 in c:\\users\\rmafu\\.conda\\envs\\env_cpu\\lib\\site-packages (from fbprophet) (1.2)\n",
      "Requirement already satisfied: pystan>=2.14 in c:\\users\\rmafu\\.conda\\envs\\env_cpu\\lib\\site-packages (from fbprophet) (2.19.1.1)\n",
      "Requirement already satisfied: holidays>=0.9.5 in c:\\users\\rmafu\\.conda\\envs\\env_cpu\\lib\\site-packages (from fbprophet) (0.10.3)\n",
      "Requirement already satisfied: convertdate>=2.1.2 in c:\\users\\rmafu\\.conda\\envs\\env_cpu\\lib\\site-packages (from fbprophet) (2.2.1)\n",
      "Requirement already satisfied: Cython>=0.22 in c:\\users\\rmafu\\.conda\\envs\\env_cpu\\lib\\site-packages (from fbprophet) (0.29.21)\n",
      "Requirement already satisfied: pyparsing!=2.0.4,!=2.1.2,!=2.1.6,>=2.0.1 in c:\\users\\rmafu\\.conda\\envs\\env_cpu\\lib\\site-packages (from matplotlib>=2.0.0->fbprophet) (2.4.7)\n",
      "Requirement already satisfied: cycler>=0.10 in c:\\users\\rmafu\\.conda\\envs\\env_cpu\\lib\\site-packages (from matplotlib>=2.0.0->fbprophet) (0.10.0)\n",
      "Requirement already satisfied: kiwisolver>=1.0.1 in c:\\users\\rmafu\\.conda\\envs\\env_cpu\\lib\\site-packages (from matplotlib>=2.0.0->fbprophet) (1.2.0)\n",
      "Requirement already satisfied: ephem>=3.7.5.3 in c:\\users\\rmafu\\.conda\\envs\\env_cpu\\lib\\site-packages (from LunarCalendar>=0.0.9->fbprophet) (3.7.7.1)\n",
      "Requirement already satisfied: pytz in c:\\users\\rmafu\\.conda\\envs\\env_cpu\\lib\\site-packages (from LunarCalendar>=0.0.9->fbprophet) (2020.1)\n",
      "Requirement already satisfied: six>=1.5 in c:\\users\\rmafu\\.conda\\envs\\env_cpu\\lib\\site-packages (from python-dateutil>=2.8.0->fbprophet) (1.15.0)\n",
      "Requirement already satisfied: korean-lunar-calendar in c:\\users\\rmafu\\.conda\\envs\\env_cpu\\lib\\site-packages (from holidays>=0.9.5->fbprophet) (0.2.1)\n",
      "Requirement already satisfied: pymeeus<=1,>=0.3.6 in c:\\users\\rmafu\\.conda\\envs\\env_cpu\\lib\\site-packages (from convertdate>=2.1.2->fbprophet) (0.3.7)\n"
     ]
    }
   ],
   "source": [
    "! pip install pystan\n",
    "\n",
    "! pip install fbprophet\n"
   ]
  },
  {
   "cell_type": "code",
   "execution_count": 173,
   "metadata": {
    "scrolled": false
   },
   "outputs": [
    {
     "name": "stdout",
     "output_type": "stream",
     "text": [
      "<class 'pandas.core.frame.DataFrame'>\n",
      "Int64Index: 37372 entries, 0 to 37371\n",
      "Data columns (total 28 columns):\n",
      " #   Column        Non-Null Count  Dtype  \n",
      "---  ------        --------------  -----  \n",
      " 0   Unnamed: 0    37372 non-null  int64  \n",
      " 1   Unnamed: 0.1  37372 non-null  int64  \n",
      " 2   방송일시          37372 non-null  object \n",
      " 3   노출(분)         37372 non-null  float64\n",
      " 4   마더코드          37372 non-null  int64  \n",
      " 5   상품코드          37372 non-null  int64  \n",
      " 6   상품명           37372 non-null  object \n",
      " 7   상품군           37372 non-null  object \n",
      " 8   판매단가          37372 non-null  int64  \n",
      " 9   취급액           37372 non-null  int64  \n",
      " 10  월             37372 non-null  int64  \n",
      " 11  일             37372 non-null  int64  \n",
      " 12  요일            37372 non-null  int64  \n",
      " 13  수량            37372 non-null  float64\n",
      " 14  의류            37372 non-null  int64  \n",
      " 15  주방            37372 non-null  int64  \n",
      " 16  가구            37372 non-null  int64  \n",
      " 17  건강기능          37372 non-null  int64  \n",
      " 18  가전            37372 non-null  int64  \n",
      " 19  농수축           37372 non-null  int64  \n",
      " 20  생활용품          37372 non-null  int64  \n",
      " 21  속옷            37372 non-null  int64  \n",
      " 22  이미용           37372 non-null  int64  \n",
      " 23  잡화            37372 non-null  int64  \n",
      " 24  침구            37372 non-null  int64  \n",
      " 25  무관            37372 non-null  int64  \n",
      " 26  여성            37372 non-null  int64  \n",
      " 27  남성            37372 non-null  int64  \n",
      "dtypes: float64(2), int64(23), object(3)\n",
      "memory usage: 8.3+ MB\n"
     ]
    }
   ],
   "source": [
    "df.info()"
   ]
  },
  {
   "cell_type": "code",
   "execution_count": 174,
   "metadata": {},
   "outputs": [],
   "source": [
    "df['방송일시'] = pd.to_datetime(df['방송일시'])"
   ]
  },
  {
   "cell_type": "code",
   "execution_count": 180,
   "metadata": {},
   "outputs": [
    {
     "data": {
      "text/html": [
       "<div>\n",
       "<style scoped>\n",
       "    .dataframe tbody tr th:only-of-type {\n",
       "        vertical-align: middle;\n",
       "    }\n",
       "\n",
       "    .dataframe tbody tr th {\n",
       "        vertical-align: top;\n",
       "    }\n",
       "\n",
       "    .dataframe thead th {\n",
       "        text-align: right;\n",
       "    }\n",
       "</style>\n",
       "<table border=\"1\" class=\"dataframe\">\n",
       "  <thead>\n",
       "    <tr style=\"text-align: right;\">\n",
       "      <th></th>\n",
       "      <th>방송일시</th>\n",
       "      <th>취급액</th>\n",
       "    </tr>\n",
       "  </thead>\n",
       "  <tbody>\n",
       "    <tr>\n",
       "      <th>0</th>\n",
       "      <td>2019-01-01 06:00:00</td>\n",
       "      <td>2099000</td>\n",
       "    </tr>\n",
       "    <tr>\n",
       "      <th>1</th>\n",
       "      <td>2019-01-01 06:00:00</td>\n",
       "      <td>4371000</td>\n",
       "    </tr>\n",
       "    <tr>\n",
       "      <th>2</th>\n",
       "      <td>2019-01-01 06:20:00</td>\n",
       "      <td>3262000</td>\n",
       "    </tr>\n",
       "    <tr>\n",
       "      <th>3</th>\n",
       "      <td>2019-01-01 06:20:00</td>\n",
       "      <td>6955000</td>\n",
       "    </tr>\n",
       "    <tr>\n",
       "      <th>4</th>\n",
       "      <td>2019-01-01 06:40:00</td>\n",
       "      <td>6672000</td>\n",
       "    </tr>\n",
       "    <tr>\n",
       "      <th>...</th>\n",
       "      <td>...</td>\n",
       "      <td>...</td>\n",
       "    </tr>\n",
       "    <tr>\n",
       "      <th>37367</th>\n",
       "      <td>2019-12-31 23:40:00</td>\n",
       "      <td>10157000</td>\n",
       "    </tr>\n",
       "    <tr>\n",
       "      <th>37368</th>\n",
       "      <td>2020-01-01 00:00:00</td>\n",
       "      <td>50929000</td>\n",
       "    </tr>\n",
       "    <tr>\n",
       "      <th>37369</th>\n",
       "      <td>2020-01-01 00:00:00</td>\n",
       "      <td>104392000</td>\n",
       "    </tr>\n",
       "    <tr>\n",
       "      <th>37370</th>\n",
       "      <td>2020-01-01 00:00:00</td>\n",
       "      <td>13765000</td>\n",
       "    </tr>\n",
       "    <tr>\n",
       "      <th>37371</th>\n",
       "      <td>2020-01-01 00:00:00</td>\n",
       "      <td>46608000</td>\n",
       "    </tr>\n",
       "  </tbody>\n",
       "</table>\n",
       "<p>37372 rows × 2 columns</p>\n",
       "</div>"
      ],
      "text/plain": [
       "                     방송일시        취급액\n",
       "0     2019-01-01 06:00:00    2099000\n",
       "1     2019-01-01 06:00:00    4371000\n",
       "2     2019-01-01 06:20:00    3262000\n",
       "3     2019-01-01 06:20:00    6955000\n",
       "4     2019-01-01 06:40:00    6672000\n",
       "...                   ...        ...\n",
       "37367 2019-12-31 23:40:00   10157000\n",
       "37368 2020-01-01 00:00:00   50929000\n",
       "37369 2020-01-01 00:00:00  104392000\n",
       "37370 2020-01-01 00:00:00   13765000\n",
       "37371 2020-01-01 00:00:00   46608000\n",
       "\n",
       "[37372 rows x 2 columns]"
      ]
     },
     "execution_count": 180,
     "metadata": {},
     "output_type": "execute_result"
    }
   ],
   "source": [
    "data = df[['방송일시', '취급액']].reset_index(drop=True)\n",
    "data"
   ]
  },
  {
   "cell_type": "code",
   "execution_count": 182,
   "metadata": {},
   "outputs": [
    {
     "data": {
      "text/html": [
       "<div>\n",
       "<style scoped>\n",
       "    .dataframe tbody tr th:only-of-type {\n",
       "        vertical-align: middle;\n",
       "    }\n",
       "\n",
       "    .dataframe tbody tr th {\n",
       "        vertical-align: top;\n",
       "    }\n",
       "\n",
       "    .dataframe thead th {\n",
       "        text-align: right;\n",
       "    }\n",
       "</style>\n",
       "<table border=\"1\" class=\"dataframe\">\n",
       "  <thead>\n",
       "    <tr style=\"text-align: right;\">\n",
       "      <th></th>\n",
       "      <th>ds</th>\n",
       "      <th>y</th>\n",
       "    </tr>\n",
       "  </thead>\n",
       "  <tbody>\n",
       "    <tr>\n",
       "      <th>0</th>\n",
       "      <td>2019-01-01 06:00:00</td>\n",
       "      <td>2099000</td>\n",
       "    </tr>\n",
       "    <tr>\n",
       "      <th>1</th>\n",
       "      <td>2019-01-01 06:00:00</td>\n",
       "      <td>4371000</td>\n",
       "    </tr>\n",
       "    <tr>\n",
       "      <th>2</th>\n",
       "      <td>2019-01-01 06:20:00</td>\n",
       "      <td>3262000</td>\n",
       "    </tr>\n",
       "    <tr>\n",
       "      <th>3</th>\n",
       "      <td>2019-01-01 06:20:00</td>\n",
       "      <td>6955000</td>\n",
       "    </tr>\n",
       "    <tr>\n",
       "      <th>4</th>\n",
       "      <td>2019-01-01 06:40:00</td>\n",
       "      <td>6672000</td>\n",
       "    </tr>\n",
       "  </tbody>\n",
       "</table>\n",
       "</div>"
      ],
      "text/plain": [
       "                   ds        y\n",
       "0 2019-01-01 06:00:00  2099000\n",
       "1 2019-01-01 06:00:00  4371000\n",
       "2 2019-01-01 06:20:00  3262000\n",
       "3 2019-01-01 06:20:00  6955000\n",
       "4 2019-01-01 06:40:00  6672000"
      ]
     },
     "execution_count": 182,
     "metadata": {},
     "output_type": "execute_result"
    }
   ],
   "source": [
    "data = data.rename(columns = {'방송일시':'ds', '취급액':'y'})\n",
    "data.head()"
   ]
  },
  {
   "cell_type": "markdown",
   "metadata": {},
   "source": [
    "### 1년치 취급액"
   ]
  },
  {
   "cell_type": "code",
   "execution_count": 186,
   "metadata": {},
   "outputs": [
    {
     "data": {
      "text/plain": [
       "<matplotlib.axes._subplots.AxesSubplot at 0x26c68d05688>"
      ]
     },
     "execution_count": 186,
     "metadata": {},
     "output_type": "execute_result"
    },
    {
     "data": {
      "image/png": "[encoded data removed]",
      "text/plain": [
       "<Figure size 1152x576 with 1 Axes>"
      ]
     },
     "metadata": {
      "needs_background": "light"
     },
     "output_type": "display_data"
    }
   ],
   "source": [
    "data.plot(x='ds', y='y' ,figsize=(16,8))"
   ]
  },
  {
   "cell_type": "code",
   "execution_count": 200,
   "metadata": {},
   "outputs": [
    {
     "name": "stderr",
     "output_type": "stream",
     "text": [
      "INFO:fbprophet:Disabling yearly seasonality. Run prophet with yearly_seasonality=True to override this.\n"
     ]
    },
    {
     "data": {
      "text/plain": [
       "<fbprophet.forecaster.Prophet at 0x26c6e44bf48>"
      ]
     },
     "execution_count": 200,
     "metadata": {},
     "output_type": "execute_result"
    }
   ],
   "source": [
    "model = Prophet()\n",
    "model.fit(data) # 모델 데이터 학습"
   ]
  },
  {
   "cell_type": "code",
   "execution_count": 194,
   "metadata": {
    "scrolled": true
   },
   "outputs": [
    {
     "data": {
      "text/html": [
       "<div>\n",
       "<style scoped>\n",
       "    .dataframe tbody tr th:only-of-type {\n",
       "        vertical-align: middle;\n",
       "    }\n",
       "\n",
       "    .dataframe tbody tr th {\n",
       "        vertical-align: top;\n",
       "    }\n",
       "\n",
       "    .dataframe thead th {\n",
       "        text-align: right;\n",
       "    }\n",
       "</style>\n",
       "<table border=\"1\" class=\"dataframe\">\n",
       "  <thead>\n",
       "    <tr style=\"text-align: right;\">\n",
       "      <th></th>\n",
       "      <th>ds</th>\n",
       "      <th>trend</th>\n",
       "      <th>yhat_lower</th>\n",
       "      <th>yhat_upper</th>\n",
       "      <th>trend_lower</th>\n",
       "      <th>trend_upper</th>\n",
       "      <th>additive_terms</th>\n",
       "      <th>additive_terms_lower</th>\n",
       "      <th>additive_terms_upper</th>\n",
       "      <th>daily</th>\n",
       "      <th>daily_lower</th>\n",
       "      <th>daily_upper</th>\n",
       "      <th>weekly</th>\n",
       "      <th>weekly_lower</th>\n",
       "      <th>weekly_upper</th>\n",
       "      <th>multiplicative_terms</th>\n",
       "      <th>multiplicative_terms_lower</th>\n",
       "      <th>multiplicative_terms_upper</th>\n",
       "      <th>yhat</th>\n",
       "    </tr>\n",
       "  </thead>\n",
       "  <tbody>\n",
       "    <tr>\n",
       "      <th>37547</th>\n",
       "      <td>2020-06-25</td>\n",
       "      <td>3.835246e+07</td>\n",
       "      <td>1.188102e+07</td>\n",
       "      <td>6.297652e+07</td>\n",
       "      <td>2.614453e+07</td>\n",
       "      <td>5.009917e+07</td>\n",
       "      <td>-2.419447e+06</td>\n",
       "      <td>-2.419447e+06</td>\n",
       "      <td>-2.419447e+06</td>\n",
       "      <td>-1.953358e+06</td>\n",
       "      <td>-1.953358e+06</td>\n",
       "      <td>-1.953358e+06</td>\n",
       "      <td>-4.660888e+05</td>\n",
       "      <td>-4.660888e+05</td>\n",
       "      <td>-4.660888e+05</td>\n",
       "      <td>0.0</td>\n",
       "      <td>0.0</td>\n",
       "      <td>0.0</td>\n",
       "      <td>3.593301e+07</td>\n",
       "    </tr>\n",
       "    <tr>\n",
       "      <th>37548</th>\n",
       "      <td>2020-06-26</td>\n",
       "      <td>3.842277e+07</td>\n",
       "      <td>1.002445e+07</td>\n",
       "      <td>6.332231e+07</td>\n",
       "      <td>2.615855e+07</td>\n",
       "      <td>5.028498e+07</td>\n",
       "      <td>-3.294900e+06</td>\n",
       "      <td>-3.294900e+06</td>\n",
       "      <td>-3.294900e+06</td>\n",
       "      <td>-1.953358e+06</td>\n",
       "      <td>-1.953358e+06</td>\n",
       "      <td>-1.953358e+06</td>\n",
       "      <td>-1.341542e+06</td>\n",
       "      <td>-1.341542e+06</td>\n",
       "      <td>-1.341542e+06</td>\n",
       "      <td>0.0</td>\n",
       "      <td>0.0</td>\n",
       "      <td>0.0</td>\n",
       "      <td>3.512787e+07</td>\n",
       "    </tr>\n",
       "    <tr>\n",
       "      <th>37549</th>\n",
       "      <td>2020-06-27</td>\n",
       "      <td>3.849308e+07</td>\n",
       "      <td>9.646737e+06</td>\n",
       "      <td>6.719157e+07</td>\n",
       "      <td>2.615078e+07</td>\n",
       "      <td>5.047411e+07</td>\n",
       "      <td>-1.620764e+06</td>\n",
       "      <td>-1.620764e+06</td>\n",
       "      <td>-1.620764e+06</td>\n",
       "      <td>-1.953358e+06</td>\n",
       "      <td>-1.953358e+06</td>\n",
       "      <td>-1.953358e+06</td>\n",
       "      <td>3.325935e+05</td>\n",
       "      <td>3.325935e+05</td>\n",
       "      <td>3.325935e+05</td>\n",
       "      <td>0.0</td>\n",
       "      <td>0.0</td>\n",
       "      <td>0.0</td>\n",
       "      <td>3.687232e+07</td>\n",
       "    </tr>\n",
       "    <tr>\n",
       "      <th>37550</th>\n",
       "      <td>2020-06-28</td>\n",
       "      <td>3.856339e+07</td>\n",
       "      <td>1.286997e+07</td>\n",
       "      <td>6.673667e+07</td>\n",
       "      <td>2.610526e+07</td>\n",
       "      <td>5.065796e+07</td>\n",
       "      <td>1.253441e+06</td>\n",
       "      <td>1.253441e+06</td>\n",
       "      <td>1.253441e+06</td>\n",
       "      <td>-1.953358e+06</td>\n",
       "      <td>-1.953358e+06</td>\n",
       "      <td>-1.953358e+06</td>\n",
       "      <td>3.206799e+06</td>\n",
       "      <td>3.206799e+06</td>\n",
       "      <td>3.206799e+06</td>\n",
       "      <td>0.0</td>\n",
       "      <td>0.0</td>\n",
       "      <td>0.0</td>\n",
       "      <td>3.981683e+07</td>\n",
       "    </tr>\n",
       "    <tr>\n",
       "      <th>37551</th>\n",
       "      <td>2020-06-29</td>\n",
       "      <td>3.863370e+07</td>\n",
       "      <td>1.053146e+07</td>\n",
       "      <td>6.531238e+07</td>\n",
       "      <td>2.605768e+07</td>\n",
       "      <td>5.081510e+07</td>\n",
       "      <td>-1.563363e+06</td>\n",
       "      <td>-1.563363e+06</td>\n",
       "      <td>-1.563363e+06</td>\n",
       "      <td>-1.953358e+06</td>\n",
       "      <td>-1.953358e+06</td>\n",
       "      <td>-1.953358e+06</td>\n",
       "      <td>3.899949e+05</td>\n",
       "      <td>3.899949e+05</td>\n",
       "      <td>3.899949e+05</td>\n",
       "      <td>0.0</td>\n",
       "      <td>0.0</td>\n",
       "      <td>0.0</td>\n",
       "      <td>3.707034e+07</td>\n",
       "    </tr>\n",
       "  </tbody>\n",
       "</table>\n",
       "</div>"
      ],
      "text/plain": [
       "              ds         trend    yhat_lower    yhat_upper   trend_lower  \\\n",
       "37547 2020-06-25  3.835246e+07  1.188102e+07  6.297652e+07  2.614453e+07   \n",
       "37548 2020-06-26  3.842277e+07  1.002445e+07  6.332231e+07  2.615855e+07   \n",
       "37549 2020-06-27  3.849308e+07  9.646737e+06  6.719157e+07  2.615078e+07   \n",
       "37550 2020-06-28  3.856339e+07  1.286997e+07  6.673667e+07  2.610526e+07   \n",
       "37551 2020-06-29  3.863370e+07  1.053146e+07  6.531238e+07  2.605768e+07   \n",
       "\n",
       "        trend_upper  additive_terms  additive_terms_lower  \\\n",
       "37547  5.009917e+07   -2.419447e+06         -2.419447e+06   \n",
       "37548  5.028498e+07   -3.294900e+06         -3.294900e+06   \n",
       "37549  5.047411e+07   -1.620764e+06         -1.620764e+06   \n",
       "37550  5.065796e+07    1.253441e+06          1.253441e+06   \n",
       "37551  5.081510e+07   -1.563363e+06         -1.563363e+06   \n",
       "\n",
       "       additive_terms_upper         daily   daily_lower   daily_upper  \\\n",
       "37547         -2.419447e+06 -1.953358e+06 -1.953358e+06 -1.953358e+06   \n",
       "37548         -3.294900e+06 -1.953358e+06 -1.953358e+06 -1.953358e+06   \n",
       "37549         -1.620764e+06 -1.953358e+06 -1.953358e+06 -1.953358e+06   \n",
       "37550          1.253441e+06 -1.953358e+06 -1.953358e+06 -1.953358e+06   \n",
       "37551         -1.563363e+06 -1.953358e+06 -1.953358e+06 -1.953358e+06   \n",
       "\n",
       "             weekly  weekly_lower  weekly_upper  multiplicative_terms  \\\n",
       "37547 -4.660888e+05 -4.660888e+05 -4.660888e+05                   0.0   \n",
       "37548 -1.341542e+06 -1.341542e+06 -1.341542e+06                   0.0   \n",
       "37549  3.325935e+05  3.325935e+05  3.325935e+05                   0.0   \n",
       "37550  3.206799e+06  3.206799e+06  3.206799e+06                   0.0   \n",
       "37551  3.899949e+05  3.899949e+05  3.899949e+05                   0.0   \n",
       "\n",
       "       multiplicative_terms_lower  multiplicative_terms_upper          yhat  \n",
       "37547                         0.0                         0.0  3.593301e+07  \n",
       "37548                         0.0                         0.0  3.512787e+07  \n",
       "37549                         0.0                         0.0  3.687232e+07  \n",
       "37550                         0.0                         0.0  3.981683e+07  \n",
       "37551                         0.0                         0.0  3.707034e+07  "
      ]
     },
     "execution_count": 194,
     "metadata": {},
     "output_type": "execute_result"
    }
   ],
   "source": [
    "future = model.make_future_dataframe(periods=180) \n",
    "#  make_future_dataframe 데이터 예측 \n",
    "# 180 일 뒤를 예측 \n",
    "\n",
    "forecast = model.predict(future)\n",
    "\n",
    "forecast.tail()"
   ]
  },
  {
   "cell_type": "code",
   "execution_count": 212,
   "metadata": {
    "scrolled": false
   },
   "outputs": [
    {
     "data": {
      "image/png": "[encoded data removed]",
      "text/plain": [
       "<Figure size 720x432 with 1 Axes>"
      ]
     },
     "metadata": {},
     "output_type": "display_data"
    }
   ],
   "source": [
    "# 시각화 \n",
    "from fbprophet.plot import add_changepoints_to_plot\n",
    "\n",
    "fig1=model.plot(forecast)"
   ]
  },
  {
   "cell_type": "code",
   "execution_count": 196,
   "metadata": {},
   "outputs": [],
   "source": [
    "# 검은 점이 데이터의 취급액들\n",
    "# 파란색이 트랜드를 보여줌 \n",
    "# 내가 넣은 데이터는 2019년 데이터 이기 떄문에 검은점이 거기까지만 출력"
   ]
  },
  {
   "cell_type": "code",
   "execution_count": 197,
   "metadata": {
    "scrolled": false
   },
   "outputs": [
    {
     "name": "stderr",
     "output_type": "stream",
     "text": [
      "C:\\Users\\rmafu\\.conda\\envs\\env_cpu\\lib\\site-packages\\matplotlib\\backends\\backend_agg.py:214: RuntimeWarning: Glyph 8722 missing from current font.\n",
      "  font.set_text(s, 0.0, flags=flags)\n",
      "C:\\Users\\rmafu\\.conda\\envs\\env_cpu\\lib\\site-packages\\matplotlib\\backends\\backend_agg.py:183: RuntimeWarning: Glyph 8722 missing from current font.\n",
      "  font.set_text(s, 0, flags=flags)\n"
     ]
    },
    {
     "data": {
      "image/png": "[encoded data removed]",
      "text/plain": [
       "<Figure size 648x648 with 3 Axes>"
      ]
     },
     "metadata": {},
     "output_type": "display_data"
    }
   ],
   "source": [
    "fig2 = model.plot_components(forecast)\n",
    "# model.plot_components 예측에 영향을 준 요서를 출력"
   ]
  },
  {
   "cell_type": "code",
   "execution_count": 198,
   "metadata": {},
   "outputs": [],
   "source": [
    "# tred를 통해서 지속적인 증가를 볼 수 있음.\n",
    "# 주 데이터 영향을 많이 주는데 일요일과 토요일에 많은 수요를 얻는다. \n",
    "# 시간에 따라 수요의 차이가 큰데 17시가량에 많은 수요를 얻는다. "
   ]
  },
  {
   "cell_type": "code",
   "execution_count": null,
   "metadata": {},
   "outputs": [],
   "source": []
  }
 ],
 "metadata": {
  "kernelspec": {
   "display_name": "Python 3",
   "language": "python",
   "name": "python3"
  },
  "language_info": {
   "codemirror_mode": {
    "name": "ipython",
    "version": 3
   },
   "file_extension": ".py",
   "mimetype": "text/x-python",
   "name": "python",
   "nbconvert_exporter": "python",
   "pygments_lexer": "ipython3",
   "version": "3.7.7"
  }
 },
 "nbformat": 4,
 "nbformat_minor": 4
}
