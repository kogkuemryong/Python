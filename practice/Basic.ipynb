{
 "cells": [
  {
   "cell_type": "code",
   "execution_count": 2,
   "metadata": {},
   "outputs": [
    {
     "data": {
      "text/plain": [
       "'Hello World'"
      ]
     },
     "execution_count": 2,
     "metadata": {},
     "output_type": "execute_result"
    }
   ],
   "source": [
    "'Hello World'"
   ]
  },
  {
   "cell_type": "markdown",
   "metadata": {},
   "source": [
    "##### 변수 Variables"
   ]
  },
  {
   "cell_type": "code",
   "execution_count": 6,
   "metadata": {},
   "outputs": [],
   "source": [
    "x=1\n",
    "y=2"
   ]
  },
  {
   "cell_type": "code",
   "execution_count": 9,
   "metadata": {},
   "outputs": [
    {
     "name": "stdout",
     "output_type": "stream",
     "text": [
      "1\n",
      "2\n"
     ]
    }
   ],
   "source": [
    "print(x)\n",
    "print(y)"
   ]
  },
  {
   "cell_type": "code",
   "execution_count": 10,
   "metadata": {},
   "outputs": [
    {
     "name": "stdout",
     "output_type": "stream",
     "text": [
      "안녕\n"
     ]
    }
   ],
   "source": [
    "z='안녕'\n",
    "print(z)"
   ]
  },
  {
   "cell_type": "markdown",
   "metadata": {},
   "source": [
    "##### 타입 type"
   ]
  },
  {
   "cell_type": "code",
   "execution_count": 17,
   "metadata": {},
   "outputs": [
    {
     "name": "stdout",
     "output_type": "stream",
     "text": [
      "3\n",
      "-1\n",
      "0.5\n",
      "2\n",
      "3\n",
      "1\n"
     ]
    }
   ],
   "source": [
    "# 숫자 \n",
    "x = 1\n",
    "y = 2\n",
    "z = 1.2\n",
    "\n",
    "print(x+y)\n",
    "print(x-y)\n",
    "print(x/y)\n",
    "print(x*y)\n",
    "print(x^y)\n",
    "print(x%y)"
   ]
  },
  {
   "cell_type": "code",
   "execution_count": 21,
   "metadata": {},
   "outputs": [
    {
     "name": "stdout",
     "output_type": "stream",
     "text": [
      "hello bye\n",
      "\n",
      "안녕하세요 \n",
      "만나서반갑습니다. \n",
      "한번 더 기회를 주세요.\n"
     ]
    }
   ],
   "source": [
    "# 문자 \n",
    "x = 'hello'\n",
    "y = 'bye'\n",
    "print(x,y)\n",
    "\n",
    "z = '''\n",
    "안녕하세요 \n",
    "만나서반갑습니다. \n",
    "한번 더 기회를 주세요.'''\n",
    "print(z)"
   ]
  },
  {
   "cell_type": "code",
   "execution_count": 25,
   "metadata": {},
   "outputs": [
    {
     "name": "stdout",
     "output_type": "stream",
     "text": [
      "안녕잘지네니?\n",
      "너 혹시 몇 살이니 ?4\n"
     ]
    }
   ],
   "source": [
    "print('안녕'+'잘지네니?')\n",
    "# print('너 혹시 몇 살이니 ?' + 4) # 서로 다른 타임으로 error\n",
    "print('너 혹시 몇 살이니 ?' + str(4)) # cating "
   ]
  },
  {
   "cell_type": "code",
   "execution_count": 28,
   "metadata": {},
   "outputs": [
    {
     "data": {
      "text/plain": [
       "('44', 8)"
      ]
     },
     "execution_count": 28,
     "metadata": {},
     "output_type": "execute_result"
    }
   ],
   "source": [
    "x = 4 # 숫자 \n",
    "y = '4' # 문자\n",
    "str(x) + y , x + int(y)"
   ]
  },
  {
   "cell_type": "code",
   "execution_count": 29,
   "metadata": {},
   "outputs": [],
   "source": [
    "#boolean\n",
    "x = True\n",
    "y = False"
   ]
  },
  {
   "cell_type": "markdown",
   "metadata": {},
   "source": [
    "#### 조건문 "
   ]
  },
  {
   "cell_type": "code",
   "execution_count": 34,
   "metadata": {},
   "outputs": [
    {
     "name": "stdout",
     "output_type": "stream",
     "text": [
      "hello\n",
      "hello\n",
      "hello\n"
     ]
    }
   ],
   "source": [
    "if 2 > 1:\n",
    "    print('hello')\n",
    "    \n",
    "if not 1 > 2:\n",
    "    print('hello')    \n",
    "    \n",
    "if 0 > 0 and 2 > 1:\n",
    "    print('hello')\n",
    "    \n",
    "if 0 > 0 or 2 > 1:\n",
    "    print('hello')       "
   ]
  },
  {
   "cell_type": "code",
   "execution_count": 37,
   "metadata": {},
   "outputs": [
    {
     "name": "stdout",
     "output_type": "stream",
     "text": [
      "Hi\n"
     ]
    }
   ],
   "source": [
    "x = 3 \n",
    "\n",
    "if x > 5:\n",
    "    print('hello')\n",
    "else:\n",
    "    print('Hi')"
   ]
  },
  {
   "cell_type": "code",
   "execution_count": 39,
   "metadata": {},
   "outputs": [
    {
     "name": "stdout",
     "output_type": "stream",
     "text": [
      "Hi\n"
     ]
    }
   ],
   "source": [
    "x = 3 \n",
    "\n",
    "if x > 5:\n",
    "    print('hello')\n",
    "elif x ==3:\n",
    "    print('Hi')\n",
    "else:\n",
    "    print('love')"
   ]
  },
  {
   "cell_type": "markdown",
   "metadata": {},
   "source": [
    "#### 함수 Function\n",
    "- 반복되는 그루브를 모아놓은 것"
   ]
  },
  {
   "cell_type": "code",
   "execution_count": 54,
   "metadata": {},
   "outputs": [
    {
     "name": "stdout",
     "output_type": "stream",
     "text": [
      "윤하 : 안녕? 너 몇 살이니?\n",
      "알렉스 : 나? 나는 20살\n",
      "강동원 : 안녕? 너 몇 살이니?\n",
      "강소라 : 나? 나는 20살\n",
      "싸이 : 안녕? 너 몇 살이니?\n",
      "현아 : 나? 나는 20살\n",
      "철수 : 안녕? 너 몇 살이니?\n",
      "영희 : 나? 나는 20살\n"
     ]
    }
   ],
   "source": [
    "def chat(name1, name2):\n",
    "    print('%s : 안녕? 너 몇 살이니?' % name1)\n",
    "    print('%s : 나? 나는 20살' % name2)\n",
    "    \n",
    "chat('윤하', '알렉스')\n",
    "chat('강동원', '강소라')\n",
    "chat('싸이', '현아')\n",
    "chat('철수', '영희')"
   ]
  },
  {
   "cell_type": "code",
   "execution_count": 56,
   "metadata": {},
   "outputs": [
    {
     "name": "stdout",
     "output_type": "stream",
     "text": [
      "영희 : 안녕? 너 몇 살이니?\n",
      "싸이 : 나? 나는 35살\n"
     ]
    }
   ],
   "source": [
    "def chat(name1, name2 , age):\n",
    "    print('%s : 안녕? 너 몇 살이니?' % name1)\n",
    "    print('%s : 나? 나는 %d살' % (name2, age))\n",
    "\n",
    "chat('영희', '싸이', 35)    "
   ]
  },
  {
   "cell_type": "code",
   "execution_count": 60,
   "metadata": {},
   "outputs": [
    {
     "data": {
      "text/plain": [
       "8"
      ]
     },
     "execution_count": 60,
     "metadata": {},
     "output_type": "execute_result"
    }
   ],
   "source": [
    "def dsum(a,b):\n",
    "    result = a+b\n",
    "    return result \n",
    "    # 결과 값이 필요 할 때, returrn 을 사용\n",
    "\n",
    "d = dsum(2,6)    "
   ]
  },
  {
   "cell_type": "code",
   "execution_count": 66,
   "metadata": {},
   "outputs": [
    {
     "name": "stdout",
     "output_type": "stream",
     "text": [
      "안녕,홍길동\n",
      "안녕하세요, 홍길동\n",
      "안녕하십니까, 홍길동\n"
     ]
    }
   ],
   "source": [
    "# 먼저 이름과 나이를 받아라\n",
    "# 나이가 10살 미만이면 '안녕'이라고 말하라\n",
    "# 나이가 10살에서 20살 사이면 '안녕하세요' 라고 말해라\n",
    "# 그외에는 '안녕하십니까' 라고 말하라\n",
    "\n",
    "def sayhello(name, age):\n",
    "    if age < 10:\n",
    "        print('안녕,' +  name)\n",
    "    elif age >= 10 and age <= 20:\n",
    "        print('안녕하세요, ' + name)\n",
    "    else:\n",
    "        print('안녕하십니까, ' + name)\n",
    "\n",
    "        \n",
    "sayhello('홍길동', 9)          \n",
    "sayhello('홍길동', 20)        \n",
    "sayhello('홍길동', 30)          \n",
    "        "
   ]
  },
  {
   "cell_type": "markdown",
   "metadata": {},
   "source": [
    "#### 반복문 "
   ]
  },
  {
   "cell_type": "code",
   "execution_count": 67,
   "metadata": {
    "scrolled": true
   },
   "outputs": [
    {
     "name": "stdout",
     "output_type": "stream",
     "text": [
      "철수 : 안녕 영희야 뭐해?\n",
      "영희 : 안녕 철수야. 그냥 있어. \n"
     ]
    }
   ],
   "source": [
    "print('철수 : 안녕 영희야 뭐해?')\n",
    "print('영희 : 안녕 철수야. 그냥 있어.')"
   ]
  },
  {
   "cell_type": "code",
   "execution_count": 71,
   "metadata": {},
   "outputs": [
    {
     "name": "stdout",
     "output_type": "stream",
     "text": [
      "0\n",
      "철수 : 안녕 영희야 뭐해?\n",
      "영희 : 안녕 철수야. 그냥 있어.\n",
      "1\n",
      "철수 : 안녕 영희야 뭐해?\n",
      "영희 : 안녕 철수야. 그냥 있어.\n",
      "2\n",
      "철수 : 안녕 영희야 뭐해?\n",
      "영희 : 안녕 철수야. 그냥 있어.\n"
     ]
    }
   ],
   "source": [
    "# for 반복문 \n",
    "for i in range(3):\n",
    "    print(i) # 모든 수가 0부터 시작 \n",
    "    print('철수 : 안녕 영희야 뭐해?')\n",
    "    print('영희 : 안녕 철수야. 그냥 있어.')"
   ]
  },
  {
   "cell_type": "code",
   "execution_count": 75,
   "metadata": {},
   "outputs": [
    {
     "name": "stdout",
     "output_type": "stream",
     "text": [
      "0\n",
      "철수 : 안녕 영희야 뭐해?\n",
      "영희 : 안녕 철수야. 그냥 있어.\n",
      "1\n",
      "철수 : 안녕 영희야 뭐해?\n",
      "영희 : 안녕 철수야. 그냥 있어.\n",
      "2\n",
      "철수 : 안녕 영희야 뭐해?\n",
      "영희 : 안녕 철수야. 그냥 있어.\n"
     ]
    }
   ],
   "source": [
    "# while 반복문\n",
    "\n",
    "i = 0\n",
    "while i < 3:\n",
    "    print(i)\n",
    "    print('철수 : 안녕 영희야 뭐해?')\n",
    "    print('영희 : 안녕 철수야. 그냥 있어.')\n",
    "    i = i + 1  "
   ]
  },
  {
   "cell_type": "code",
   "execution_count": 77,
   "metadata": {
    "scrolled": true
   },
   "outputs": [
    {
     "name": "stdout",
     "output_type": "stream",
     "text": [
      "4\n",
      "철수 : 안녕 영희야 뭐해?\n",
      "영희 : 안녕 철수야. 그냥 있어.\n"
     ]
    }
   ],
   "source": [
    "# while 반복문(무한루프)\n",
    "# break, continue\n",
    "\n",
    "while True:\n",
    "    print(i)\n",
    "    print('철수 : 안녕 영희야 뭐해?')\n",
    "    print('영희 : 안녕 철수야. 그냥 있어.')\n",
    "    i = i+1\n",
    "    \n",
    "    if i > 2:\n",
    "        break"
   ]
  },
  {
   "cell_type": "markdown",
   "metadata": {},
   "source": [
    "i = 0\n",
    "for i in range(100):\n",
    "    print(i)\n",
    "    print('철수 : 안녕 영희야 뭐해?')\n",
    "    print('영희 : 안녕 철수야. 그냥 있어.')\n",
    "    i = i+1\n",
    "    \n",
    "    if i > 2:\n",
    "        break"
   ]
  },
  {
   "cell_type": "code",
   "execution_count": 81,
   "metadata": {
    "scrolled": true
   },
   "outputs": [
    {
     "name": "stdout",
     "output_type": "stream",
     "text": [
      "0\n",
      "철수 : 안녕 영희야 뭐해?\n",
      "영희 : 안녕 철수야. 그냥 있어.\n",
      "민수 : 안녕 철수와 영희야\n",
      "1\n",
      "철수 : 안녕 영희야 뭐해?\n",
      "영희 : 안녕 철수야. 그냥 있어.\n",
      "2\n",
      "철수 : 안녕 영희야 뭐해?\n",
      "영희 : 안녕 철수야. 그냥 있어.\n",
      "민수 : 안녕 철수와 영희야\n"
     ]
    }
   ],
   "source": [
    "i = 0\n",
    "for i in range(3):\n",
    "    print(i)\n",
    "    print('철수 : 안녕 영희야 뭐해?')\n",
    "    print('영희 : 안녕 철수야. 그냥 있어.')\n",
    "    \n",
    "    if i == 1: \n",
    "        continue\n",
    "    # continue를 만나면 이하 코드를 보지 않고 위의 코드로 올라간다. \n",
    "    # 특이한 조건에서 밑에 코드를 실행하고 싶지 않을 때 사용. \n",
    "     \n",
    "    print('민수 : 안녕 철수와 영희야')"
   ]
  },
  {
   "cell_type": "markdown",
   "metadata": {},
   "source": [
    "#### 자료구조 \n",
    "- 리스트 \n",
    "- 튜플\n",
    "- 딕셔너리"
   ]
  },
  {
   "cell_type": "code",
   "execution_count": 82,
   "metadata": {},
   "outputs": [
    {
     "name": "stdout",
     "output_type": "stream",
     "text": [
      "[] []\n"
     ]
    }
   ],
   "source": [
    "# 리스트(list)\n",
    "x = list()\n",
    "y = []\n",
    "\n",
    "print(x,y)\n",
    "# 여러개를 그룹핑 할 때 사용.\n"
   ]
  },
  {
   "cell_type": "code",
   "execution_count": 86,
   "metadata": {},
   "outputs": [
    {
     "name": "stdout",
     "output_type": "stream",
     "text": [
      "[1, 2, 3, 4] ['hello', 'world'] ['hello', 1, 2, 3]\n",
      "[1, 2, 3, 4, 'hello', 'world']\n",
      "[1, 2, 3, 4, 'hello', 'world', 'hello', 1, 2, 3]\n"
     ]
    }
   ],
   "source": [
    "x = [1,2,3,4]\n",
    "y = ['hello', 'world']\n",
    "z = ['hello', 1,2,3]\n",
    "\n",
    "print(x,y,z)\n",
    "print(x+y)\n",
    "print(x+y+z)"
   ]
  },
  {
   "cell_type": "code",
   "execution_count": 91,
   "metadata": {},
   "outputs": [
    {
     "name": "stdout",
     "output_type": "stream",
     "text": [
      "1\n",
      "2\n"
     ]
    },
    {
     "data": {
      "text/plain": [
       "[1, 2, 3, 10]"
      ]
     },
     "execution_count": 91,
     "metadata": {},
     "output_type": "execute_result"
    }
   ],
   "source": [
    "x = [1,2,3,4]\n",
    "   # 0 1 2 3\n",
    "print(x[0])    \n",
    "print(x[1])\n",
    "x[3] = 10\n",
    "x"
   ]
  },
  {
   "cell_type": "code",
   "execution_count": 94,
   "metadata": {},
   "outputs": [
    {
     "name": "stdout",
     "output_type": "stream",
     "text": [
      "4\n"
     ]
    }
   ],
   "source": [
    "num_elements = len(x) # 데이터의 길이 \n",
    "print(num_elements)"
   ]
  },
  {
   "cell_type": "code",
   "execution_count": 96,
   "metadata": {},
   "outputs": [
    {
     "name": "stdout",
     "output_type": "stream",
     "text": [
      "[1, 2, 3, 4]\n",
      "4\n",
      "2\n",
      "3\n",
      "1\n"
     ]
    }
   ],
   "source": [
    "x = [4,2,3,1]\n",
    "\n",
    "y = sorted(x)\n",
    "print(y)\n",
    "\n",
    "# 리스트의 값을 하나씩 보여준다.  \n",
    "for i in x:\n",
    "    print(i)"
   ]
  },
  {
   "cell_type": "code",
   "execution_count": 99,
   "metadata": {},
   "outputs": [
    {
     "name": "stdout",
     "output_type": "stream",
     "text": [
      "hello\n",
      "there\n",
      "['hello', 'there']\n",
      "['hello', 'there']\n"
     ]
    }
   ],
   "source": [
    "y = ['hello','there']\n",
    "\n",
    "# 차례대로 보여줌\n",
    "for i in y:\n",
    "    print(i)\n",
    "\n",
    "# 리스트의 수만큼 반복해서 보여줌     \n",
    "for i in y:\n",
    "    print(y)    "
   ]
  },
  {
   "cell_type": "code",
   "execution_count": 105,
   "metadata": {},
   "outputs": [
    {
     "name": "stdout",
     "output_type": "stream",
     "text": [
      "2\n",
      "0\n",
      "True\n"
     ]
    }
   ],
   "source": [
    "x = [4,2,3,1]\n",
    "\n",
    "print(x.index(3)) # 자리 찾기 \n",
    "print(y.index('hello')) \n",
    "print('hello' in y) # 존재 여부 확인\n",
    "\n",
    "if 'hello' in x:\n",
    "    print('hello가 있어요,')"
   ]
  },
  {
   "cell_type": "code",
   "execution_count": 111,
   "metadata": {
    "scrolled": false
   },
   "outputs": [
    {
     "name": "stdout",
     "output_type": "stream",
     "text": [
      "(1, 2, 3, 'a', 'b', 'c')\n",
      "True\n",
      "0\n"
     ]
    },
    {
     "ename": "TypeError",
     "evalue": "'tuple' object does not support item assignment",
     "output_type": "error",
     "traceback": [
      "\u001b[1;31m---------------------------------------------------------------------------\u001b[0m",
      "\u001b[1;31mTypeError\u001b[0m                                 Traceback (most recent call last)",
      "\u001b[1;32m<ipython-input-111-46a1385a9c25>\u001b[0m in \u001b[0;36m<module>\u001b[1;34m\u001b[0m\n\u001b[0;32m      9\u001b[0m \u001b[1;31m# Assignment = 튜플 안의 값을 업데이트 하는 것 x\u001b[0m\u001b[1;33m\u001b[0m\u001b[1;33m\u001b[0m\u001b[1;33m\u001b[0m\u001b[0m\n\u001b[0;32m     10\u001b[0m \u001b[1;33m\u001b[0m\u001b[0m\n\u001b[1;32m---> 11\u001b[1;33m \u001b[0mx\u001b[0m\u001b[1;33m[\u001b[0m\u001b[1;36m0\u001b[0m\u001b[1;33m]\u001b[0m \u001b[1;33m=\u001b[0m \u001b[1;36m10\u001b[0m\u001b[1;33m\u001b[0m\u001b[1;33m\u001b[0m\u001b[0m\n\u001b[0m",
      "\u001b[1;31mTypeError\u001b[0m: 'tuple' object does not support item assignment"
     ]
    }
   ],
   "source": [
    "x = (1,2,3) \n",
    "y = ('a','b','c')\n",
    "z = (1, 'hello', 'there')\n",
    "\n",
    "print(x+y)\n",
    "print('a' in y)\n",
    "print(z.index(1))\n",
    "\n",
    "# Assignment = 튜플 안의 값을 업데이트 하는 것 x\n",
    "\n",
    "# 리스틑 가변, 튜플은 불변 \n",
    "# x[0] = 10 error "
   ]
  },
  {
   "cell_type": "code",
   "execution_count": 122,
   "metadata": {
    "scrolled": true
   },
   "outputs": [
    {
     "name": "stdout",
     "output_type": "stream",
     "text": [
      "{'name': '영수', 'age': 20}\n",
      "영수\n",
      "20\n",
      "{0: 'hong', 1: 'gil', 'age': 20}\n",
      "hong\n",
      "gil\n",
      "20\n",
      "True\n",
      "False\n",
      "dict_keys(['name', 'age'])\n",
      "dict_values(['영수', 20])\n"
     ]
    }
   ],
   "source": [
    "x = {'name':'영수', 'age':20 }\n",
    "print(x)\n",
    "print(x['name'])\n",
    "print(x['age'])\n",
    "# key 자리에는 불편하는 값을 넣을 수 없다.\n",
    "\n",
    "y = {0:'hong', 1:'gil', 'age':20}\n",
    "print(y)\n",
    "print(y[0])\n",
    "print(y[1])\n",
    "print(y['age'])\n",
    "print('age' in y)\n",
    "print('name' in y)\n",
    "\n",
    "\n",
    "print(x.keys()) # x의 모든 key값 출력\n",
    "print(x.values()) # x의 모든 value값 출력 "
   ]
  },
  {
   "cell_type": "code",
   "execution_count": 128,
   "metadata": {
    "scrolled": true
   },
   "outputs": [
    {
     "name": "stdout",
     "output_type": "stream",
     "text": [
      "key :name\n",
      "value :영수\n",
      "key :age\n",
      "value :20\n"
     ]
    }
   ],
   "source": [
    "for key in x:\n",
    "    print('key :' + str(key)) # key 값 출력\n",
    "    print('value :'+ str(x[key])) # value 값 출력 "
   ]
  },
  {
   "cell_type": "code",
   "execution_count": 137,
   "metadata": {
    "scrolled": true
   },
   "outputs": [
    {
     "name": "stdout",
     "output_type": "stream",
     "text": [
      "홍길동\n",
      "{'name': '홍길동', 'age': 20, 'school': '도화'}\n",
      "{'name': '홍길동', 'age': 20, 'school': '도화'}\n"
     ]
    }
   ],
   "source": [
    "print(x['name'])\n",
    "x['name'] = '홍길동'\n",
    "print(x)\n",
    "\n",
    "x['school'] = '도화'\n",
    "\n",
    "print(x)"
   ]
  },
  {
   "cell_type": "code",
   "execution_count": 143,
   "metadata": {},
   "outputs": [
    {
     "name": "stdout",
     "output_type": "stream",
     "text": [
      "{'사과': 2, '바나나': 2, '딸기': 1, '키위': 1, '복숭아': 3}\n"
     ]
    }
   ],
   "source": [
    "fruit = ['사과','사과', '바나나','바나나', '딸기', '키위','복숭아','복숭아','복숭아']\n",
    "\n",
    "d ={}\n",
    "# d = {'사과':1 }\n",
    "\n",
    "for f in fruit:\n",
    "    # f = '사과'\n",
    "    \n",
    "    if f in d: # '사과' 라는 key가 d라는 딕셔너리에 들어있나?\n",
    "        d[f] = d[f] + 1 # '사과' 개수 하나를 올려줘\n",
    "    else:\n",
    "        d[f] = 1 # '사과' 가 없으면 1로 만듬\n",
    "                \n",
    "print(d)    "
   ]
  },
  {
   "cell_type": "code",
   "execution_count": 145,
   "metadata": {
    "scrolled": true
   },
   "outputs": [
    {
     "name": "stdout",
     "output_type": "stream",
     "text": [
      "{'맑음': 4, '비': 4, '흐림': 3, '눈': 2}\n"
     ]
    }
   ],
   "source": [
    "weather = ['맑음', '맑음', '비', '비', '흐림', '흐림', '눈', '눈', '맑음', '비', '흐림', '비', '맑음']\n",
    "\n",
    "d = {}\n",
    "\n",
    "for i in weather:\n",
    "    if i in d:\n",
    "        d[i] = d[i] + 1\n",
    "    else:\n",
    "        d[i] = 1\n",
    "        \n",
    "print(d)        "
   ]
  },
  {
   "cell_type": "code",
   "execution_count": 158,
   "metadata": {},
   "outputs": [
    {
     "name": "stdout",
     "output_type": "stream",
     "text": [
      "내 이름은 제니 그리고 나는 20살이야\n"
     ]
    }
   ],
   "source": [
    "# 클래스 = 함수 + 변수 \n",
    "# 오브젝트 = 클래스를 통해서 만들어 낸 물체 - 인스턴스 \n",
    "\n",
    "class Person:\n",
    "    def __init__(self,name, age): # \n",
    "        self.name = name \n",
    "        self.age = age\n",
    "        \n",
    "    def say_hello(self, to_name):\n",
    "        print('안녕! ' + to_name + ' 나는 '+ self.name) # 만들어진 변수를 활용해야할 때 self 사용\n",
    "\n",
    "    def introduce(self):\n",
    "        print(\"내 이름은 \" + self.name + ' 그리고 나는 ' + str(self.age) + '살이야')\n",
    "        \n",
    "jenny = Person('제니', 20)\n",
    "wonie = Person('워니', 30)\n",
    "michel = Person('마이클', 40)\n",
    "\n",
    "jenny.introduce()\n"
   ]
  },
  {
   "cell_type": "code",
   "execution_count": 166,
   "metadata": {},
   "outputs": [
    {
     "name": "stdout",
     "output_type": "stream",
     "text": [
      "내 이름은 워니 그리고 나는 20살이야\n",
      "내 이름은 제니 그리고 나는 21살이야\n",
      "내 이름은 마이클 그리고 나는 22살이야\n",
      "넌 체포됐다,워니\n",
      "다음엔 뭘 만들지 ? 아 이걸 만들어야겠다, 이메일 클라이언트\n"
     ]
    }
   ],
   "source": [
    "# 상속 \n",
    "\n",
    "class Person:\n",
    "    def __init__(self,name, age): # \n",
    "        self.name = name \n",
    "        self.age = age\n",
    "        \n",
    "    def say_hello(self, to_name):\n",
    "        print('안녕! ' + to_name + ' 나는 '+ self.name) # 만들어진 변수를 활용해야할 때 self 사용\n",
    "\n",
    "    def introduce(self):\n",
    "        print(\"내 이름은 \" + self.name + ' 그리고 나는 ' + str(self.age) + '살이야')\n",
    "\n",
    "class Police(Person):\n",
    "    def arrest(selt, to_arrest):\n",
    "        print('넌 체포됐다,' + to_arrest)\n",
    "\n",
    "        \n",
    "class Programer(Person):\n",
    "    def program(self, to_program):\n",
    "        print('다음엔 뭘 만들지 ? 아 이걸 만들어야겠다, ' + to_program)\n",
    "\n",
    "\n",
    "wonie = Person('워니', 20)\n",
    "jenny = Police('제니',21)\n",
    "michel = Programer('마이클',22)\n",
    "\n",
    "wonie.introduce()\n",
    "jenny.introduce()\n",
    "michel.introduce()\n",
    "\n",
    "jenny.arrest('워니')\n",
    "michel.program('이메일 클라이언트')"
   ]
  },
  {
   "cell_type": "code",
   "execution_count": 170,
   "metadata": {},
   "outputs": [
    {
     "name": "stdout",
     "output_type": "stream",
     "text": [
      "안녕 내 이름은 ,제니 그리고 내 나이는 , 11이야\n"
     ]
    }
   ],
   "source": [
    "class Student:\n",
    "    def __init__(self, name, age):\n",
    "        self.name = name\n",
    "        self.age = age\n",
    "    \n",
    "    def introduce(self):\n",
    "        print('안녕 내 이름은 ,' + self.name + ' 그리고 내 나이는 , ' + str(self.age) + '이야')\n",
    "        \n",
    "jenny = Student('제니', 11)        \n",
    "jenny.introduce()            "
   ]
  },
  {
   "cell_type": "code",
   "execution_count": null,
   "metadata": {},
   "outputs": [],
   "source": []
  }
 ],
 "metadata": {
  "kernelspec": {
   "display_name": "Python 3",
   "language": "python",
   "name": "python3"
  },
  "language_info": {
   "codemirror_mode": {
    "name": "ipython",
    "version": 3
   },
   "file_extension": ".py",
   "mimetype": "text/x-python",
   "name": "python",
   "nbconvert_exporter": "python",
   "pygments_lexer": "ipython3",
   "version": "3.7.7"
  }
 },
 "nbformat": 4,
 "nbformat_minor": 4
}
