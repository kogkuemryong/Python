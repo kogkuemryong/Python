{
 "cells": [
  {
   "cell_type": "markdown",
   "metadata": {},
   "source": [
    "# 조건문"
   ]
  },
  {
   "cell_type": "code",
   "execution_count": 1,
   "metadata": {},
   "outputs": [
    {
     "name": "stdout",
     "output_type": "stream",
     "text": [
      "수를 입력하세요: \n",
      "9\n",
      "3 / 9 = 0.3333333333333333\n"
     ]
    }
   ],
   "source": [
    "import sys\n",
    "\n",
    "print('수를 입력하세요: ')\n",
    "\n",
    "num = int(input())\n",
    "\n",
    "if num == 0:\n",
    "    print('0은 나눗셈에 이용할 수 없습니다.')\n",
    "    sys.exit(0)\n",
    "    \n",
    "print('3 /', num, '=', 3 / num)"
   ]
  },
  {
   "cell_type": "code",
   "execution_count": 1,
   "metadata": {},
   "outputs": [
    {
     "name": "stdout",
     "output_type": "stream",
     "text": [
      "수를 입력하세요: \n",
      "0\n",
      "0은 나눗셈에 이용할 수 없습니다.\n"
     ]
    },
    {
     "ename": "SystemExit",
     "evalue": "0",
     "output_type": "error",
     "traceback": [
      "An exception has occurred, use %tb to see the full traceback.\n",
      "\u001b[1;31mSystemExit\u001b[0m\u001b[1;31m:\u001b[0m 0\n"
     ]
    },
    {
     "name": "stderr",
     "output_type": "stream",
     "text": [
      "C:\\Users\\tjoeun\\.conda\\envs\\env_cup\\lib\\site-packages\\IPython\\core\\interactiveshell.py:3351: UserWarning: To exit: use 'exit', 'quit', or Ctrl-D.\n",
      "  warn(\"To exit: use 'exit', 'quit', or Ctrl-D.\", stacklevel=1)\n"
     ]
    }
   ],
   "source": [
    "import sys\n",
    "\n",
    "print('수를 입력하세요: ')\n",
    "\n",
    "num = int(input())\n",
    "\n",
    "if num == 0:\n",
    "    print('0은 나눗셈에 이용할 수 없습니다.')\n",
    "    sys.exit(0)\n",
    "    \n",
    "print('3 /', num, '=', 3 / num)"
   ]
  },
  {
   "cell_type": "code",
   "execution_count": 3,
   "metadata": {},
   "outputs": [
    {
     "name": "stdout",
     "output_type": "stream",
     "text": [
      "수를 입력하세요:\n",
      "12\n",
      "3/ 12 = 0.25\n",
      "프로그램 종료\n"
     ]
    }
   ],
   "source": [
    "print('수를 입력하세요:')\n",
    "num = int(input()) \n",
    "\n",
    "if num == 0:\n",
    "    print('0은 나눗셈에 이용할 수 없습니다') # -- if 의 영역 \n",
    "else:\n",
    "    print('3/', num,'=', 3 / num) # -- else 의 영역 \n",
    "    \n",
    "print('프로그램 종료') # 프로그램 종료 명령문 수행 (명령문과 명령문 사이의 여백은 무시합니다.)"
   ]
  },
  {
   "cell_type": "code",
   "execution_count": 6,
   "metadata": {},
   "outputs": [
    {
     "name": "stdout",
     "output_type": "stream",
     "text": [
      "요일(월~일)을 입력하세요: \n",
      "월\n",
      "Monday\n"
     ]
    }
   ],
   "source": [
    "# else if 문\n",
    "\n",
    "print('요일(월~일)을 입력하세요: ')\n",
    "dow = input()\n",
    "\n",
    "if dow == '월': \n",
    "    print('Monday')\n",
    "elif dow == '화':\n",
    "    print('Tuesday')\n",
    "elif dow == '수':\n",
    "    print('Wednesday')    \n",
    "elif dow == '목':\n",
    "    print('Thursday')    \n",
    "elif dow == '금':\n",
    "    print('Friday')    \n",
    "elif dow == '토':\n",
    "    print('Saturday')\n",
    "elif dow == '일':\n",
    "    print('Sunday') \n",
    "else:\n",
    "    print('잘못 입력된 요일입니다.')"
   ]
  },
  {
   "cell_type": "code",
   "execution_count": 1,
   "metadata": {},
   "outputs": [
    {
     "name": "stdout",
     "output_type": "stream",
     "text": [
      "수를 입력하세요:\n",
      "10\n",
      "10이하의 짝수\n"
     ]
    }
   ],
   "source": [
    "# if, else 문 안에 if, else 문 추가 \n",
    "\n",
    "print('수를 입력하세요:')\n",
    "num = int(input())\n",
    "\n",
    "if num > 10:\n",
    "    if num % 2 == 0:\n",
    "        print('10보다 큰 짝수')\n",
    "    else:\n",
    "        print('10보다 큰 홀수')\n",
    "else: \n",
    "    if num % 2 == 0:\n",
    "        print('10이하의 짝수')\n",
    "    else:\n",
    "        print('10이하의 홀수')"
   ]
  },
  {
   "cell_type": "code",
   "execution_count": 3,
   "metadata": {},
   "outputs": [
    {
     "name": "stdout",
     "output_type": "stream",
     "text": [
      "수를 입력하세요:\n",
      "20\n",
      "10 이상입니다.\n",
      "20입니다.\n"
     ]
    }
   ],
   "source": [
    "print('수를 입력하세요:')\n",
    "\n",
    "num = int(input())\n",
    "\n",
    "if num >= 10:\n",
    "     print('10 이상입니다.')\n",
    " \n",
    "     if num == 15:\n",
    "         print('15입니다.')\n",
    " \n",
    "     if num == 20:\n",
    "         print('20입니다.')"
   ]
  },
  {
   "cell_type": "code",
   "execution_count": 5,
   "metadata": {},
   "outputs": [
    {
     "name": "stdout",
     "output_type": "stream",
     "text": [
      "수를 입력하세요 : \n",
      "20\n",
      "10 보다 큰 짝수\n"
     ]
    }
   ],
   "source": [
    "print('수를 입력하세요 : ')\n",
    "num = int(input())\n",
    "\n",
    "if num > 10 and num % 2 == 0:\n",
    "    print ('10 보다 큰 짝수')\n",
    "elif num > 10 and num % 2 != 0:\n",
    "    print ('10 보다 큰 홀수')\n",
    "elif num % 2 == 0:\n",
    "    print ('10 이하의 짝수')\n",
    "else:\n",
    "    print('10 이하의 홀수')\n",
    "    \n",
    "    \n",
    "    "
   ]
  },
  {
   "cell_type": "markdown",
   "metadata": {},
   "source": [
    "## 반복문(while ,for)"
   ]
  },
  {
   "cell_type": "code",
   "execution_count": 8,
   "metadata": {},
   "outputs": [
    {
     "name": "stdout",
     "output_type": "stream",
     "text": [
      "몇 번 반복할까요?\n",
      "3\n",
      "1회 반복\n",
      "2회 반복\n",
      "3회 반복\n",
      "반복 종료.\n"
     ]
    }
   ],
   "source": [
    "print('몇 번 반복할까요?')\n",
    "\n",
    "limit = int(input())\n",
    "count = 0\n",
    "\n",
    "while count < limit:\n",
    "    count = count + 1\n",
    "    print('{0}회 반복'.format(count)) # format : R의 cat, javad의 printf , 문장열 안에 변수의 값을  출력 하고 싶을 때 사용.{ } 사용 \n",
    "    \n",
    "print('반복 종료.')        "
   ]
  },
  {
   "cell_type": "code",
   "execution_count": 10,
   "metadata": {},
   "outputs": [
    {
     "name": "stdout",
     "output_type": "stream",
     "text": [
      "반복을 계속할까요?[예/아니오]:\n",
      "예\n",
      "반복을 계속 합니다.\n",
      "반복을 계속할까요?[예/아니오]:\n",
      "예\n",
      "반복을 계속 합니다.\n",
      "반복을 계속할까요?[예/아니오]:\n",
      "예\n",
      "반복을 계속 합니다.\n",
      "반복을 계속할까요?[예/아니오]:\n",
      "아니오 \n",
      "정상적인 답변이 아닙니다.\n",
      "반복을 계속할까요?[예/아니오]:\n",
      "아니오\n",
      "반복 종료\n"
     ]
    }
   ],
   "source": [
    "while True : # 일부로 프로그램 자체의 종료를 하지 않음(특정 조건일 때 종료) \n",
    "    print('반복을 계속할까요?[예/아니오]:')\n",
    "    answer = input()\n",
    "\n",
    "    if answer == '예':\n",
    "        print('반복을 계속 합니다.')\n",
    "    elif answer == '아니오':\n",
    "        break\n",
    "    else:\n",
    "        print('정상적인 답변이 아닙니다.')\n",
    "print('반복 종료')        "
   ]
  },
  {
   "cell_type": "code",
   "execution_count": 12,
   "metadata": {},
   "outputs": [
    {
     "name": "stdout",
     "output_type": "stream",
     "text": [
      "10\n",
      "20\n",
      "30\n"
     ]
    }
   ],
   "source": [
    "for i in (10, 20, 30): # for 문 뒤에 ( ) 튜플(변경,삭제 불가) 사용 \n",
    "    print(i)"
   ]
  },
  {
   "cell_type": "code",
   "execution_count": 15,
   "metadata": {},
   "outputs": [
    {
     "name": "stdout",
     "output_type": "stream",
     "text": [
      "오늘은\n",
      "월요일\n",
      "입니다\n"
     ]
    }
   ],
   "source": [
    "for s in ['오늘은', '월요일', '입니다']:  # for 문 뒤에 [ 문자열 ] 리스트 사용 \n",
    "    print(s)"
   ]
  },
  {
   "cell_type": "code",
   "execution_count": 16,
   "metadata": {
    "scrolled": true
   },
   "outputs": [
    {
     "name": "stdout",
     "output_type": "stream",
     "text": [
      "오\n",
      "늘\n",
      "은\n",
      " \n",
      "월\n",
      "요\n",
      "일\n",
      " \n",
      "입\n",
      "니\n",
      "다\n"
     ]
    }
   ],
   "source": [
    "for s in '오늘은 월요일 입니다': # 한글자씩 출력 \n",
    "    print(s)"
   ]
  },
  {
   "cell_type": "code",
   "execution_count": 19,
   "metadata": {},
   "outputs": [
    {
     "name": "stdout",
     "output_type": "stream",
     "text": [
      "0\n",
      "2\n",
      "4\n",
      "6\n",
      "8\n"
     ]
    }
   ],
   "source": [
    "for i in range(0,10,2): # range (시작, 마지막 수 (n-1), 간격)\n",
    "    print(i)"
   ]
  },
  {
   "cell_type": "code",
   "execution_count": 21,
   "metadata": {
    "scrolled": true
   },
   "outputs": [
    {
     "name": "stdout",
     "output_type": "stream",
     "text": [
      "0\n",
      "1\n",
      "2\n",
      "3\n",
      "4\n"
     ]
    }
   ],
   "source": [
    "for i in range(5): # 0부터 시작 (n-1) 까지 출력 \n",
    "    print(i)"
   ]
  },
  {
   "cell_type": "code",
   "execution_count": 22,
   "metadata": {},
   "outputs": [
    {
     "ename": "TypeError",
     "evalue": "'int' object is not iterable",
     "output_type": "error",
     "traceback": [
      "\u001b[1;31m---------------------------------------------------------------------------\u001b[0m",
      "\u001b[1;31mTypeError\u001b[0m                                 Traceback (most recent call last)",
      "\u001b[1;32m<ipython-input-22-2ce37977c71e>\u001b[0m in \u001b[0;36m<module>\u001b[1;34m\u001b[0m\n\u001b[1;32m----> 1\u001b[1;33m \u001b[1;32mfor\u001b[0m \u001b[0mi\u001b[0m \u001b[1;32min\u001b[0m \u001b[1;36m5\u001b[0m\u001b[1;33m:\u001b[0m\u001b[1;33m\u001b[0m\u001b[1;33m\u001b[0m\u001b[0m\n\u001b[0m\u001b[0;32m      2\u001b[0m     \u001b[0mprint\u001b[0m\u001b[1;33m(\u001b[0m\u001b[0mi\u001b[0m\u001b[1;33m)\u001b[0m\u001b[1;33m\u001b[0m\u001b[1;33m\u001b[0m\u001b[0m\n",
      "\u001b[1;31mTypeError\u001b[0m: 'int' object is not iterable"
     ]
    }
   ],
   "source": [
    "# 주의 - 하나의 정수값과 반복문은 error \n",
    "for i in 5:\n",
    "    print(i)"
   ]
  },
  {
   "cell_type": "code",
   "execution_count": 26,
   "metadata": {},
   "outputs": [
    {
     "name": "stdout",
     "output_type": "stream",
     "text": [
      "*\n",
      "**\n",
      "***\n",
      "****\n",
      "*****\n"
     ]
    }
   ],
   "source": [
    "for i in range(1,6):  #  1 , 2 , 3, 4 , 5 \n",
    "    for j in range(i): #  0 (1번 반복) , 0,1(2번 반복) , 0,1,2(3번 반복), 0,1,2,3(4번 반복), 0,1,2,3,4(5번 반복)\n",
    "        print(\"*\", end=\"\")\n",
    "    print()    "
   ]
  },
  {
   "cell_type": "code",
   "execution_count": 28,
   "metadata": {},
   "outputs": [
    {
     "name": "stdout",
     "output_type": "stream",
     "text": [
      "애플:www.apple.com\n",
      "파이썬:www.python.org\n",
      "네이버:www.naver.com\n"
     ]
    }
   ],
   "source": [
    "dic = {'애플' : 'www.apple.com', '파이썬':'www.python.org', '네이버' : 'www.naver.com'} # 딕셔너리 - key,value 저장 \n",
    "\n",
    "for k, v in dic.items(): # items : key, value 의 값을 튜플 자료형으로 반환 \n",
    "    print(\"{0}:{1}\".format(k,v))  # format :문장열 안에 변수의 값을  출력 하고 싶을 때 사용.{ } 사용 "
   ]
  },
  {
   "cell_type": "code",
   "execution_count": 30,
   "metadata": {},
   "outputs": [
    {
     "name": "stdout",
     "output_type": "stream",
     "text": [
      "0\n",
      "2\n",
      "4\n",
      "6\n",
      "8\n"
     ]
    }
   ],
   "source": [
    "# continue \n",
    "for i in range(10): # 0 ~ 9 까지 10번 반복 \n",
    "    if i % 2 == 1: \n",
    "        continue \n",
    "     \n",
    "    print(i) # 짝수 출력 "
   ]
  },
  {
   "cell_type": "code",
   "execution_count": 32,
   "metadata": {},
   "outputs": [
    {
     "name": "stdout",
     "output_type": "stream",
     "text": [
      "1\n",
      "2\n",
      "3\n",
      "4\n",
      "5\n",
      "6\n",
      "7\n",
      "8\n",
      "9\n",
      "10\n",
      "11\n",
      "12\n",
      "13\n",
      "14\n",
      "15\n",
      "16\n",
      "17\n",
      "18\n",
      "19\n",
      "20\n",
      "21\n",
      "22\n",
      "23\n",
      "24\n",
      "25\n",
      "26\n",
      "27\n",
      "28\n",
      "29\n",
      "30\n",
      "31\n",
      "32\n",
      "33\n",
      "34\n",
      "35\n",
      "36\n",
      "37\n",
      "38\n",
      "39\n",
      "40\n",
      "41\n",
      "42\n",
      "43\n",
      "44\n",
      "45\n",
      "46\n",
      "47\n",
      "48\n",
      "49\n",
      "50\n",
      "51\n",
      "52\n",
      "53\n",
      "54\n",
      "55\n",
      "56\n",
      "57\n",
      "58\n",
      "59\n",
      "60\n",
      "61\n",
      "62\n",
      "63\n",
      "64\n",
      "65\n",
      "66\n",
      "67\n",
      "68\n",
      "69\n",
      "70\n",
      "71\n",
      "72\n",
      "73\n",
      "74\n",
      "75\n",
      "76\n",
      "77\n",
      "78\n",
      "79\n",
      "80\n",
      "81\n",
      "82\n",
      "83\n",
      "84\n",
      "85\n",
      "86\n",
      "87\n",
      "88\n",
      "89\n",
      "90\n",
      "91\n",
      "92\n",
      "93\n",
      "94\n",
      "95\n",
      "96\n",
      "97\n",
      "98\n",
      "99\n",
      "i가 100가 됐습니다. 반복문이 중단합니다.\n",
      "프로그램 종료.\n"
     ]
    }
   ],
   "source": [
    "# break \n",
    "i = 0\n",
    "\n",
    "while True:\n",
    "    i = i+1\n",
    "    \n",
    "    if i == 100:\n",
    "        print('i가 {0}가 됐습니다. 반복문이 중단합니다.'.format(i))\n",
    "        break\n",
    "        \n",
    "    print(i)    \n",
    "print('프로그램 종료.')    "
   ]
  },
  {
   "cell_type": "code",
   "execution_count": null,
   "metadata": {},
   "outputs": [],
   "source": []
  }
 ],
 "metadata": {
  "kernelspec": {
   "display_name": "Python 3",
   "language": "python",
   "name": "python3"
  },
  "language_info": {
   "codemirror_mode": {
    "name": "ipython",
    "version": 3
   },
   "file_extension": ".py",
   "mimetype": "text/x-python",
   "name": "python",
   "nbconvert_exporter": "python",
   "pygments_lexer": "ipython3",
   "version": "3.7.7"
  }
 },
 "nbformat": 4,
 "nbformat_minor": 4
}
