{
 "cells": [
  {
   "cell_type": "code",
   "execution_count": 7,
   "metadata": {},
   "outputs": [
    {
     "name": "stdout",
     "output_type": "stream",
     "text": [
      "Hello, Python!!!\n"
     ]
    }
   ],
   "source": [
    "# 함수 정의 방법 \n",
    "\n",
    "def hello():\n",
    "    print('Hello, Python!!!')\n",
    "    \n",
    "hello() # 함수 호출 방법 "
   ]
  },
  {
   "cell_type": "code",
   "execution_count": 16,
   "metadata": {},
   "outputs": [
    {
     "ename": "SyntaxError",
     "evalue": "unexpected EOF while parsing (<ipython-input-16-0840b8949e3d>, line 12)",
     "output_type": "error",
     "traceback": [
      "\u001b[1;36m  File \u001b[1;32m\"<ipython-input-16-0840b8949e3d>\"\u001b[1;36m, line \u001b[1;32m12\u001b[0m\n\u001b[1;33m    print(my_abs\u001b[0m\n\u001b[1;37m                ^\u001b[0m\n\u001b[1;31mSyntaxError\u001b[0m\u001b[1;31m:\u001b[0m unexpected EOF while parsing\n"
     ]
    }
   ],
   "source": [
    "# 호출과 반환\n",
    "\n",
    "def my_abs(arg):\n",
    "    if(arg < 0):\n",
    "        result = arg * -1\n",
    "    else: \n",
    "        result = arg \n",
    "    \n",
    "    return result  # 값을 반환         \n",
    "\n",
    "print(my_abs(-10))\n",
    "\n",
    "print(my_abs) \n",
    "\n",
    "# 함수의 이름을 넣으면 할당된 주소값을 반환한다. "
   ]
  },
  {
   "cell_type": "code",
   "execution_count": 17,
   "metadata": {
    "scrolled": true
   },
   "outputs": [
    {
     "name": "stdout",
     "output_type": "stream",
     "text": [
      "안녕하세요\n",
      "안녕하세요\n",
      "안녕하세요\n"
     ]
    }
   ],
   "source": [
    "# 인자(argument)  이름의 올바른 예 \n",
    "\n",
    "def print_string1(text, count):\n",
    "    for i in range(count):\n",
    "        print(text)\n",
    "        \n",
    "print_string1('안녕하세요', 3)        "
   ]
  },
  {
   "cell_type": "code",
   "execution_count": 20,
   "metadata": {},
   "outputs": [
    {
     "name": "stdout",
     "output_type": "stream",
     "text": [
      "안녕하세요\n",
      "안녕하세요\n",
      "안녕하세요\n",
      "안녕하세요\n",
      "안녕하세요\n"
     ]
    }
   ],
   "source": [
    "# 기본값 인자(Default Argyment Value)\n",
    "\n",
    "def print_string2(text,count=1): # count의 default 값 = 1\n",
    "    for i in range(count):\n",
    "        print(text)\n",
    "  \n",
    "print_string2('안녕하세요',5)"
   ]
  },
  {
   "cell_type": "code",
   "execution_count": 21,
   "metadata": {},
   "outputs": [
    {
     "name": "stdout",
     "output_type": "stream",
     "text": [
      "안녕하세요.\n"
     ]
    }
   ],
   "source": [
    "# 기본값 인자(Default Argyment Value)\n",
    "\n",
    "def print_string2(text,count=1): # count의 default 값 = 1\n",
    "    for i in range(count):\n",
    "        print(text)\n",
    "  \n",
    "\n",
    "print_string2('안녕하세요.') # 매개변수를 두개 전달 받게 되어 있는데 , 1개 넣어줘도  error가 나지 않는다. count의 default 값으로 수행"
   ]
  },
  {
   "cell_type": "markdown",
   "metadata": {},
   "source": [
    "## - 키워드 인자(Keyword Argument)\n",
    "        : 호출자가 매개변수의 이름을 일일이 저장해 데이터를 입력하는 것. "
   ]
  },
  {
   "cell_type": "code",
   "execution_count": 24,
   "metadata": {},
   "outputs": [
    {
     "name": "stdout",
     "output_type": "stream",
     "text": [
      "name = 홍길동\n",
      "position = student\n",
      "nationality = American\n"
     ]
    }
   ],
   "source": [
    "def print_personnel(name, position = 'staff', nationality = 'Korea'):\n",
    "    print('name = {0}'.format(name))\n",
    "    print('position = {0}'.format(position))\n",
    "    print('nationality = {0}'.format(nationality))\n",
    "\n",
    "print_personnel('홍길동', 'student', 'American')    "
   ]
  },
  {
   "cell_type": "code",
   "execution_count": 26,
   "metadata": {},
   "outputs": [
    {
     "name": "stdout",
     "output_type": "stream",
     "text": [
      "name = 홍길동\n",
      "position = student\n",
      "nationality = Korea\n"
     ]
    }
   ],
   "source": [
    "print_personnel('홍길동', 'student') # nationality 생략 "
   ]
  },
  {
   "cell_type": "code",
   "execution_count": 27,
   "metadata": {},
   "outputs": [
    {
     "name": "stdout",
     "output_type": "stream",
     "text": [
      "name = 홍길동\n",
      "position = staff\n",
      "nationality = Korea\n"
     ]
    }
   ],
   "source": [
    "print_personnel('홍길동')  # position , nationality  생략 "
   ]
  },
  {
   "cell_type": "code",
   "execution_count": 28,
   "metadata": {},
   "outputs": [
    {
     "name": "stdout",
     "output_type": "stream",
     "text": [
      "name = 이순신\n",
      "position = staff\n",
      "nationality = Korea\n"
     ]
    }
   ],
   "source": [
    "print_personnel(name = '이순신') # 매개변수의 이름으로 입력 가능 (가독성이 높아진다)"
   ]
  },
  {
   "cell_type": "code",
   "execution_count": 29,
   "metadata": {
    "scrolled": true
   },
   "outputs": [
    {
     "ename": "TypeError",
     "evalue": "print_personnel() missing 1 required positional argument: 'name'",
     "output_type": "error",
     "traceback": [
      "\u001b[1;31m---------------------------------------------------------------------------\u001b[0m",
      "\u001b[1;31mTypeError\u001b[0m                                 Traceback (most recent call last)",
      "\u001b[1;32m<ipython-input-29-b30586ce7db8>\u001b[0m in \u001b[0;36m<module>\u001b[1;34m\u001b[0m\n\u001b[1;32m----> 1\u001b[1;33m \u001b[0mprint_personnel\u001b[0m\u001b[1;33m(\u001b[0m\u001b[0mnationality\u001b[0m \u001b[1;33m=\u001b[0m \u001b[1;34m'Japan'\u001b[0m\u001b[1;33m)\u001b[0m\u001b[1;33m\u001b[0m\u001b[1;33m\u001b[0m\u001b[0m\n\u001b[0m",
      "\u001b[1;31mTypeError\u001b[0m: print_personnel() missing 1 required positional argument: 'name'"
     ]
    }
   ],
   "source": [
    "Sprint_personnel(nationality = 'Japan') "
   ]
  },
  {
   "cell_type": "code",
   "execution_count": 30,
   "metadata": {},
   "outputs": [
    {
     "name": "stdout",
     "output_type": "stream",
     "text": [
      "name = 유두래곤\n",
      "position = staff\n",
      "nationality = Japan\n"
     ]
    }
   ],
   "source": [
    "print_personnel(name = \"유두래곤\", nationality = 'Japan') "
   ]
  },
  {
   "cell_type": "code",
   "execution_count": 32,
   "metadata": {},
   "outputs": [
    {
     "name": "stdout",
     "output_type": "stream",
     "text": [
      "name = 린다G\n",
      "position = Center\n",
      "nationality = LA\n"
     ]
    }
   ],
   "source": [
    "print_personnel(nationality = 'LA', name = \"린다G\" , position=\"Center\") "
   ]
  },
  {
   "cell_type": "markdown",
   "metadata": {},
   "source": [
    "## - 가변 매개 변수 (Arbitrary Argument List)"
   ]
  },
  {
   "cell_type": "code",
   "execution_count": 34,
   "metadata": {
    "scrolled": true
   },
   "outputs": [
    {
     "name": "stdout",
     "output_type": "stream",
     "text": [
      "<class 'tuple'>\n"
     ]
    },
    {
     "data": {
      "text/plain": [
       "'아버지가 방에 들어간신다.'"
      ]
     },
     "execution_count": 34,
     "metadata": {},
     "output_type": "execute_result"
    }
   ],
   "source": [
    "def merge_string(*text_list): # * : 가변 = 개수의 제한을 두지 않는다. 가변 매개 변수는  전달 받는 자료형 = tuple \n",
    "    print(type(text_list))     #    데이터 자체를 확정지어서 읽어드린다.                                                \n",
    "     \n",
    "    result = ''\n",
    "    for s in text_list:\n",
    "        result += s\n",
    "    \n",
    "    return result    \n",
    "\n",
    "merge_string('아버지가 ', '방에 ', '들어간신다.') # 하나의 문장으로 완성 "
   ]
  },
  {
   "cell_type": "code",
   "execution_count": 35,
   "metadata": {
    "scrolled": true
   },
   "outputs": [
    {
     "name": "stdout",
     "output_type": "stream",
     "text": [
      "<class 'dict'>\n",
      "손흥민 = 축구\n",
      "류현진 = 야구\n",
      "서장훈 = 농구\n"
     ]
    }
   ],
   "source": [
    "def print_team(**players): # 가변 매개변수 \n",
    "    print(type(players))\n",
    "    \n",
    "    for k in players.keys(): # 딕셔너리의 자료형으로 처리 \n",
    "        print('{0} = {1}'.format(k, players[k]))\n",
    "        \n",
    "print_team(손흥민 = '축구',  류현진 = '야구', 서장훈 = '농구')        "
   ]
  },
  {
   "cell_type": "code",
   "execution_count": 40,
   "metadata": {},
   "outputs": [
    {
     "name": "stdout",
     "output_type": "stream",
     "text": [
      "홍길동\n",
      "이순신\n",
      "강감찬\n"
     ]
    }
   ],
   "source": [
    "def print_args1(argc,*argv): # 일반 매개변수, 가변 매개변수 \n",
    "    for i in range(argc): # 0 ,1 ,2 \n",
    "        print(argv[i]) # 리스트 , 튜플 둘다 [ ] 에 인덱스를 넣어서 사용. \n",
    "        \n",
    "print_args1(3, '홍길동', '이순신', '강감찬')    "
   ]
  },
  {
   "cell_type": "code",
   "execution_count": 43,
   "metadata": {},
   "outputs": [
    {
     "ename": "SyntaxError",
     "evalue": "positional argument follows keyword argument (<ipython-input-43-e9e3fa80614c>, line 2)",
     "output_type": "error",
     "traceback": [
      "\u001b[1;36m  File \u001b[1;32m\"<ipython-input-43-e9e3fa80614c>\"\u001b[1;36m, line \u001b[1;32m2\u001b[0m\n\u001b[1;33m    print_args1(argc = 3 , '홍길동', '이순신', '강감찬')\u001b[0m\n\u001b[1;37m                          ^\u001b[0m\n\u001b[1;31mSyntaxError\u001b[0m\u001b[1;31m:\u001b[0m positional argument follows keyword argument\n"
     ]
    }
   ],
   "source": [
    "# 주의\n",
    "print_args1(argc = 3 , '홍길동', '이순신', '강감찬') # 일반 매개변수와 ,가변 매개수가 함께 사용할 때는 이름을 같이 넣어서 호출 하면 error \n",
    "# why ? 가능하게 되면 순서를 바꿔도 가능하게 되는 것인데, 가변인자인지 데이터가 잘못들어간 것인지 모호해집니다. 그렇기에 지원하지 않고 \n",
    "# error를 냅니다. "
   ]
  },
  {
   "cell_type": "code",
   "execution_count": 46,
   "metadata": {},
   "outputs": [
    {
     "ename": "SyntaxError",
     "evalue": "positional argument follows keyword argument (<ipython-input-46-bf330d4dade2>, line 1)",
     "output_type": "error",
     "traceback": [
      "\u001b[1;36m  File \u001b[1;32m\"<ipython-input-46-bf330d4dade2>\"\u001b[1;36m, line \u001b[1;32m1\u001b[0m\n\u001b[1;33m    print_args1(argc = 3 ,'홍길동', '이순신', '강감찬')\u001b[0m\n\u001b[1;37m                         ^\u001b[0m\n\u001b[1;31mSyntaxError\u001b[0m\u001b[1;31m:\u001b[0m positional argument follows keyword argument\n"
     ]
    }
   ],
   "source": [
    "print_args1(argc = 3 ,'홍길동', '이순신', '강감찬')"
   ]
  },
  {
   "cell_type": "code",
   "execution_count": 50,
   "metadata": {},
   "outputs": [
    {
     "ename": "TypeError",
     "evalue": "print_args2() missing 1 required keyword-only argument: 'argc'",
     "output_type": "error",
     "traceback": [
      "\u001b[1;31m---------------------------------------------------------------------------\u001b[0m",
      "\u001b[1;31mTypeError\u001b[0m                                 Traceback (most recent call last)",
      "\u001b[1;32m<ipython-input-50-85a11b18bfad>\u001b[0m in \u001b[0;36m<module>\u001b[1;34m\u001b[0m\n\u001b[0;32m      3\u001b[0m         \u001b[0mprint\u001b[0m\u001b[1;33m(\u001b[0m\u001b[0margv\u001b[0m\u001b[1;33m[\u001b[0m\u001b[0mi\u001b[0m\u001b[1;33m]\u001b[0m\u001b[1;33m)\u001b[0m\u001b[1;33m\u001b[0m\u001b[1;33m\u001b[0m\u001b[0m\n\u001b[0;32m      4\u001b[0m \u001b[1;33m\u001b[0m\u001b[0m\n\u001b[1;32m----> 5\u001b[1;33m \u001b[0mprint_args2\u001b[0m\u001b[1;33m(\u001b[0m\u001b[1;34m'홍길동'\u001b[0m\u001b[1;33m,\u001b[0m \u001b[1;34m'이순신'\u001b[0m\u001b[1;33m,\u001b[0m \u001b[1;34m'강감찬'\u001b[0m\u001b[1;33m,\u001b[0m \u001b[1;36m3\u001b[0m\u001b[1;33m)\u001b[0m\u001b[1;33m\u001b[0m\u001b[1;33m\u001b[0m\u001b[0m\n\u001b[0m\u001b[0;32m      6\u001b[0m \u001b[1;31m# ( * ) 일때 튜플로 반환 되므로 어떤것이 가변인자고, 일반매개변수 인지 알수 없기 때문에 error 를 냅니다.\u001b[0m\u001b[1;33m\u001b[0m\u001b[1;33m\u001b[0m\u001b[1;33m\u001b[0m\u001b[0m\n",
      "\u001b[1;31mTypeError\u001b[0m: print_args2() missing 1 required keyword-only argument: 'argc'"
     ]
    }
   ],
   "source": [
    "def print_args2(*argv, argc): # 정의 가능 \n",
    "    for i in range(argc):\n",
    "        print(argv[i])\n",
    "        \n",
    "print_args2('홍길동', '이순신', '강감찬', 3)        \n",
    "# ( * ) 일때 튜플로 반환 되므로 어떤것이 가변인자고, 일반매개변수 인지 알수 없기 때문에 error 를 냅니다. "
   ]
  },
  {
   "cell_type": "code",
   "execution_count": 51,
   "metadata": {},
   "outputs": [
    {
     "name": "stdout",
     "output_type": "stream",
     "text": [
      "홍길동\n",
      "이순신\n",
      "강감찬\n"
     ]
    }
   ],
   "source": [
    "print_args2('홍길동', '이순신', '강감찬', argc=3)   "
   ]
  },
  {
   "cell_type": "code",
   "execution_count": 52,
   "metadata": {},
   "outputs": [
    {
     "name": "stdout",
     "output_type": "stream",
     "text": [
      "15\n"
     ]
    }
   ],
   "source": [
    "# 호출자에게 반환하기 \n",
    "\n",
    "def multiply(a,b):\n",
    "    return a * b # 1. 함수 즉시 종료 하고 호출한 쪽으로 이동/ 2. 호출자에게 결과 전달 \n",
    "\n",
    "result = multiply(3,5)\n",
    "print(result)"
   ]
  },
  {
   "cell_type": "code",
   "execution_count": 54,
   "metadata": {},
   "outputs": [
    {
     "name": "stdout",
     "output_type": "stream",
     "text": [
      "50\n"
     ]
    }
   ],
   "source": [
    "# 한 함수 안에서 여러 개의 return 배치 가능\n",
    "\n",
    "def my_abs1(arg):\n",
    "    if arg < 0:\n",
    "        return arg * -1\n",
    "    else:\n",
    "        return arg\n",
    "\n",
    "result = my_abs1(-50)\n",
    "print(result)\n",
    "    "
   ]
  },
  {
   "cell_type": "code",
   "execution_count": 60,
   "metadata": {},
   "outputs": [
    {
     "name": "stdout",
     "output_type": "stream",
     "text": [
      "None\n",
      "<class 'NoneType'>\n"
     ]
    }
   ],
   "source": [
    "# 주의 \n",
    "\n",
    "def my_abs2(arg):\n",
    "    if arg < 0:\n",
    "        return arg * -1\n",
    "    elif arg > 0:\n",
    "        return arg\n",
    "\n",
    "# arg = 0 일때, if, elif 문의 두개 조건 모두 수행 x     \n",
    "result = my_abs2(0) \n",
    "print(result)\n",
    "print(type(result))"
   ]
  },
  {
   "cell_type": "code",
   "execution_count": 66,
   "metadata": {},
   "outputs": [
    {
     "name": "stdout",
     "output_type": "stream",
     "text": [
      "1\n",
      "2\n",
      "3\n"
     ]
    }
   ],
   "source": [
    "def ogamdo(num):\n",
    "    for i in range(1, num+1):\n",
    "        print('{0}'.format(i))\n",
    "        if i == 5: # 5이상의 수가 매개변수로 들어와도 5까지만 출력된다. \n",
    "            return # 반환할 값이 없이도 복귀 시키는 의미로 사용 가능 \n",
    "\n",
    "ogamdo(3)        "
   ]
  },
  {
   "cell_type": "code",
   "execution_count": 67,
   "metadata": {},
   "outputs": [
    {
     "name": "stdout",
     "output_type": "stream",
     "text": [
      "1\n",
      "2\n",
      "3\n",
      "4\n",
      "5\n"
     ]
    }
   ],
   "source": [
    "ogamdo(10) "
   ]
  },
  {
   "cell_type": "markdown",
   "metadata": {},
   "source": [
    "## - 변수의 유효 범위 (scope)"
   ]
  },
  {
   "cell_type": "code",
   "execution_count": 83,
   "metadata": {},
   "outputs": [
    {
     "name": "stdout",
     "output_type": "stream",
     "text": [
      "a:10\n",
      "a:0\n"
     ]
    }
   ],
   "source": [
    "def scope_test1():\n",
    "    a = 10 # 지역변수 - 함수가 호출 될 때 생성, 소멸시점 - 함수의 호출이 끝나고 복귀 되어질 때(변수의 유효 범위)\n",
    "    print('a:{0}'.format(a))\n",
    "\n",
    "a = 0    # 함수 밖 변수 선언 \n",
    "scope_test1() # - 지역변수의 값으로 출력 \n",
    "print('a:{0}'.format(a)) # 위의 a = 0 의 값을 가져온다. "
   ]
  },
  {
   "cell_type": "code",
   "execution_count": null,
   "metadata": {},
   "outputs": [],
   "source": [
    "# 함수의 정의된 이름 확인  -> "
   ]
  },
  {
   "cell_type": "code",
   "execution_count": 82,
   "metadata": {},
   "outputs": [
    {
     "name": "stdout",
     "output_type": "stream",
     "text": [
      "a:10\n",
      "a:10\n"
     ]
    }
   ],
   "source": [
    "def scope_test1():\n",
    "    print('a:{0}'.format(a))\n",
    "\n",
    "a = 10    \n",
    "scope_test1() # 함수 안에 변수가 선언되어 있지 않기 때문에 함수 밖으로 나와서 a 를 찾아 봅니다. \n",
    "print('a:{0}'.format(a))"
   ]
  },
  {
   "cell_type": "code",
   "execution_count": 86,
   "metadata": {},
   "outputs": [
    {
     "name": "stdout",
     "output_type": "stream",
     "text": [
      "c:0\n",
      "c:1\n",
      "c:1\n"
     ]
    }
   ],
   "source": [
    "def scope_test2():\n",
    "    global c # global 키워드: 전역변수, 지역변수의 생성을 막는다. - 함수가 호출시 생성시 전체 코드에서 사용 \n",
    "    c = 1\n",
    "    print('c:{0}'.format(c))\n",
    "    \n",
    "c = 0\n",
    "print('c:{0}'.format(c)) # 함수 밖 변수 c 값 출력 = 0\n",
    "scope_test2() # 함수 안 변수 c 값 출력 = 1\n",
    "print('c:{0}'.format(c)) # global 변수 값 = 1 "
   ]
  },
  {
   "cell_type": "code",
   "execution_count": 87,
   "metadata": {},
   "outputs": [
    {
     "name": "stdout",
     "output_type": "stream",
     "text": [
      "123\n"
     ]
    }
   ],
   "source": [
    "# 함수를 변수에 담아 사용\n",
    "\n",
    "def print_something(a):\n",
    "    print(a)\n",
    "    \n",
    "print_something(123)"
   ]
  },
  {
   "cell_type": "code",
   "execution_count": 88,
   "metadata": {},
   "outputs": [
    {
     "name": "stdout",
     "output_type": "stream",
     "text": [
      "123\n",
      "abc\n"
     ]
    }
   ],
   "source": [
    "p = print_something # 함수를 변수에 담아주면, 변수의 이름으로 함수 호출 가능\n",
    "p(123)\n",
    "p('abc')"
   ]
  },
  {
   "cell_type": "code",
   "execution_count": 92,
   "metadata": {},
   "outputs": [
    {
     "name": "stdout",
     "output_type": "stream",
     "text": [
      "3\n",
      "5\n"
     ]
    }
   ],
   "source": [
    "# 순서열 / 딕셔너리에도 변수로 담아보기 \n",
    "\n",
    "def plus(a,b):\n",
    "    return a + b\n",
    "\n",
    "def minus(a,b):\n",
    "    return a - b\n",
    "\n",
    "flist = [plus, minus] # 하나의 변수의 이름으로 인덱스를 통해서 호출 \n",
    "\n",
    "print(flist[0](1,2)) # plus 함수\n",
    "print(flist[1](10,5)) # munus 함수 \n"
   ]
  },
  {
   "cell_type": "code",
   "execution_count": 94,
   "metadata": {},
   "outputs": [
    {
     "name": "stdout",
     "output_type": "stream",
     "text": [
      "안녕하세요.\n",
      "Hello.\n"
     ]
    }
   ],
   "source": [
    "# 함수의 매개변수에 함수 전달 가능\n",
    "\n",
    "def hello_korea():\n",
    "    print('안녕하세요.')\n",
    "\n",
    "def hello_english():\n",
    "    print('Hello.')\n",
    "    \n",
    "def greet(hello):\n",
    "    hello()\n",
    "    \n",
    "greet(hello_korea)    \n",
    "greet(hello_english)    "
   ]
  },
  {
   "cell_type": "code",
   "execution_count": 97,
   "metadata": {},
   "outputs": [
    {
     "name": "stdout",
     "output_type": "stream",
     "text": [
      "안녕하세요.\n",
      "Hello.\n"
     ]
    }
   ],
   "source": [
    "# 함수 내에서 함수를 반환 \n",
    "\n",
    "def get_greeting(where):\n",
    "    if where == 'K':\n",
    "        return hello_korea\n",
    "    else:\n",
    "        return hello_english\n",
    " \n",
    "hello = get_greeting('K')\n",
    "hello()\n",
    "\n",
    "hello = get_greeting('E')\n",
    "hello()"
   ]
  },
  {
   "cell_type": "markdown",
   "metadata": {},
   "source": [
    "## - 중첩 함수 "
   ]
  },
  {
   "cell_type": "code",
   "execution_count": 99,
   "metadata": {},
   "outputs": [
    {
     "name": "stdout",
     "output_type": "stream",
     "text": [
      "0.6\n"
     ]
    }
   ],
   "source": [
    "import math \n",
    "\n",
    "def stddev(*args): \n",
    "    def mean(): # .중첩 함수 (평균 = 총합/개수)\n",
    "        return sum(args) / len(args)\n",
    "    \n",
    "    def variance(m): # 중첩 함수 (분산)\n",
    "        total = 0 \n",
    "        \n",
    "        for arg in args: \n",
    "            total += (arg - m) ** 2  \n",
    "            \n",
    "        return total/ (len(args)-1) # 총합 / 자유도(개수 - 1)   \n",
    "        # 분산 : 데이터에 대한 평균으로 중심으로 분포도를 알 수 있다.  + 표중편차 : 분산의 값에 루트를 씌워주면 된다. \n",
    "        \n",
    "    v = variance(mean()) # 1) stddev 함수로 가서 mean 함수의 값을 수행하고 return 되어 2) variance 로 가서 mean값을 가지고 수행한 다음\n",
    "                         # 3) v 값에 분산 값을 return 시켜서 입력할 것이다. \n",
    "        \n",
    "    return math.sqrt(v) # 루트를 씌어서 최종 표준편차의 값을 오도록 한다. \n",
    "\n",
    "print(stddev(2.3,1.7,1.4,0.7,1.9)) \n",
    "\n",
    "# mean, variance 함수는 밖에서 실행 할 수 없습니다. "
   ]
  },
  {
   "cell_type": "code",
   "execution_count": 101,
   "metadata": {},
   "outputs": [
    {
     "ename": "NameError",
     "evalue": "name 'mean' is not defined",
     "output_type": "error",
     "traceback": [
      "\u001b[1;31m---------------------------------------------------------------------------\u001b[0m",
      "\u001b[1;31mNameError\u001b[0m                                 Traceback (most recent call last)",
      "\u001b[1;32m<ipython-input-101-f286c9af3e95>\u001b[0m in \u001b[0;36m<module>\u001b[1;34m\u001b[0m\n\u001b[1;32m----> 1\u001b[1;33m \u001b[0mprint\u001b[0m\u001b[1;33m(\u001b[0m\u001b[0mmean\u001b[0m\u001b[1;33m(\u001b[0m\u001b[1;33m)\u001b[0m\u001b[1;33m)\u001b[0m \u001b[1;31m# error - 중첩 함수는 외부에서 호출 불가능\u001b[0m\u001b[1;33m\u001b[0m\u001b[1;33m\u001b[0m\u001b[0m\n\u001b[0m",
      "\u001b[1;31mNameError\u001b[0m: name 'mean' is not defined"
     ]
    }
   ],
   "source": [
    "print(mean()) # error - 중첩 함수는 외부에서 호출 불가능 "
   ]
  },
  {
   "cell_type": "code",
   "execution_count": 103,
   "metadata": {},
   "outputs": [],
   "source": [
    "# pass : 기능의 구현  잠시 보류 \n",
    "\n",
    "def empty_function(): \n",
    "    pass\n",
    "    "
   ]
  },
  {
   "cell_type": "code",
   "execution_count": null,
   "metadata": {},
   "outputs": [],
   "source": [
    "# cf)\n",
    "class empty_class: \n",
    "    pass "
   ]
  }
 ],
 "metadata": {
  "kernelspec": {
   "display_name": "Python 3",
   "language": "python",
   "name": "python3"
  },
  "language_info": {
   "codemirror_mode": {
    "name": "ipython",
    "version": 3
   },
   "file_extension": ".py",
   "mimetype": "text/x-python",
   "name": "python",
   "nbconvert_exporter": "python",
   "pygments_lexer": "ipython3",
   "version": "3.7.7"
  }
 },
 "nbformat": 4,
 "nbformat_minor": 4
}
