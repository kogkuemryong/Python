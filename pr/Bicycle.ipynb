{
 "cells": [
  {
   "cell_type": "code",
   "execution_count": 2,
   "metadata": {},
   "outputs": [],
   "source": [
    "# 노트북이 간결해 보이도록 경고 문구는 출력되지 않도록 함 .  - 오류 문구는 나옵니다. \n",
    "import warnings \n",
    "warnings.simplefilter(action='ignore', category = FutureWarning)"
   ]
  },
  {
   "cell_type": "code",
   "execution_count": 3,
   "metadata": {
    "scrolled": true
   },
   "outputs": [
    {
     "name": "stderr",
     "output_type": "stream",
     "text": [
      "ERROR: Invalid requirement: '#'\n",
      "ERROR: Invalid requirement: '#'\n",
      "ERROR: Invalid requirement: '#'\n"
     ]
    }
   ],
   "source": [
    "#  시각화 도구 설치\n",
    "!pip install plotnine # R에서 사용하는 시각화 문법을 편하게 사용할 수 있도록 맵핑 - 그래프\n",
    "!pip install missingno # 결측치 시각화\n",
    "!pip install folium # 지도 시각화 (위치 표시)"
   ]
  },
  {
   "cell_type": "code",
   "execution_count": 1,
   "metadata": {},
   "outputs": [
    {
     "ename": "AttributeError",
     "evalue": "module 'matplotlib' has no attribute 'font_manager'",
     "output_type": "error",
     "traceback": [
      "\u001b[1;31m---------------------------------------------------------------------------\u001b[0m",
      "\u001b[1;31mAttributeError\u001b[0m                            Traceback (most recent call last)",
      "\u001b[1;32m<ipython-input-1-f8d1888ec4e9>\u001b[0m in \u001b[0;36m<module>\u001b[1;34m\u001b[0m\n\u001b[0;32m      1\u001b[0m \u001b[1;31m# 기본 글꼴 변경\u001b[0m\u001b[1;33m\u001b[0m\u001b[1;33m\u001b[0m\u001b[1;33m\u001b[0m\u001b[0m\n\u001b[0;32m      2\u001b[0m \u001b[1;32mimport\u001b[0m \u001b[0mmatplotlib\u001b[0m \u001b[1;32mas\u001b[0m \u001b[0mmpl\u001b[0m\u001b[1;33m\u001b[0m\u001b[1;33m\u001b[0m\u001b[0m\n\u001b[1;32m----> 3\u001b[1;33m \u001b[0mmpl\u001b[0m\u001b[1;33m.\u001b[0m\u001b[0mfont_manager\u001b[0m\u001b[1;33m.\u001b[0m\u001b[0m_rebuild\u001b[0m\u001b[1;33m(\u001b[0m\u001b[1;33m)\u001b[0m\u001b[1;33m\u001b[0m\u001b[1;33m\u001b[0m\u001b[0m\n\u001b[0m\u001b[0;32m      4\u001b[0m \u001b[0mmpl\u001b[0m\u001b[1;33m.\u001b[0m\u001b[0mpyplot\u001b[0m\u001b[1;33m.\u001b[0m\u001b[0mrc\u001b[0m\u001b[1;33m(\u001b[0m\u001b[1;34m'font'\u001b[0m\u001b[1;33m,\u001b[0m \u001b[0mfamily\u001b[0m\u001b[1;33m=\u001b[0m\u001b[1;34m'NanumBarunGothic'\u001b[0m\u001b[1;33m)\u001b[0m\u001b[1;33m\u001b[0m\u001b[1;33m\u001b[0m\u001b[0m\n",
      "\u001b[1;31mAttributeError\u001b[0m: module 'matplotlib' has no attribute 'font_manager'"
     ]
    }
   ],
   "source": [
    "# 기본 글꼴 변경\n",
    "import matplotlib as mpl\n",
    "mpl.font_manager._rebuild()\n",
    "mpl.pyplot.rc('font', family='NanumBarunGothic')"
   ]
  },
  {
   "cell_type": "code",
   "execution_count": 1,
   "metadata": {},
   "outputs": [
    {
     "name": "stdout",
     "output_type": "stream",
     "text": [
      "Requirement already satisfied: plotnine in c:\\users\\rmafu\\.conda\\envs\\env_cpu\\lib\\site-packages (0.7.1)\n",
      "Requirement already satisfied: scipy>=1.2.0 in c:\\users\\rmafu\\.conda\\envs\\env_cpu\\lib\\site-packages (from plotnine) (1.5.0)\n",
      "Requirement already satisfied: patsy>=0.5.1 in c:\\users\\rmafu\\.conda\\envs\\env_cpu\\lib\\site-packages (from plotnine) (0.5.1)\n",
      "Requirement already satisfied: numpy>=1.16.0 in c:\\users\\rmafu\\.conda\\envs\\env_cpu\\lib\\site-packages (from plotnine) (1.19.1)\n",
      "Requirement already satisfied: matplotlib>=3.1.1 in c:\\users\\rmafu\\.conda\\envs\\env_cpu\\lib\\site-packages (from plotnine) (3.2.2)\n",
      "Requirement already satisfied: pandas>=1.1.0 in c:\\users\\rmafu\\.conda\\envs\\env_cpu\\lib\\site-packages (from plotnine) (1.1.0)\n",
      "Requirement already satisfied: statsmodels>=0.11.1 in c:\\users\\rmafu\\.conda\\envs\\env_cpu\\lib\\site-packages (from plotnine) (0.11.1)\n",
      "Requirement already satisfied: descartes>=1.1.0 in c:\\users\\rmafu\\.conda\\envs\\env_cpu\\lib\\site-packages (from plotnine) (1.1.0)\n",
      "Requirement already satisfied: mizani>=0.7.1 in c:\\users\\rmafu\\.conda\\envs\\env_cpu\\lib\\site-packages (from plotnine) (0.7.1)\n",
      "Requirement already satisfied: six in c:\\users\\rmafu\\.conda\\envs\\env_cpu\\lib\\site-packages (from patsy>=0.5.1->plotnine) (1.15.0)\n",
      "Requirement already satisfied: python-dateutil>=2.1 in c:\\users\\rmafu\\.conda\\envs\\env_cpu\\lib\\site-packages (from matplotlib>=3.1.1->plotnine) (2.8.1)\n",
      "Requirement already satisfied: cycler>=0.10 in c:\\users\\rmafu\\.conda\\envs\\env_cpu\\lib\\site-packages (from matplotlib>=3.1.1->plotnine) (0.10.0)\n",
      "Requirement already satisfied: kiwisolver>=1.0.1 in c:\\users\\rmafu\\.conda\\envs\\env_cpu\\lib\\site-packages (from matplotlib>=3.1.1->plotnine) (1.2.0)\n",
      "Requirement already satisfied: pyparsing!=2.0.4,!=2.1.2,!=2.1.6,>=2.0.1 in c:\\users\\rmafu\\.conda\\envs\\env_cpu\\lib\\site-packages (from matplotlib>=3.1.1->plotnine) (2.4.7)\n",
      "Requirement already satisfied: pytz>=2017.2 in c:\\users\\rmafu\\.conda\\envs\\env_cpu\\lib\\site-packages (from pandas>=1.1.0->plotnine) (2020.1)\n",
      "Requirement already satisfied: palettable in c:\\users\\rmafu\\.conda\\envs\\env_cpu\\lib\\site-packages (from mizani>=0.7.1->plotnine) (3.3.0)\n",
      "Requirement already satisfied: missingno in c:\\users\\rmafu\\.conda\\envs\\env_cpu\\lib\\site-packages (0.4.2)\n",
      "Requirement already satisfied: seaborn in c:\\users\\rmafu\\.conda\\envs\\env_cpu\\lib\\site-packages (from missingno) (0.10.1)\n",
      "Requirement already satisfied: scipy in c:\\users\\rmafu\\.conda\\envs\\env_cpu\\lib\\site-packages (from missingno) (1.5.0)\n",
      "Requirement already satisfied: matplotlib in c:\\users\\rmafu\\.conda\\envs\\env_cpu\\lib\\site-packages (from missingno) (3.2.2)\n",
      "Requirement already satisfied: numpy in c:\\users\\rmafu\\.conda\\envs\\env_cpu\\lib\\site-packages (from missingno) (1.19.1)\n",
      "Requirement already satisfied: pandas>=0.22.0 in c:\\users\\rmafu\\.conda\\envs\\env_cpu\\lib\\site-packages (from seaborn->missingno) (1.1.0)\n",
      "Requirement already satisfied: kiwisolver>=1.0.1 in c:\\users\\rmafu\\.conda\\envs\\env_cpu\\lib\\site-packages (from matplotlib->missingno) (1.2.0)\n",
      "Requirement already satisfied: python-dateutil>=2.1 in c:\\users\\rmafu\\.conda\\envs\\env_cpu\\lib\\site-packages (from matplotlib->missingno) (2.8.1)\n",
      "Requirement already satisfied: pyparsing!=2.0.4,!=2.1.2,!=2.1.6,>=2.0.1 in c:\\users\\rmafu\\.conda\\envs\\env_cpu\\lib\\site-packages (from matplotlib->missingno) (2.4.7)\n",
      "Requirement already satisfied: cycler>=0.10 in c:\\users\\rmafu\\.conda\\envs\\env_cpu\\lib\\site-packages (from matplotlib->missingno) (0.10.0)\n",
      "Requirement already satisfied: pytz>=2017.2 in c:\\users\\rmafu\\.conda\\envs\\env_cpu\\lib\\site-packages (from pandas>=0.22.0->seaborn->missingno) (2020.1)\n",
      "Requirement already satisfied: six>=1.5 in c:\\users\\rmafu\\.conda\\envs\\env_cpu\\lib\\site-packages (from python-dateutil>=2.1->matplotlib->missingno) (1.15.0)\n",
      "Requirement already satisfied: folium in c:\\users\\rmafu\\.conda\\envs\\env_cpu\\lib\\site-packages (0.11.0)\n",
      "Requirement already satisfied: requests in c:\\users\\rmafu\\.conda\\envs\\env_cpu\\lib\\site-packages (from folium) (2.24.0)\n",
      "Requirement already satisfied: branca>=0.3.0 in c:\\users\\rmafu\\.conda\\envs\\env_cpu\\lib\\site-packages (from folium) (0.4.1)\n",
      "Requirement already satisfied: numpy in c:\\users\\rmafu\\.conda\\envs\\env_cpu\\lib\\site-packages (from folium) (1.19.1)\n",
      "Requirement already satisfied: jinja2>=2.9 in c:\\users\\rmafu\\.conda\\envs\\env_cpu\\lib\\site-packages (from folium) (2.11.2)\n",
      "Requirement already satisfied: chardet<4,>=3.0.2 in c:\\users\\rmafu\\.conda\\envs\\env_cpu\\lib\\site-packages (from requests->folium) (3.0.4)\n",
      "Requirement already satisfied: idna<3,>=2.5 in c:\\users\\rmafu\\.conda\\envs\\env_cpu\\lib\\site-packages (from requests->folium) (2.10)\n",
      "Requirement already satisfied: certifi>=2017.4.17 in c:\\users\\rmafu\\.conda\\envs\\env_cpu\\lib\\site-packages (from requests->folium) (2020.6.20)\n",
      "Requirement already satisfied: urllib3!=1.25.0,!=1.25.1,<1.26,>=1.21.1 in c:\\users\\rmafu\\.conda\\envs\\env_cpu\\lib\\site-packages (from requests->folium) (1.25.9)\n",
      "Requirement already satisfied: MarkupSafe>=0.23 in c:\\users\\rmafu\\.conda\\envs\\env_cpu\\lib\\site-packages (from jinja2>=2.9->folium) (1.1.1)\n"
     ]
    }
   ],
   "source": []
  },
  {
   "cell_type": "markdown",
   "metadata": {},
   "source": [
    "## 사용할 도구 가져오기 "
   ]
  },
  {
   "cell_type": "code",
   "execution_count": 6,
   "metadata": {},
   "outputs": [],
   "source": [
    "import pandas as pd # pandas = python 에서 사용하는 exel\n",
    "import numpy as np # numpy = python 에서 계산기 \n",
    "from plotnine import * # 시각화 도구 "
   ]
  },
  {
   "cell_type": "markdown",
   "metadata": {},
   "source": [
    "## 데이터 불러오기 "
   ]
  },
  {
   "cell_type": "code",
   "execution_count": 11,
   "metadata": {},
   "outputs": [
    {
     "ename": "AttributeError",
     "evalue": "module 'pandas' has no attribute 'read'",
     "output_type": "error",
     "traceback": [
      "\u001b[1;31m---------------------------------------------------------------------------\u001b[0m",
      "\u001b[1;31mAttributeError\u001b[0m                            Traceback (most recent call last)",
      "\u001b[1;32m<ipython-input-11-2be3c92ed688>\u001b[0m in \u001b[0;36m<module>\u001b[1;34m\u001b[0m\n\u001b[1;32m----> 1\u001b[1;33m \u001b[0mpd\u001b[0m\u001b[1;33m.\u001b[0m\u001b[0mread\u001b[0m\u001b[1;33m.\u001b[0m\u001b[0mcsv\u001b[0m\u001b[1;33m(\u001b[0m\u001b[1;34m\"C:/workspaces/titanic/공공자전거 대여이력 정보_202006.csv\"\u001b[0m\u001b[1;33m,\u001b[0m \u001b[0mencording\u001b[0m\u001b[1;33m=\u001b[0m\u001b[1;34m'cp949'\u001b[0m\u001b[1;33m)\u001b[0m\u001b[1;33m\u001b[0m\u001b[1;33m\u001b[0m\u001b[0m\n\u001b[0m",
      "\u001b[1;32m~\\.conda\\envs\\env_cpu\\lib\\site-packages\\pandas\\__init__.py\u001b[0m in \u001b[0;36m__getattr__\u001b[1;34m(name)\u001b[0m\n\u001b[0;32m    256\u001b[0m             \u001b[1;32mreturn\u001b[0m \u001b[0m_SparseArray\u001b[0m\u001b[1;33m\u001b[0m\u001b[1;33m\u001b[0m\u001b[0m\n\u001b[0;32m    257\u001b[0m \u001b[1;33m\u001b[0m\u001b[0m\n\u001b[1;32m--> 258\u001b[1;33m         \u001b[1;32mraise\u001b[0m \u001b[0mAttributeError\u001b[0m\u001b[1;33m(\u001b[0m\u001b[1;34mf\"module 'pandas' has no attribute '{name}'\"\u001b[0m\u001b[1;33m)\u001b[0m\u001b[1;33m\u001b[0m\u001b[1;33m\u001b[0m\u001b[0m\n\u001b[0m\u001b[0;32m    259\u001b[0m \u001b[1;33m\u001b[0m\u001b[0m\n\u001b[0;32m    260\u001b[0m \u001b[1;33m\u001b[0m\u001b[0m\n",
      "\u001b[1;31mAttributeError\u001b[0m: module 'pandas' has no attribute 'read'"
     ]
    }
   ],
   "source": [
    "pd.read.csv(\" \", encording='cp949')"
   ]
  },
  {
   "cell_type": "code",
   "execution_count": null,
   "metadata": {},
   "outputs": [],
   "source": []
  }
 ],
 "metadata": {
  "kernelspec": {
   "display_name": "Python 3",
   "language": "python",
   "name": "python3"
  },
  "language_info": {
   "codemirror_mode": {
    "name": "ipython",
    "version": 3
   },
   "file_extension": ".py",
   "mimetype": "text/x-python",
   "name": "python",
   "nbconvert_exporter": "python",
   "pygments_lexer": "ipython3",
   "version": "3.7.7"
  }
 },
 "nbformat": 4,
 "nbformat_minor": 4
}
