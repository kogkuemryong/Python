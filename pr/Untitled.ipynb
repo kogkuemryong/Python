{
 "cells": [
  {
   "cell_type": "markdown",
   "metadata": {},
   "source": [
    "# 데이터 로드 "
   ]
  },
  {
   "cell_type": "code",
   "execution_count": 11,
   "metadata": {},
   "outputs": [],
   "source": [
    "import json\n",
    "import pandas as pd # pyhon의 exel \n",
    "import numpy as np # python의 계산기 \n",
    "\n",
    "import matplotlib.pyplot as plt # 시각화 \n",
    "import seaborn as sns\n",
    "import folium # 지도 시각화 (위치 표시)\n",
    "from folium import plugins \n",
    "import missingno as mnso # 결측치 시각화\n",
    "\n",
    "import warnings # 노트북이 간결해 보이도록 경고 문구는 출력되지 않도록 함\n",
    "warnings.filterwarnings('ignore')\n",
    "\n",
    "\n",
    "plt.rcParams['axes.unicode_minus'] = False\n",
    "plt.rcParams[\"font.family\"] = 'NanumGothic '"
   ]
  },
  {
   "cell_type": "code",
   "execution_count": 6,
   "metadata": {},
   "outputs": [
    {
     "data": {
      "text/html": [
       "<div>\n",
       "<style scoped>\n",
       "    .dataframe tbody tr th:only-of-type {\n",
       "        vertical-align: middle;\n",
       "    }\n",
       "\n",
       "    .dataframe tbody tr th {\n",
       "        vertical-align: top;\n",
       "    }\n",
       "\n",
       "    .dataframe thead th {\n",
       "        text-align: right;\n",
       "    }\n",
       "</style>\n",
       "<table border=\"1\" class=\"dataframe\">\n",
       "  <thead>\n",
       "    <tr style=\"text-align: right;\">\n",
       "      <th></th>\n",
       "      <th>자전거번호</th>\n",
       "      <th>대여일시</th>\n",
       "      <th>대여 대여소번호</th>\n",
       "      <th>대여 대여소명</th>\n",
       "      <th>대여거치대</th>\n",
       "      <th>반납일시</th>\n",
       "      <th>반납대여소번호</th>\n",
       "      <th>반납대여소명</th>\n",
       "      <th>반납거치대</th>\n",
       "      <th>이용시간</th>\n",
       "      <th>이용거리</th>\n",
       "    </tr>\n",
       "  </thead>\n",
       "  <tbody>\n",
       "    <tr>\n",
       "      <th>0</th>\n",
       "      <td>SPB-33273</td>\n",
       "      <td>2020-06-01 00:03:05</td>\n",
       "      <td>1050</td>\n",
       "      <td>둔촌역 3번 출입구</td>\n",
       "      <td>0</td>\n",
       "      <td>2020-06-01 00:05:59</td>\n",
       "      <td>1078</td>\n",
       "      <td>둔촌사거리</td>\n",
       "      <td>0</td>\n",
       "      <td>3</td>\n",
       "      <td>0.0</td>\n",
       "    </tr>\n",
       "    <tr>\n",
       "      <th>1</th>\n",
       "      <td>SPB-30703</td>\n",
       "      <td>2020-06-01 00:00:46</td>\n",
       "      <td>1132</td>\n",
       "      <td>등촌역 7번출구</td>\n",
       "      <td>0</td>\n",
       "      <td>2020-06-01 00:06:53</td>\n",
       "      <td>1169</td>\n",
       "      <td>염창역 1번 출구</td>\n",
       "      <td>0</td>\n",
       "      <td>6</td>\n",
       "      <td>0.0</td>\n",
       "    </tr>\n",
       "    <tr>\n",
       "      <th>2</th>\n",
       "      <td>SPB-31969</td>\n",
       "      <td>2020-06-01 00:02:43</td>\n",
       "      <td>1306</td>\n",
       "      <td>한성대입구역2번출구</td>\n",
       "      <td>0</td>\n",
       "      <td>2020-06-01 00:06:59</td>\n",
       "      <td>388</td>\n",
       "      <td>동성중학교 앞</td>\n",
       "      <td>0</td>\n",
       "      <td>4</td>\n",
       "      <td>0.0</td>\n",
       "    </tr>\n",
       "    <tr>\n",
       "      <th>3</th>\n",
       "      <td>SPB-19763</td>\n",
       "      <td>2020-06-01 00:00:16</td>\n",
       "      <td>956</td>\n",
       "      <td>응암시장교차로</td>\n",
       "      <td>8</td>\n",
       "      <td>2020-06-01 00:08:25</td>\n",
       "      <td>939</td>\n",
       "      <td>은평구청 교차로</td>\n",
       "      <td>6</td>\n",
       "      <td>7</td>\n",
       "      <td>1340.0</td>\n",
       "    </tr>\n",
       "    <tr>\n",
       "      <th>4</th>\n",
       "      <td>SPB-32949</td>\n",
       "      <td>2020-06-01 00:04:20</td>\n",
       "      <td>709</td>\n",
       "      <td>신정3동 현장민원실 앞</td>\n",
       "      <td>0</td>\n",
       "      <td>2020-06-01 00:08:53</td>\n",
       "      <td>712</td>\n",
       "      <td>강월초교입구 사거리</td>\n",
       "      <td>0</td>\n",
       "      <td>5</td>\n",
       "      <td>0.0</td>\n",
       "    </tr>\n",
       "  </tbody>\n",
       "</table>\n",
       "</div>"
      ],
      "text/plain": [
       "       자전거번호                 대여일시  대여 대여소번호       대여 대여소명  대여거치대  \\\n",
       "0  SPB-33273  2020-06-01 00:03:05      1050    둔촌역 3번 출입구      0   \n",
       "1  SPB-30703  2020-06-01 00:00:46      1132      등촌역 7번출구      0   \n",
       "2  SPB-31969  2020-06-01 00:02:43      1306    한성대입구역2번출구      0   \n",
       "3  SPB-19763  2020-06-01 00:00:16       956       응암시장교차로      8   \n",
       "4  SPB-32949  2020-06-01 00:04:20       709  신정3동 현장민원실 앞      0   \n",
       "\n",
       "                  반납일시  반납대여소번호      반납대여소명  반납거치대  이용시간    이용거리  \n",
       "0  2020-06-01 00:05:59     1078       둔촌사거리      0     3     0.0  \n",
       "1  2020-06-01 00:06:53     1169   염창역 1번 출구      0     6     0.0  \n",
       "2  2020-06-01 00:06:59      388     동성중학교 앞      0     4     0.0  \n",
       "3  2020-06-01 00:08:25      939    은평구청 교차로      6     7  1340.0  \n",
       "4  2020-06-01 00:08:53      712  강월초교입구 사거리      0     5     0.0  "
      ]
     },
     "execution_count": 6,
     "metadata": {},
     "output_type": "execute_result"
    }
   ],
   "source": [
    "rental = pd.read_csv(\"C:/workspaces/titanic/bi.csv\", encoding='cp949')\n",
    "rental.head()"
   ]
  },
  {
   "cell_type": "code",
   "execution_count": 7,
   "metadata": {
    "scrolled": true
   },
   "outputs": [
    {
     "data": {
      "text/plain": [
       "(1755046, 11)"
      ]
     },
     "execution_count": 7,
     "metadata": {},
     "output_type": "execute_result"
    }
   ],
   "source": [
    "rental.shape # (1755046, 11)"
   ]
  },
  {
   "cell_type": "code",
   "execution_count": 8,
   "metadata": {},
   "outputs": [
    {
     "data": {
      "text/plain": [
       "<matplotlib.axes._subplots.AxesSubplot at 0x21680284ac8>"
      ]
     },
     "execution_count": 8,
     "metadata": {},
     "output_type": "execute_result"
    },
    {
     "name": "stderr",
     "output_type": "stream",
     "text": [
      "findfont: Font family ['NanumGothic'] not found. Falling back to DejaVu Sans.\n",
      "findfont: Font family ['NanumGothic'] not found. Falling back to DejaVu Sans.\n",
      "findfont: Font family ['NanumGothic'] not found. Falling back to DejaVu Sans.\n"
     ]
    },
    {
     "data": {
      "image/png": "[encoded data removed]",
      "text/plain": [
       "<Figure size 1800x720 with 2 Axes>"
      ]
     },
     "metadata": {
      "needs_background": "light"
     },
     "output_type": "display_data"
    }
   ],
   "source": [
    "import missingno as msno \n",
    "msno.matrix(rental)"
   ]
  },
  {
   "cell_type": "markdown",
   "metadata": {},
   "source": [
    "# 1. 따릉이 대여소 위치 무작적 시각화 해보기 "
   ]
  },
  {
   "cell_type": "code",
   "execution_count": null,
   "metadata": {},
   "outputs": [],
   "source": [
    "bike_map = folium.Map(location=[rental['위도'].mean(), rental['경도'].mean()], zoom_start=10.8, tiles = 'CarotDB position')\n",
    "for i, row in rental.iterrow():\n",
    "    foloum,CircleMaker(\n",
    "        location =[row['위도'], row['경도']],\n",
    "        radius = 1,\n",
    "        fill )"
   ]
  }
 ],
 "metadata": {
  "kernelspec": {
   "display_name": "Python 3",
   "language": "python",
   "name": "python3"
  },
  "language_info": {
   "codemirror_mode": {
    "name": "ipython",
    "version": 3
   },
   "file_extension": ".py",
   "mimetype": "text/x-python",
   "name": "python",
   "nbconvert_exporter": "python",
   "pygments_lexer": "ipython3",
   "version": "3.7.7"
  }
 },
 "nbformat": 4,
 "nbformat_minor": 4
}
